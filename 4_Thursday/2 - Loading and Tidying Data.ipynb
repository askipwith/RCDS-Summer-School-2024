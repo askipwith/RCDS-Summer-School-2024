{
 "cells": [
  {
   "cell_type": "markdown",
   "metadata": {},
   "source": [
    "# Loading and Tidying Data"
   ]
  },
  {
   "cell_type": "markdown",
   "metadata": {},
   "source": [
    "In this notebook we will focus on some data taken from the [GapMinder](https://www.gapminder.org/data/) project."
   ]
  },
  {
   "cell_type": "markdown",
   "metadata": {},
   "source": [
    "***\n",
    "\n",
    "## Missing data"
   ]
  },
  {
   "cell_type": "markdown",
   "metadata": {},
   "source": [
    "Let's load some data from a CSV file using `read_csv`:"
   ]
  },
  {
   "cell_type": "code",
   "execution_count": 107,
   "metadata": {},
   "outputs": [
    {
     "data": {
      "text/html": [
       "<div>\n",
       "<style scoped>\n",
       "    .dataframe tbody tr th:only-of-type {\n",
       "        vertical-align: middle;\n",
       "    }\n",
       "\n",
       "    .dataframe tbody tr th {\n",
       "        vertical-align: top;\n",
       "    }\n",
       "\n",
       "    .dataframe thead th {\n",
       "        text-align: right;\n",
       "    }\n",
       "</style>\n",
       "<table border=\"1\" class=\"dataframe\">\n",
       "  <thead>\n",
       "    <tr style=\"text-align: right;\">\n",
       "      <th></th>\n",
       "      <th>country</th>\n",
       "      <th>1751</th>\n",
       "      <th>1752</th>\n",
       "      <th>1753</th>\n",
       "      <th>1754</th>\n",
       "      <th>1755</th>\n",
       "      <th>1756</th>\n",
       "      <th>1757</th>\n",
       "      <th>1758</th>\n",
       "      <th>1759</th>\n",
       "      <th>...</th>\n",
       "      <th>2005</th>\n",
       "      <th>2006</th>\n",
       "      <th>2007</th>\n",
       "      <th>2008</th>\n",
       "      <th>2009</th>\n",
       "      <th>2010</th>\n",
       "      <th>2011</th>\n",
       "      <th>2012</th>\n",
       "      <th>2013</th>\n",
       "      <th>2014</th>\n",
       "    </tr>\n",
       "  </thead>\n",
       "  <tbody>\n",
       "    <tr>\n",
       "      <th>0</th>\n",
       "      <td>Afghanistan</td>\n",
       "      <td>NaN</td>\n",
       "      <td>NaN</td>\n",
       "      <td>NaN</td>\n",
       "      <td>NaN</td>\n",
       "      <td>NaN</td>\n",
       "      <td>NaN</td>\n",
       "      <td>NaN</td>\n",
       "      <td>NaN</td>\n",
       "      <td>NaN</td>\n",
       "      <td>...</td>\n",
       "      <td>1330.0</td>\n",
       "      <td>1650.0</td>\n",
       "      <td>2270.0</td>\n",
       "      <td>4210.0</td>\n",
       "      <td>6770.0</td>\n",
       "      <td>8460.0</td>\n",
       "      <td>12200.0</td>\n",
       "      <td>10800.0</td>\n",
       "      <td>10000.0</td>\n",
       "      <td>9810.0</td>\n",
       "    </tr>\n",
       "    <tr>\n",
       "      <th>1</th>\n",
       "      <td>Albania</td>\n",
       "      <td>NaN</td>\n",
       "      <td>NaN</td>\n",
       "      <td>NaN</td>\n",
       "      <td>NaN</td>\n",
       "      <td>NaN</td>\n",
       "      <td>NaN</td>\n",
       "      <td>NaN</td>\n",
       "      <td>NaN</td>\n",
       "      <td>NaN</td>\n",
       "      <td>...</td>\n",
       "      <td>4250.0</td>\n",
       "      <td>3900.0</td>\n",
       "      <td>3930.0</td>\n",
       "      <td>4370.0</td>\n",
       "      <td>4380.0</td>\n",
       "      <td>4600.0</td>\n",
       "      <td>5240.0</td>\n",
       "      <td>4910.0</td>\n",
       "      <td>5060.0</td>\n",
       "      <td>5720.0</td>\n",
       "    </tr>\n",
       "    <tr>\n",
       "      <th>2</th>\n",
       "      <td>Algeria</td>\n",
       "      <td>NaN</td>\n",
       "      <td>NaN</td>\n",
       "      <td>NaN</td>\n",
       "      <td>NaN</td>\n",
       "      <td>NaN</td>\n",
       "      <td>NaN</td>\n",
       "      <td>NaN</td>\n",
       "      <td>NaN</td>\n",
       "      <td>NaN</td>\n",
       "      <td>...</td>\n",
       "      <td>107000.0</td>\n",
       "      <td>101000.0</td>\n",
       "      <td>109000.0</td>\n",
       "      <td>110000.0</td>\n",
       "      <td>121000.0</td>\n",
       "      <td>119000.0</td>\n",
       "      <td>121000.0</td>\n",
       "      <td>130000.0</td>\n",
       "      <td>134000.0</td>\n",
       "      <td>145000.0</td>\n",
       "    </tr>\n",
       "    <tr>\n",
       "      <th>3</th>\n",
       "      <td>Andorra</td>\n",
       "      <td>NaN</td>\n",
       "      <td>NaN</td>\n",
       "      <td>NaN</td>\n",
       "      <td>NaN</td>\n",
       "      <td>NaN</td>\n",
       "      <td>NaN</td>\n",
       "      <td>NaN</td>\n",
       "      <td>NaN</td>\n",
       "      <td>NaN</td>\n",
       "      <td>...</td>\n",
       "      <td>576.0</td>\n",
       "      <td>546.0</td>\n",
       "      <td>539.0</td>\n",
       "      <td>539.0</td>\n",
       "      <td>517.0</td>\n",
       "      <td>517.0</td>\n",
       "      <td>491.0</td>\n",
       "      <td>488.0</td>\n",
       "      <td>477.0</td>\n",
       "      <td>462.0</td>\n",
       "    </tr>\n",
       "    <tr>\n",
       "      <th>4</th>\n",
       "      <td>Angola</td>\n",
       "      <td>NaN</td>\n",
       "      <td>NaN</td>\n",
       "      <td>NaN</td>\n",
       "      <td>NaN</td>\n",
       "      <td>NaN</td>\n",
       "      <td>NaN</td>\n",
       "      <td>NaN</td>\n",
       "      <td>NaN</td>\n",
       "      <td>NaN</td>\n",
       "      <td>...</td>\n",
       "      <td>19200.0</td>\n",
       "      <td>22300.0</td>\n",
       "      <td>25200.0</td>\n",
       "      <td>25700.0</td>\n",
       "      <td>27800.0</td>\n",
       "      <td>29100.0</td>\n",
       "      <td>30300.0</td>\n",
       "      <td>33400.0</td>\n",
       "      <td>32600.0</td>\n",
       "      <td>34800.0</td>\n",
       "    </tr>\n",
       "  </tbody>\n",
       "</table>\n",
       "<p>5 rows × 265 columns</p>\n",
       "</div>"
      ],
      "text/plain": [
       "       country  1751  1752  1753  1754  1755  1756  1757  1758  1759  ...  \\\n",
       "0  Afghanistan   NaN   NaN   NaN   NaN   NaN   NaN   NaN   NaN   NaN  ...   \n",
       "1      Albania   NaN   NaN   NaN   NaN   NaN   NaN   NaN   NaN   NaN  ...   \n",
       "2      Algeria   NaN   NaN   NaN   NaN   NaN   NaN   NaN   NaN   NaN  ...   \n",
       "3      Andorra   NaN   NaN   NaN   NaN   NaN   NaN   NaN   NaN   NaN  ...   \n",
       "4       Angola   NaN   NaN   NaN   NaN   NaN   NaN   NaN   NaN   NaN  ...   \n",
       "\n",
       "       2005      2006      2007      2008      2009      2010      2011  \\\n",
       "0    1330.0    1650.0    2270.0    4210.0    6770.0    8460.0   12200.0   \n",
       "1    4250.0    3900.0    3930.0    4370.0    4380.0    4600.0    5240.0   \n",
       "2  107000.0  101000.0  109000.0  110000.0  121000.0  119000.0  121000.0   \n",
       "3     576.0     546.0     539.0     539.0     517.0     517.0     491.0   \n",
       "4   19200.0   22300.0   25200.0   25700.0   27800.0   29100.0   30300.0   \n",
       "\n",
       "       2012      2013      2014  \n",
       "0   10800.0   10000.0    9810.0  \n",
       "1    4910.0    5060.0    5720.0  \n",
       "2  130000.0  134000.0  145000.0  \n",
       "3     488.0     477.0     462.0  \n",
       "4   33400.0   32600.0   34800.0  \n",
       "\n",
       "[5 rows x 265 columns]"
      ]
     },
     "execution_count": 107,
     "metadata": {},
     "output_type": "execute_result"
    }
   ],
   "source": [
    "import pandas as pd\n",
    "\n",
    "data = pd.read_csv(\"yearly_co2_emissions_1000_tonnes.csv\")\n",
    "data.head()"
   ]
  },
  {
   "cell_type": "markdown",
   "metadata": {},
   "source": [
    "This is a straightforward numerical DataFrame which contains a lot of missing values (shown as `NaN`). \n",
    "The table shows annual CO<sub>2</sub> emissions from burning fossil fuels for each country.\n",
    "\n",
    "We can investigate missing data using the [`isnull`](https://pandas.pydata.org/pandas-docs/stable/reference/api/pandas.DataFrame.isnull.html) method, e.g.:"
   ]
  },
  {
   "cell_type": "code",
   "execution_count": 108,
   "metadata": {},
   "outputs": [
    {
     "data": {
      "text/plain": [
       "np.int64(33772)"
      ]
     },
     "execution_count": 108,
     "metadata": {},
     "output_type": "execute_result"
    }
   ],
   "source": [
    "df=data.isnull()\n",
    "df.sum().sum()"
   ]
  },
  {
   "cell_type": "markdown",
   "metadata": {},
   "source": [
    "#### Question\n",
    "How many values are missing in `data`?"
   ]
  },
  {
   "cell_type": "code",
   "execution_count": null,
   "metadata": {},
   "outputs": [],
   "source": []
  },
  {
   "cell_type": "markdown",
   "metadata": {},
   "source": [
    "***\n",
    "\n",
    "## Tidying up!\n",
    "\n",
    "Data scientists put a lot of emphasis on working with **tidy** data. What do we mean by that?\n",
    "\n",
    "Tidy data follows the following three rules:\n",
    "\n",
    "1. Each column is a variable\n",
    "2. Each row is an observation (also known as a \"case\")\n",
    "3. Each cell contains a single value.\n",
    "\n",
    "When data is tidy, we can visualise and analyse it more easily.\n",
    "\n",
    "However, most of the data tables that you encounter \"in the wild\" will not be tidy by this definition, so pandas provides functions to help reshape them into a tidy form.\n",
    "\n",
    "\n",
    "#### Exercise\n",
    "Look at the CO<sub>2</sub> data. What are the variables in this dataset?"
   ]
  },
  {
   "cell_type": "code",
   "execution_count": null,
   "metadata": {},
   "outputs": [],
   "source": []
  },
  {
   "cell_type": "markdown",
   "metadata": {},
   "source": [
    "### [`melt`](https://pandas.pydata.org/pandas-docs/stable/reference/api/pandas.DataFrame.melt.html)\n",
    "\n",
    "We can use the `melt` method to reshape the data:"
   ]
  },
  {
   "cell_type": "code",
   "execution_count": 109,
   "metadata": {},
   "outputs": [
    {
     "name": "stdout",
     "output_type": "stream",
     "text": [
      "The 'data' dataframe takes up 397.63 KB\n",
      "The initial 'df' dataframe takes up 1188.13 KB\n",
      "The cleaned 'df' dataframe takes up 528.62 KB\n"
     ]
    },
    {
     "data": {
      "text/html": [
       "<div>\n",
       "<style scoped>\n",
       "    .dataframe tbody tr th:only-of-type {\n",
       "        vertical-align: middle;\n",
       "    }\n",
       "\n",
       "    .dataframe tbody tr th {\n",
       "        vertical-align: top;\n",
       "    }\n",
       "\n",
       "    .dataframe thead th {\n",
       "        text-align: right;\n",
       "    }\n",
       "</style>\n",
       "<table border=\"1\" class=\"dataframe\">\n",
       "  <thead>\n",
       "    <tr style=\"text-align: right;\">\n",
       "      <th></th>\n",
       "      <th>country</th>\n",
       "      <th>year</th>\n",
       "      <th>kt</th>\n",
       "    </tr>\n",
       "  </thead>\n",
       "  <tbody>\n",
       "    <tr>\n",
       "      <th>182</th>\n",
       "      <td>United Kingdom</td>\n",
       "      <td>1751</td>\n",
       "      <td>9360.0</td>\n",
       "    </tr>\n",
       "    <tr>\n",
       "      <th>374</th>\n",
       "      <td>United Kingdom</td>\n",
       "      <td>1752</td>\n",
       "      <td>9360.0</td>\n",
       "    </tr>\n",
       "    <tr>\n",
       "      <th>566</th>\n",
       "      <td>United Kingdom</td>\n",
       "      <td>1753</td>\n",
       "      <td>9360.0</td>\n",
       "    </tr>\n",
       "    <tr>\n",
       "      <th>758</th>\n",
       "      <td>United Kingdom</td>\n",
       "      <td>1754</td>\n",
       "      <td>9370.0</td>\n",
       "    </tr>\n",
       "    <tr>\n",
       "      <th>950</th>\n",
       "      <td>United Kingdom</td>\n",
       "      <td>1755</td>\n",
       "      <td>9370.0</td>\n",
       "    </tr>\n",
       "    <tr>\n",
       "      <th>...</th>\n",
       "      <td>...</td>\n",
       "      <td>...</td>\n",
       "      <td>...</td>\n",
       "    </tr>\n",
       "    <tr>\n",
       "      <th>50683</th>\n",
       "      <td>Venezuela</td>\n",
       "      <td>2014</td>\n",
       "      <td>185000.0</td>\n",
       "    </tr>\n",
       "    <tr>\n",
       "      <th>50684</th>\n",
       "      <td>Vietnam</td>\n",
       "      <td>2014</td>\n",
       "      <td>167000.0</td>\n",
       "    </tr>\n",
       "    <tr>\n",
       "      <th>50685</th>\n",
       "      <td>Yemen</td>\n",
       "      <td>2014</td>\n",
       "      <td>22700.0</td>\n",
       "    </tr>\n",
       "    <tr>\n",
       "      <th>50686</th>\n",
       "      <td>Zambia</td>\n",
       "      <td>2014</td>\n",
       "      <td>4500.0</td>\n",
       "    </tr>\n",
       "    <tr>\n",
       "      <th>50687</th>\n",
       "      <td>Zimbabwe</td>\n",
       "      <td>2014</td>\n",
       "      <td>12000.0</td>\n",
       "    </tr>\n",
       "  </tbody>\n",
       "</table>\n",
       "<p>16916 rows × 3 columns</p>\n",
       "</div>"
      ],
      "text/plain": [
       "              country  year        kt\n",
       "182    United Kingdom  1751    9360.0\n",
       "374    United Kingdom  1752    9360.0\n",
       "566    United Kingdom  1753    9360.0\n",
       "758    United Kingdom  1754    9370.0\n",
       "950    United Kingdom  1755    9370.0\n",
       "...               ...   ...       ...\n",
       "50683       Venezuela  2014  185000.0\n",
       "50684         Vietnam  2014  167000.0\n",
       "50685           Yemen  2014   22700.0\n",
       "50686          Zambia  2014    4500.0\n",
       "50687        Zimbabwe  2014   12000.0\n",
       "\n",
       "[16916 rows x 3 columns]"
      ]
     },
     "execution_count": 109,
     "metadata": {},
     "output_type": "execute_result"
    }
   ],
   "source": [
    "import pandas as pd\n",
    "\n",
    "data = pd.read_csv(\"yearly_co2_emissions_1000_tonnes.csv\")\n",
    "print(f\"The 'data' dataframe takes up {data.memory_usage().sum() / 1024:.2f} KB\")\n",
    "\n",
    "df = data.melt(id_vars=['country'], var_name='year', value_name='kt')\n",
    "print(f\"The initial 'df' dataframe takes up {df.memory_usage().sum() / 1024:.2f} KB\")\n",
    "df=df.dropna()\n",
    "print(f\"The cleaned 'df' dataframe takes up {df.memory_usage().sum() / 1024:.2f} KB\")\n",
    "\n",
    "df"
   ]
  },
  {
   "cell_type": "markdown",
   "metadata": {},
   "source": [
    "`melt` works to *lengthen* the data table by collecting values from multiple columns.\n",
    "\n",
    "We specify the columns to hold fixed (`country`) and provide the names of two new variables, one to hold the old column labels (`year`) and one to hold\n",
    "the values collected (`kt`). \n",
    "\n",
    "`df` currently has a lot of useless rows.\n",
    "We can use the [`dropna`](https://pandas.pydata.org/pandas-docs/stable/reference/api/pandas.DataFrame.dropna.html) method to remove rows that contain missing data (`NaN`):"
   ]
  },
  {
   "cell_type": "code",
   "execution_count": 110,
   "metadata": {},
   "outputs": [
    {
     "data": {
      "text/html": [
       "<div>\n",
       "<style scoped>\n",
       "    .dataframe tbody tr th:only-of-type {\n",
       "        vertical-align: middle;\n",
       "    }\n",
       "\n",
       "    .dataframe tbody tr th {\n",
       "        vertical-align: top;\n",
       "    }\n",
       "\n",
       "    .dataframe thead th {\n",
       "        text-align: right;\n",
       "    }\n",
       "</style>\n",
       "<table border=\"1\" class=\"dataframe\">\n",
       "  <thead>\n",
       "    <tr style=\"text-align: right;\">\n",
       "      <th></th>\n",
       "      <th>country</th>\n",
       "      <th>year</th>\n",
       "      <th>kt</th>\n",
       "    </tr>\n",
       "  </thead>\n",
       "  <tbody>\n",
       "    <tr>\n",
       "      <th>182</th>\n",
       "      <td>United Kingdom</td>\n",
       "      <td>1751</td>\n",
       "      <td>9360.0</td>\n",
       "    </tr>\n",
       "    <tr>\n",
       "      <th>374</th>\n",
       "      <td>United Kingdom</td>\n",
       "      <td>1752</td>\n",
       "      <td>9360.0</td>\n",
       "    </tr>\n",
       "    <tr>\n",
       "      <th>566</th>\n",
       "      <td>United Kingdom</td>\n",
       "      <td>1753</td>\n",
       "      <td>9360.0</td>\n",
       "    </tr>\n",
       "    <tr>\n",
       "      <th>758</th>\n",
       "      <td>United Kingdom</td>\n",
       "      <td>1754</td>\n",
       "      <td>9370.0</td>\n",
       "    </tr>\n",
       "    <tr>\n",
       "      <th>950</th>\n",
       "      <td>United Kingdom</td>\n",
       "      <td>1755</td>\n",
       "      <td>9370.0</td>\n",
       "    </tr>\n",
       "    <tr>\n",
       "      <th>...</th>\n",
       "      <td>...</td>\n",
       "      <td>...</td>\n",
       "      <td>...</td>\n",
       "    </tr>\n",
       "    <tr>\n",
       "      <th>50683</th>\n",
       "      <td>Venezuela</td>\n",
       "      <td>2014</td>\n",
       "      <td>185000.0</td>\n",
       "    </tr>\n",
       "    <tr>\n",
       "      <th>50684</th>\n",
       "      <td>Vietnam</td>\n",
       "      <td>2014</td>\n",
       "      <td>167000.0</td>\n",
       "    </tr>\n",
       "    <tr>\n",
       "      <th>50685</th>\n",
       "      <td>Yemen</td>\n",
       "      <td>2014</td>\n",
       "      <td>22700.0</td>\n",
       "    </tr>\n",
       "    <tr>\n",
       "      <th>50686</th>\n",
       "      <td>Zambia</td>\n",
       "      <td>2014</td>\n",
       "      <td>4500.0</td>\n",
       "    </tr>\n",
       "    <tr>\n",
       "      <th>50687</th>\n",
       "      <td>Zimbabwe</td>\n",
       "      <td>2014</td>\n",
       "      <td>12000.0</td>\n",
       "    </tr>\n",
       "  </tbody>\n",
       "</table>\n",
       "<p>16916 rows × 3 columns</p>\n",
       "</div>"
      ],
      "text/plain": [
       "              country  year        kt\n",
       "182    United Kingdom  1751    9360.0\n",
       "374    United Kingdom  1752    9360.0\n",
       "566    United Kingdom  1753    9360.0\n",
       "758    United Kingdom  1754    9370.0\n",
       "950    United Kingdom  1755    9370.0\n",
       "...               ...   ...       ...\n",
       "50683       Venezuela  2014  185000.0\n",
       "50684         Vietnam  2014  167000.0\n",
       "50685           Yemen  2014   22700.0\n",
       "50686          Zambia  2014    4500.0\n",
       "50687        Zimbabwe  2014   12000.0\n",
       "\n",
       "[16916 rows x 3 columns]"
      ]
     },
     "execution_count": 110,
     "metadata": {},
     "output_type": "execute_result"
    }
   ],
   "source": [
    "df = df.dropna()\n",
    "df"
   ]
  },
  {
   "cell_type": "markdown",
   "metadata": {},
   "source": [
    "Let's store the tidied data in a new variable, `co2`:"
   ]
  },
  {
   "cell_type": "code",
   "execution_count": 111,
   "metadata": {},
   "outputs": [],
   "source": [
    "co2 = df"
   ]
  },
  {
   "cell_type": "markdown",
   "metadata": {},
   "source": [
    "#### Exercise\n",
    "\n",
    "How much CO<sub>2</sub> was emitted globally  before 1900?"
   ]
  },
  {
   "cell_type": "code",
   "execution_count": 112,
   "metadata": {},
   "outputs": [
    {
     "data": {
      "text/plain": [
       "np.float64(42898103.1421)"
      ]
     },
     "execution_count": 112,
     "metadata": {},
     "output_type": "execute_result"
    }
   ],
   "source": [
    "df['year'] = df['year'].astype(int)\n",
    "df.query('year < 1900')['kt'].sum()\n"
   ]
  },
  {
   "cell_type": "markdown",
   "metadata": {},
   "source": [
    "### Changing data type\n",
    "\n",
    "There seems to be an issue with the new `year` column. We can check its data type:"
   ]
  },
  {
   "cell_type": "code",
   "execution_count": 113,
   "metadata": {},
   "outputs": [
    {
     "data": {
      "text/plain": [
       "country     object\n",
       "year         int64\n",
       "kt         float64\n",
       "dtype: object"
      ]
     },
     "execution_count": 113,
     "metadata": {},
     "output_type": "execute_result"
    }
   ],
   "source": [
    "co2.dtypes"
   ]
  },
  {
   "cell_type": "markdown",
   "metadata": {},
   "source": [
    "The `year` column is shown as having an `object` data type, not an `int` as expected. \n",
    "\n",
    "This is because the years have been derived from column names (strings) in the previous version of the table. Let's fix this before going any further:"
   ]
  },
  {
   "cell_type": "code",
   "execution_count": 114,
   "metadata": {},
   "outputs": [
    {
     "data": {
      "text/plain": [
       "country     object\n",
       "year         int64\n",
       "kt         float64\n",
       "dtype: object"
      ]
     },
     "execution_count": 114,
     "metadata": {},
     "output_type": "execute_result"
    }
   ],
   "source": [
    "df = co2.copy()\n",
    "df['year'] = df['year'].astype(int)\n",
    "df.dtypes"
   ]
  },
  {
   "cell_type": "markdown",
   "metadata": {},
   "source": [
    "That looks much better!"
   ]
  },
  {
   "cell_type": "code",
   "execution_count": 115,
   "metadata": {},
   "outputs": [],
   "source": [
    "co2 = df"
   ]
  },
  {
   "cell_type": "markdown",
   "metadata": {},
   "source": [
    "#### Exercise (again)\n",
    "\n",
    "How much CO<sub>2</sub> was emitted globally  before 1900?"
   ]
  },
  {
   "cell_type": "code",
   "execution_count": null,
   "metadata": {},
   "outputs": [],
   "source": []
  },
  {
   "cell_type": "markdown",
   "metadata": {},
   "source": [
    "Plot the annual CO2 emissions of a country of your choice."
   ]
  },
  {
   "cell_type": "code",
   "execution_count": 116,
   "metadata": {},
   "outputs": [
    {
     "name": "stdout",
     "output_type": "stream",
     "text": [
      "The 'data' dataframe takes up 397.63 KB\n",
      "The initial 'co2' dataframe takes up 528.62 KB\n",
      "The cleaned 'co2' dataframe takes up 528.62 KB\n"
     ]
    },
    {
     "data": {
      "image/png": "[encoded data removed]",
      "text/plain": [
       "<Figure size 640x480 with 1 Axes>"
      ]
     },
     "metadata": {},
     "output_type": "display_data"
    }
   ],
   "source": [
    "import matplotlib.pyplot as plt\n",
    "import pandas as pd\n",
    "\n",
    "data = pd.read_csv(\"yearly_co2_emissions_1000_tonnes.csv\")\n",
    "print(f\"The 'data' dataframe takes up {data.memory_usage().sum() / 1024:.2f} KB\")\n",
    "co2 = data.melt(id_vars=['country'], var_name='year', value_name='kt')\n",
    "print(f\"The initial 'co2' dataframe takes up {df.memory_usage().sum() / 1024:.2f} KB\")\n",
    "co2=co2.dropna()\n",
    "print(f\"The cleaned 'co2' dataframe takes up {df.memory_usage().sum() / 1024:.2f} KB\")\n",
    "\n",
    "country=input('Enter country name: ')\n",
    "\n",
    "df = co2\n",
    "df['year'] = df['year'].astype(int)\n",
    "df=df.query('country == @country')\n",
    "\n",
    "x = df['year']\n",
    "y = df['kt']\n",
    "plt.plot(x,y)\n",
    "plt.title(f\"CO2 emissions for {country}\")\n",
    "plt.show()\n"
   ]
  },
  {
   "cell_type": "code",
   "execution_count": 129,
   "metadata": {},
   "outputs": [
    {
     "data": {
      "text/plain": [
       "<Axes: xlabel='year'>"
      ]
     },
     "execution_count": 129,
     "metadata": {},
     "output_type": "execute_result"
    },
    {
     "data": {
      "image/png": "[encoded data removed]",
      "text/plain": [
       "<Figure size 640x480 with 1 Axes>"
      ]
     },
     "metadata": {},
     "output_type": "display_data"
    }
   ],
   "source": [
    "sums = co2.groupby('year')['kt'].sum()\n",
    "sums.plot()\n"
   ]
  },
  {
   "cell_type": "markdown",
   "metadata": {},
   "source": [
    "***\n",
    "\n",
    "## Missing headers\n",
    "\n",
    "Now that `co2` is in a tidy form, let's look at another example. `stats_1997.csv` is a CSV file containing GDP and population for various countries for the year 1997.\n",
    "\n",
    "Actually this file is not in correct CSV format, because it is missing a header row. You can open it in Excel to verify this. However, we can still load it using `read_csv` as follows:"
   ]
  },
  {
   "cell_type": "code",
   "execution_count": 117,
   "metadata": {},
   "outputs": [
    {
     "data": {
      "text/html": [
       "<div>\n",
       "<style scoped>\n",
       "    .dataframe tbody tr th:only-of-type {\n",
       "        vertical-align: middle;\n",
       "    }\n",
       "\n",
       "    .dataframe tbody tr th {\n",
       "        vertical-align: top;\n",
       "    }\n",
       "\n",
       "    .dataframe thead th {\n",
       "        text-align: right;\n",
       "    }\n",
       "</style>\n",
       "<table border=\"1\" class=\"dataframe\">\n",
       "  <thead>\n",
       "    <tr style=\"text-align: right;\">\n",
       "      <th></th>\n",
       "      <th>0</th>\n",
       "      <th>1</th>\n",
       "    </tr>\n",
       "  </thead>\n",
       "  <tbody>\n",
       "    <tr>\n",
       "      <th>0</th>\n",
       "      <td>afg-pop</td>\n",
       "      <td>18400000</td>\n",
       "    </tr>\n",
       "    <tr>\n",
       "      <th>1</th>\n",
       "      <td>ago-gdp</td>\n",
       "      <td>25700000000</td>\n",
       "    </tr>\n",
       "    <tr>\n",
       "      <th>2</th>\n",
       "      <td>ago-pop</td>\n",
       "      <td>15100000</td>\n",
       "    </tr>\n",
       "    <tr>\n",
       "      <th>3</th>\n",
       "      <td>alb-gdp</td>\n",
       "      <td>5470000000</td>\n",
       "    </tr>\n",
       "    <tr>\n",
       "      <th>4</th>\n",
       "      <td>alb-pop</td>\n",
       "      <td>3090000</td>\n",
       "    </tr>\n",
       "    <tr>\n",
       "      <th>...</th>\n",
       "      <td>...</td>\n",
       "      <td>...</td>\n",
       "    </tr>\n",
       "    <tr>\n",
       "      <th>370</th>\n",
       "      <td>zaf-pop</td>\n",
       "      <td>43700000</td>\n",
       "    </tr>\n",
       "    <tr>\n",
       "      <th>371</th>\n",
       "      <td>zmb-gdp</td>\n",
       "      <td>9120000000</td>\n",
       "    </tr>\n",
       "    <tr>\n",
       "      <th>372</th>\n",
       "      <td>zmb-pop</td>\n",
       "      <td>9670000</td>\n",
       "    </tr>\n",
       "    <tr>\n",
       "      <th>373</th>\n",
       "      <td>zwe-gdp</td>\n",
       "      <td>15600000000</td>\n",
       "    </tr>\n",
       "    <tr>\n",
       "      <th>374</th>\n",
       "      <td>zwe-pop</td>\n",
       "      <td>11700000</td>\n",
       "    </tr>\n",
       "  </tbody>\n",
       "</table>\n",
       "<p>375 rows × 2 columns</p>\n",
       "</div>"
      ],
      "text/plain": [
       "           0            1\n",
       "0    afg-pop     18400000\n",
       "1    ago-gdp  25700000000\n",
       "2    ago-pop     15100000\n",
       "3    alb-gdp   5470000000\n",
       "4    alb-pop      3090000\n",
       "..       ...          ...\n",
       "370  zaf-pop     43700000\n",
       "371  zmb-gdp   9120000000\n",
       "372  zmb-pop      9670000\n",
       "373  zwe-gdp  15600000000\n",
       "374  zwe-pop     11700000\n",
       "\n",
       "[375 rows x 2 columns]"
      ]
     },
     "execution_count": 117,
     "metadata": {},
     "output_type": "execute_result"
    }
   ],
   "source": [
    "data = pd.read_csv(\"stats_1997.csv\", header=None)\n",
    "data"
   ]
  },
  {
   "cell_type": "markdown",
   "metadata": {},
   "source": [
    "You can see that the two columns in this file have been given the labels `0` and `1`.\n",
    "\n",
    "This file looks a bit harder to tidy. \n",
    "\n",
    "#### Exercise\n",
    "\n",
    "What are the variables in this data set and what are the observations?"
   ]
  },
  {
   "cell_type": "code",
   "execution_count": 118,
   "metadata": {},
   "outputs": [
    {
     "data": {
      "text/html": [
       "<div>\n",
       "<style scoped>\n",
       "    .dataframe tbody tr th:only-of-type {\n",
       "        vertical-align: middle;\n",
       "    }\n",
       "\n",
       "    .dataframe tbody tr th {\n",
       "        vertical-align: top;\n",
       "    }\n",
       "\n",
       "    .dataframe thead th {\n",
       "        text-align: right;\n",
       "    }\n",
       "</style>\n",
       "<table border=\"1\" class=\"dataframe\">\n",
       "  <thead>\n",
       "    <tr style=\"text-align: right;\">\n",
       "      <th></th>\n",
       "      <th>geo</th>\n",
       "      <th>statistic</th>\n",
       "    </tr>\n",
       "  </thead>\n",
       "  <tbody>\n",
       "    <tr>\n",
       "      <th>0</th>\n",
       "      <td>afg</td>\n",
       "      <td>pop</td>\n",
       "    </tr>\n",
       "    <tr>\n",
       "      <th>1</th>\n",
       "      <td>ago</td>\n",
       "      <td>gdp</td>\n",
       "    </tr>\n",
       "    <tr>\n",
       "      <th>2</th>\n",
       "      <td>ago</td>\n",
       "      <td>pop</td>\n",
       "    </tr>\n",
       "    <tr>\n",
       "      <th>3</th>\n",
       "      <td>alb</td>\n",
       "      <td>gdp</td>\n",
       "    </tr>\n",
       "    <tr>\n",
       "      <th>4</th>\n",
       "      <td>alb</td>\n",
       "      <td>pop</td>\n",
       "    </tr>\n",
       "    <tr>\n",
       "      <th>...</th>\n",
       "      <td>...</td>\n",
       "      <td>...</td>\n",
       "    </tr>\n",
       "    <tr>\n",
       "      <th>370</th>\n",
       "      <td>zaf</td>\n",
       "      <td>pop</td>\n",
       "    </tr>\n",
       "    <tr>\n",
       "      <th>371</th>\n",
       "      <td>zmb</td>\n",
       "      <td>gdp</td>\n",
       "    </tr>\n",
       "    <tr>\n",
       "      <th>372</th>\n",
       "      <td>zmb</td>\n",
       "      <td>pop</td>\n",
       "    </tr>\n",
       "    <tr>\n",
       "      <th>373</th>\n",
       "      <td>zwe</td>\n",
       "      <td>gdp</td>\n",
       "    </tr>\n",
       "    <tr>\n",
       "      <th>374</th>\n",
       "      <td>zwe</td>\n",
       "      <td>pop</td>\n",
       "    </tr>\n",
       "  </tbody>\n",
       "</table>\n",
       "<p>375 rows × 2 columns</p>\n",
       "</div>"
      ],
      "text/plain": [
       "     geo statistic\n",
       "0    afg       pop\n",
       "1    ago       gdp\n",
       "2    ago       pop\n",
       "3    alb       gdp\n",
       "4    alb       pop\n",
       "..   ...       ...\n",
       "370  zaf       pop\n",
       "371  zmb       gdp\n",
       "372  zmb       pop\n",
       "373  zwe       gdp\n",
       "374  zwe       pop\n",
       "\n",
       "[375 rows x 2 columns]"
      ]
     },
     "execution_count": 118,
     "metadata": {},
     "output_type": "execute_result"
    }
   ],
   "source": [
    "df = data[0].str.split('-', expand=True)\n",
    "df.columns = ['geo', 'statistic']\n",
    "df"
   ]
  },
  {
   "cell_type": "markdown",
   "metadata": {},
   "source": [
    "***\n",
    "\n",
    "## More tidying up!\n",
    "\n",
    "### [`str.split`](https://pandas.pydata.org/pandas-docs/stable/reference/api/pandas.Series.str.split.html)\n",
    "\n",
    "First, we need to split the data from column `0` into two columns: one for the three-letter country code (the variable that was called `geo` in the Excel workbook), and one for the type of measurement (GDP or population).\n",
    "We can do this with a Series method called `str.split`:"
   ]
  },
  {
   "cell_type": "code",
   "execution_count": 119,
   "metadata": {},
   "outputs": [
    {
     "data": {
      "text/html": [
       "<div>\n",
       "<style scoped>\n",
       "    .dataframe tbody tr th:only-of-type {\n",
       "        vertical-align: middle;\n",
       "    }\n",
       "\n",
       "    .dataframe tbody tr th {\n",
       "        vertical-align: top;\n",
       "    }\n",
       "\n",
       "    .dataframe thead th {\n",
       "        text-align: right;\n",
       "    }\n",
       "</style>\n",
       "<table border=\"1\" class=\"dataframe\">\n",
       "  <thead>\n",
       "    <tr style=\"text-align: right;\">\n",
       "      <th></th>\n",
       "      <th>0</th>\n",
       "      <th>1</th>\n",
       "    </tr>\n",
       "  </thead>\n",
       "  <tbody>\n",
       "    <tr>\n",
       "      <th>0</th>\n",
       "      <td>afg</td>\n",
       "      <td>pop</td>\n",
       "    </tr>\n",
       "    <tr>\n",
       "      <th>1</th>\n",
       "      <td>ago</td>\n",
       "      <td>gdp</td>\n",
       "    </tr>\n",
       "    <tr>\n",
       "      <th>2</th>\n",
       "      <td>ago</td>\n",
       "      <td>pop</td>\n",
       "    </tr>\n",
       "    <tr>\n",
       "      <th>3</th>\n",
       "      <td>alb</td>\n",
       "      <td>gdp</td>\n",
       "    </tr>\n",
       "    <tr>\n",
       "      <th>4</th>\n",
       "      <td>alb</td>\n",
       "      <td>pop</td>\n",
       "    </tr>\n",
       "    <tr>\n",
       "      <th>...</th>\n",
       "      <td>...</td>\n",
       "      <td>...</td>\n",
       "    </tr>\n",
       "    <tr>\n",
       "      <th>370</th>\n",
       "      <td>zaf</td>\n",
       "      <td>pop</td>\n",
       "    </tr>\n",
       "    <tr>\n",
       "      <th>371</th>\n",
       "      <td>zmb</td>\n",
       "      <td>gdp</td>\n",
       "    </tr>\n",
       "    <tr>\n",
       "      <th>372</th>\n",
       "      <td>zmb</td>\n",
       "      <td>pop</td>\n",
       "    </tr>\n",
       "    <tr>\n",
       "      <th>373</th>\n",
       "      <td>zwe</td>\n",
       "      <td>gdp</td>\n",
       "    </tr>\n",
       "    <tr>\n",
       "      <th>374</th>\n",
       "      <td>zwe</td>\n",
       "      <td>pop</td>\n",
       "    </tr>\n",
       "  </tbody>\n",
       "</table>\n",
       "<p>375 rows × 2 columns</p>\n",
       "</div>"
      ],
      "text/plain": [
       "       0    1\n",
       "0    afg  pop\n",
       "1    ago  gdp\n",
       "2    ago  pop\n",
       "3    alb  gdp\n",
       "4    alb  pop\n",
       "..   ...  ...\n",
       "370  zaf  pop\n",
       "371  zmb  gdp\n",
       "372  zmb  pop\n",
       "373  zwe  gdp\n",
       "374  zwe  pop\n",
       "\n",
       "[375 rows x 2 columns]"
      ]
     },
     "execution_count": 119,
     "metadata": {},
     "output_type": "execute_result"
    }
   ],
   "source": [
    "df = data[0].str.split('-', expand=True)\n",
    "df"
   ]
  },
  {
   "cell_type": "markdown",
   "metadata": {},
   "source": [
    "Now let's fix the column names and add on the column with the values:"
   ]
  },
  {
   "cell_type": "code",
   "execution_count": 120,
   "metadata": {},
   "outputs": [
    {
     "data": {
      "text/html": [
       "<div>\n",
       "<style scoped>\n",
       "    .dataframe tbody tr th:only-of-type {\n",
       "        vertical-align: middle;\n",
       "    }\n",
       "\n",
       "    .dataframe tbody tr th {\n",
       "        vertical-align: top;\n",
       "    }\n",
       "\n",
       "    .dataframe thead th {\n",
       "        text-align: right;\n",
       "    }\n",
       "</style>\n",
       "<table border=\"1\" class=\"dataframe\">\n",
       "  <thead>\n",
       "    <tr style=\"text-align: right;\">\n",
       "      <th></th>\n",
       "      <th>geo</th>\n",
       "      <th>statistic</th>\n",
       "      <th>value</th>\n",
       "    </tr>\n",
       "  </thead>\n",
       "  <tbody>\n",
       "    <tr>\n",
       "      <th>0</th>\n",
       "      <td>afg</td>\n",
       "      <td>pop</td>\n",
       "      <td>18400000</td>\n",
       "    </tr>\n",
       "    <tr>\n",
       "      <th>1</th>\n",
       "      <td>ago</td>\n",
       "      <td>gdp</td>\n",
       "      <td>25700000000</td>\n",
       "    </tr>\n",
       "    <tr>\n",
       "      <th>2</th>\n",
       "      <td>ago</td>\n",
       "      <td>pop</td>\n",
       "      <td>15100000</td>\n",
       "    </tr>\n",
       "    <tr>\n",
       "      <th>3</th>\n",
       "      <td>alb</td>\n",
       "      <td>gdp</td>\n",
       "      <td>5470000000</td>\n",
       "    </tr>\n",
       "    <tr>\n",
       "      <th>4</th>\n",
       "      <td>alb</td>\n",
       "      <td>pop</td>\n",
       "      <td>3090000</td>\n",
       "    </tr>\n",
       "    <tr>\n",
       "      <th>...</th>\n",
       "      <td>...</td>\n",
       "      <td>...</td>\n",
       "      <td>...</td>\n",
       "    </tr>\n",
       "    <tr>\n",
       "      <th>370</th>\n",
       "      <td>zaf</td>\n",
       "      <td>pop</td>\n",
       "      <td>43700000</td>\n",
       "    </tr>\n",
       "    <tr>\n",
       "      <th>371</th>\n",
       "      <td>zmb</td>\n",
       "      <td>gdp</td>\n",
       "      <td>9120000000</td>\n",
       "    </tr>\n",
       "    <tr>\n",
       "      <th>372</th>\n",
       "      <td>zmb</td>\n",
       "      <td>pop</td>\n",
       "      <td>9670000</td>\n",
       "    </tr>\n",
       "    <tr>\n",
       "      <th>373</th>\n",
       "      <td>zwe</td>\n",
       "      <td>gdp</td>\n",
       "      <td>15600000000</td>\n",
       "    </tr>\n",
       "    <tr>\n",
       "      <th>374</th>\n",
       "      <td>zwe</td>\n",
       "      <td>pop</td>\n",
       "      <td>11700000</td>\n",
       "    </tr>\n",
       "  </tbody>\n",
       "</table>\n",
       "<p>375 rows × 3 columns</p>\n",
       "</div>"
      ],
      "text/plain": [
       "     geo statistic        value\n",
       "0    afg       pop     18400000\n",
       "1    ago       gdp  25700000000\n",
       "2    ago       pop     15100000\n",
       "3    alb       gdp   5470000000\n",
       "4    alb       pop      3090000\n",
       "..   ...       ...          ...\n",
       "370  zaf       pop     43700000\n",
       "371  zmb       gdp   9120000000\n",
       "372  zmb       pop      9670000\n",
       "373  zwe       gdp  15600000000\n",
       "374  zwe       pop     11700000\n",
       "\n",
       "[375 rows x 3 columns]"
      ]
     },
     "execution_count": 120,
     "metadata": {},
     "output_type": "execute_result"
    }
   ],
   "source": [
    "df.columns = ['geo','statistic']\n",
    "df['value'] = data[1]\n",
    "df"
   ]
  },
  {
   "cell_type": "markdown",
   "metadata": {},
   "source": [
    "### [`pivot`](https://pandas.pydata.org/pandas-docs/stable/reference/api/pandas.DataFrame.pivot.html)\n",
    "\n",
    "Now we need to separate the GDP and population values into two different columns. This is done using the `pivot` method:"
   ]
  },
  {
   "cell_type": "code",
   "execution_count": 121,
   "metadata": {},
   "outputs": [
    {
     "data": {
      "text/html": [
       "<div>\n",
       "<style scoped>\n",
       "    .dataframe tbody tr th:only-of-type {\n",
       "        vertical-align: middle;\n",
       "    }\n",
       "\n",
       "    .dataframe tbody tr th {\n",
       "        vertical-align: top;\n",
       "    }\n",
       "\n",
       "    .dataframe thead th {\n",
       "        text-align: right;\n",
       "    }\n",
       "</style>\n",
       "<table border=\"1\" class=\"dataframe\">\n",
       "  <thead>\n",
       "    <tr style=\"text-align: right;\">\n",
       "      <th>statistic</th>\n",
       "      <th>gdp</th>\n",
       "      <th>pop</th>\n",
       "    </tr>\n",
       "    <tr>\n",
       "      <th>geo</th>\n",
       "      <th></th>\n",
       "      <th></th>\n",
       "    </tr>\n",
       "  </thead>\n",
       "  <tbody>\n",
       "    <tr>\n",
       "      <th>afg</th>\n",
       "      <td>NaN</td>\n",
       "      <td>18400000.0</td>\n",
       "    </tr>\n",
       "    <tr>\n",
       "      <th>ago</th>\n",
       "      <td>2.570000e+10</td>\n",
       "      <td>15100000.0</td>\n",
       "    </tr>\n",
       "    <tr>\n",
       "      <th>alb</th>\n",
       "      <td>5.470000e+09</td>\n",
       "      <td>3090000.0</td>\n",
       "    </tr>\n",
       "    <tr>\n",
       "      <th>and</th>\n",
       "      <td>2.400000e+09</td>\n",
       "      <td>64300.0</td>\n",
       "    </tr>\n",
       "    <tr>\n",
       "      <th>are</th>\n",
       "      <td>1.730000e+11</td>\n",
       "      <td>2700000.0</td>\n",
       "    </tr>\n",
       "    <tr>\n",
       "      <th>...</th>\n",
       "      <td>...</td>\n",
       "      <td>...</td>\n",
       "    </tr>\n",
       "    <tr>\n",
       "      <th>wsm</th>\n",
       "      <td>4.330000e+08</td>\n",
       "      <td>172000.0</td>\n",
       "    </tr>\n",
       "    <tr>\n",
       "      <th>yem</th>\n",
       "      <td>1.740000e+10</td>\n",
       "      <td>16400000.0</td>\n",
       "    </tr>\n",
       "    <tr>\n",
       "      <th>zaf</th>\n",
       "      <td>2.490000e+11</td>\n",
       "      <td>43700000.0</td>\n",
       "    </tr>\n",
       "    <tr>\n",
       "      <th>zmb</th>\n",
       "      <td>9.120000e+09</td>\n",
       "      <td>9670000.0</td>\n",
       "    </tr>\n",
       "    <tr>\n",
       "      <th>zwe</th>\n",
       "      <td>1.560000e+10</td>\n",
       "      <td>11700000.0</td>\n",
       "    </tr>\n",
       "  </tbody>\n",
       "</table>\n",
       "<p>195 rows × 2 columns</p>\n",
       "</div>"
      ],
      "text/plain": [
       "statistic           gdp         pop\n",
       "geo                                \n",
       "afg                 NaN  18400000.0\n",
       "ago        2.570000e+10  15100000.0\n",
       "alb        5.470000e+09   3090000.0\n",
       "and        2.400000e+09     64300.0\n",
       "are        1.730000e+11   2700000.0\n",
       "..                  ...         ...\n",
       "wsm        4.330000e+08    172000.0\n",
       "yem        1.740000e+10  16400000.0\n",
       "zaf        2.490000e+11  43700000.0\n",
       "zmb        9.120000e+09   9670000.0\n",
       "zwe        1.560000e+10  11700000.0\n",
       "\n",
       "[195 rows x 2 columns]"
      ]
     },
     "execution_count": 121,
     "metadata": {},
     "output_type": "execute_result"
    }
   ],
   "source": [
    "df2 = df.pivot(index='geo', columns='statistic', values='value')\n",
    "df2"
   ]
  },
  {
   "cell_type": "markdown",
   "metadata": {},
   "source": [
    "Now each column is a variable, each row is an observation, and each cell is a single value, so we have successfully tidied the data."
   ]
  },
  {
   "cell_type": "markdown",
   "metadata": {},
   "source": [
    "Notice that there are fewer rows than before; The `pivot` action is to *shorten* the length of the table\n",
    "\n",
    "Notice also that the resulting DataFrame uses the data from the **geo** column as *row labels*. \n",
    "\n",
    "Pandas calls this set of labels an [`index`](https://pandas.pydata.org/pandas-docs/stable/reference/api/pandas.DataFrame.index.html). "
   ]
  },
  {
   "cell_type": "code",
   "execution_count": 122,
   "metadata": {},
   "outputs": [
    {
     "data": {
      "text/plain": [
       "Index(['afg', 'ago', 'alb', 'and', 'are', 'arg', 'arm', 'atg', 'aus', 'aut',\n",
       "       ...\n",
       "       'uzb', 'vct', 'ven', 'vnm', 'vut', 'wsm', 'yem', 'zaf', 'zmb', 'zwe'],\n",
       "      dtype='object', name='geo', length=195)"
      ]
     },
     "execution_count": 122,
     "metadata": {},
     "output_type": "execute_result"
    }
   ],
   "source": [
    "df2.index"
   ]
  },
  {
   "cell_type": "markdown",
   "metadata": {},
   "source": [
    "Let's store the tidied DataFrame in a new variable:"
   ]
  },
  {
   "cell_type": "code",
   "execution_count": 123,
   "metadata": {},
   "outputs": [],
   "source": [
    "stats97 = df2"
   ]
  },
  {
   "cell_type": "markdown",
   "metadata": {},
   "source": [
    "#### Exercise"
   ]
  },
  {
   "cell_type": "markdown",
   "metadata": {},
   "source": [
    "Visualise the distribution of **pop**."
   ]
  },
  {
   "cell_type": "code",
   "execution_count": 124,
   "metadata": {},
   "outputs": [
    {
     "data": {
      "image/png": "[encoded data removed]",
      "text/plain": [
       "<Figure size 640x480 with 1 Axes>"
      ]
     },
     "metadata": {},
     "output_type": "display_data"
    }
   ],
   "source": [
    "import matplotlib.pyplot as plt\n",
    "import numpy as np\n",
    "\n",
    "stats97.describe()\n",
    "plt.hist(np.log10(stats97['pop']), bins=20)\n",
    "plt.show()"
   ]
  },
  {
   "cell_type": "markdown",
   "metadata": {},
   "source": [
    "In 1997, how many countries had a population less than 100,000?"
   ]
  },
  {
   "cell_type": "code",
   "execution_count": 125,
   "metadata": {},
   "outputs": [
    {
     "name": "stdout",
     "output_type": "stream",
     "text": [
      "15\n",
      "15\n"
     ]
    }
   ],
   "source": [
    "print(stats97.query('pop < 100000')['pop'].count())\n",
    "print(len(stats97.query('pop < 100000')))"
   ]
  },
  {
   "cell_type": "markdown",
   "metadata": {},
   "source": [
    "Make a scatter plot showing GDP vs population."
   ]
  },
  {
   "cell_type": "code",
   "execution_count": 126,
   "metadata": {},
   "outputs": [
    {
     "data": {
      "image/png": "[encoded data removed]",
      "text/plain": [
       "<Figure size 640x480 with 1 Axes>"
      ]
     },
     "metadata": {},
     "output_type": "display_data"
    }
   ],
   "source": [
    "plt.scatter(stats97['pop'], stats97['gdp'])\n",
    "plt.xscale('log')\n",
    "plt.yscale('log')\n",
    "plt.xlabel('Population')\n",
    "plt.ylabel('GDP')\n",
    "plt.title('GDP vs. Population')\n",
    "corr = stats97['gdp'].corr(stats97['pop'])\n",
    "plt.text(1e5, 1e12, f'Correlation: {corr:.2f}')\n",
    "\n",
    "plt.show()"
   ]
  },
  {
   "cell_type": "markdown",
   "metadata": {},
   "source": [
    "It is often more relevant to compare countries' GDP on a per-capita basis. \n",
    "Add GDP per person (**gdp_pp**) as a new column of `stats97`."
   ]
  },
  {
   "cell_type": "code",
   "execution_count": 127,
   "metadata": {},
   "outputs": [
    {
     "data": {
      "image/png": "[encoded data removed]",
      "text/plain": [
       "<Figure size 640x480 with 1 Axes>"
      ]
     },
     "metadata": {},
     "output_type": "display_data"
    }
   ],
   "source": [
    "# add a column with gdp_per_capita\n",
    "stats97['gdp_per_capita'] = stats97['gdp'] / stats97['pop']\n",
    "plt.hist(stats97['gdp_per_capita'], bins=20)\n",
    "plt.show()"
   ]
  },
  {
   "cell_type": "markdown",
   "metadata": {},
   "source": [
    "Visualise the distribution of **gdp_pp**."
   ]
  },
  {
   "cell_type": "code",
   "execution_count": null,
   "metadata": {},
   "outputs": [],
   "source": []
  },
  {
   "cell_type": "markdown",
   "metadata": {},
   "source": [
    "***"
   ]
  }
 ],
 "metadata": {
  "kernelspec": {
   "display_name": "Python 3",
   "language": "python",
   "name": "python3"
  },
  "language_info": {
   "codemirror_mode": {
    "name": "ipython",
    "version": 3
   },
   "file_extension": ".py",
   "mimetype": "text/x-python",
   "name": "python",
   "nbconvert_exporter": "python",
   "pygments_lexer": "ipython3",
   "version": "3.11.10"
  }
 },
 "nbformat": 4,
 "nbformat_minor": 4
}
