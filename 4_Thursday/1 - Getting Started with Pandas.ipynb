{
 "cells": [
  {
   "cell_type": "markdown",
   "metadata": {},
   "source": [
    "# Getting Started with Pandas\n",
    "---\n"
   ]
  },
  {
   "cell_type": "markdown",
   "metadata": {},
   "source": [
    "## Introduction\n",
    "\n",
    "This session introduces the [pandas](https://pandas.pydata.org) package, which supports data processing in python.\n",
    "\n",
    "Pandas makes it easier to build workflows that move between different kinds of task:\n",
    "\n",
    "- Reading tabular data\n",
    "- Tidying data\n",
    "- Transforming data\n",
    "- Data visualisation\n",
    "- Applying statistical tests\n"
   ]
  },
  {
   "cell_type": "markdown",
   "metadata": {},
   "source": [
    "If pandas is installed in your python environment, it's easy to import:"
   ]
  },
  {
   "cell_type": "code",
   "execution_count": 2,
   "metadata": {},
   "outputs": [],
   "source": [
    "import pandas as pd"
   ]
  },
  {
   "cell_type": "markdown",
   "metadata": {},
   "source": [
    "The file `planets.csv` is a [comma separated values](https://en.wikipedia.org/wiki/Comma-separated_values) (CSV) file that contains data about the planets in the solar system."
   ]
  },
  {
   "cell_type": "markdown",
   "metadata": {},
   "source": [
    "Take a look at the file in a text editor. \n",
    "\n",
    "### Question\n",
    "What are the variables and what are their (fundamental) data types?"
   ]
  },
  {
   "cell_type": "markdown",
   "metadata": {},
   "source": []
  },
  {
   "cell_type": "markdown",
   "metadata": {},
   "source": [
    "Why might this dataset be difficult to work with as a numpy array?"
   ]
  },
  {
   "cell_type": "markdown",
   "metadata": {},
   "source": []
  },
  {
   "cell_type": "markdown",
   "metadata": {},
   "source": [
    "<hr>\n",
    "\n",
    "## DataFrames"
   ]
  },
  {
   "cell_type": "markdown",
   "metadata": {},
   "source": [
    "Pandas is built around a fundamental data table object called a [DataFrame](https://pandas.pydata.org/pandas-docs/stable/reference/frame.html).\n",
    "\n",
    "Here's how you can load the data as a DataFrame:"
   ]
  },
  {
   "cell_type": "code",
   "execution_count": 3,
   "metadata": {},
   "outputs": [],
   "source": [
    "planets = pd.read_csv('planets.csv')"
   ]
  },
  {
   "cell_type": "markdown",
   "metadata": {},
   "source": [
    "The variable `planets` now points to a DataFrame object containing our data. "
   ]
  },
  {
   "cell_type": "code",
   "execution_count": 4,
   "metadata": {},
   "outputs": [
    {
     "data": {
      "text/html": [
       "<div>\n",
       "<style scoped>\n",
       "    .dataframe tbody tr th:only-of-type {\n",
       "        vertical-align: middle;\n",
       "    }\n",
       "\n",
       "    .dataframe tbody tr th {\n",
       "        vertical-align: top;\n",
       "    }\n",
       "\n",
       "    .dataframe thead th {\n",
       "        text-align: right;\n",
       "    }\n",
       "</style>\n",
       "<table border=\"1\" class=\"dataframe\">\n",
       "  <thead>\n",
       "    <tr style=\"text-align: right;\">\n",
       "      <th></th>\n",
       "      <th>name</th>\n",
       "      <th>type</th>\n",
       "      <th>mass</th>\n",
       "      <th>diameter</th>\n",
       "      <th>distance_from_sun</th>\n",
       "      <th>orbital_period</th>\n",
       "      <th>rings</th>\n",
       "    </tr>\n",
       "  </thead>\n",
       "  <tbody>\n",
       "    <tr>\n",
       "      <th>0</th>\n",
       "      <td>Mercury</td>\n",
       "      <td>Terrestrial</td>\n",
       "      <td>0.0553</td>\n",
       "      <td>0.383</td>\n",
       "      <td>0.387</td>\n",
       "      <td>0.241</td>\n",
       "      <td>False</td>\n",
       "    </tr>\n",
       "    <tr>\n",
       "      <th>1</th>\n",
       "      <td>Venus</td>\n",
       "      <td>Terrestrial</td>\n",
       "      <td>0.8150</td>\n",
       "      <td>0.949</td>\n",
       "      <td>0.723</td>\n",
       "      <td>0.615</td>\n",
       "      <td>False</td>\n",
       "    </tr>\n",
       "    <tr>\n",
       "      <th>2</th>\n",
       "      <td>Earth</td>\n",
       "      <td>Terrestrial</td>\n",
       "      <td>1.0000</td>\n",
       "      <td>1.000</td>\n",
       "      <td>1.000</td>\n",
       "      <td>1.000</td>\n",
       "      <td>False</td>\n",
       "    </tr>\n",
       "    <tr>\n",
       "      <th>3</th>\n",
       "      <td>Mars</td>\n",
       "      <td>Terrestrial</td>\n",
       "      <td>0.1070</td>\n",
       "      <td>0.532</td>\n",
       "      <td>1.520</td>\n",
       "      <td>1.880</td>\n",
       "      <td>False</td>\n",
       "    </tr>\n",
       "    <tr>\n",
       "      <th>4</th>\n",
       "      <td>Jupiter</td>\n",
       "      <td>Gas giant</td>\n",
       "      <td>317.8000</td>\n",
       "      <td>11.210</td>\n",
       "      <td>5.200</td>\n",
       "      <td>11.900</td>\n",
       "      <td>True</td>\n",
       "    </tr>\n",
       "    <tr>\n",
       "      <th>5</th>\n",
       "      <td>Saturn</td>\n",
       "      <td>Gas giant</td>\n",
       "      <td>95.2000</td>\n",
       "      <td>9.450</td>\n",
       "      <td>9.580</td>\n",
       "      <td>29.400</td>\n",
       "      <td>True</td>\n",
       "    </tr>\n",
       "    <tr>\n",
       "      <th>6</th>\n",
       "      <td>Uranus</td>\n",
       "      <td>Ice giant</td>\n",
       "      <td>14.5000</td>\n",
       "      <td>4.010</td>\n",
       "      <td>19.200</td>\n",
       "      <td>83.700</td>\n",
       "      <td>True</td>\n",
       "    </tr>\n",
       "    <tr>\n",
       "      <th>7</th>\n",
       "      <td>Neptune</td>\n",
       "      <td>Ice giant</td>\n",
       "      <td>17.1000</td>\n",
       "      <td>3.880</td>\n",
       "      <td>30.050</td>\n",
       "      <td>163.700</td>\n",
       "      <td>True</td>\n",
       "    </tr>\n",
       "  </tbody>\n",
       "</table>\n",
       "</div>"
      ],
      "text/plain": [
       "      name         type      mass  diameter  distance_from_sun  \\\n",
       "0  Mercury  Terrestrial    0.0553     0.383              0.387   \n",
       "1    Venus  Terrestrial    0.8150     0.949              0.723   \n",
       "2    Earth  Terrestrial    1.0000     1.000              1.000   \n",
       "3     Mars  Terrestrial    0.1070     0.532              1.520   \n",
       "4  Jupiter    Gas giant  317.8000    11.210              5.200   \n",
       "5   Saturn    Gas giant   95.2000     9.450              9.580   \n",
       "6   Uranus    Ice giant   14.5000     4.010             19.200   \n",
       "7  Neptune    Ice giant   17.1000     3.880             30.050   \n",
       "\n",
       "   orbital_period  rings  \n",
       "0           0.241  False  \n",
       "1           0.615  False  \n",
       "2           1.000  False  \n",
       "3           1.880  False  \n",
       "4          11.900   True  \n",
       "5          29.400   True  \n",
       "6          83.700   True  \n",
       "7         163.700   True  "
      ]
     },
     "execution_count": 4,
     "metadata": {},
     "output_type": "execute_result"
    }
   ],
   "source": [
    "planets"
   ]
  },
  {
   "cell_type": "markdown",
   "metadata": {},
   "source": [
    "Notice how our DataFrame contains data of different types. This is something that wouldn't be possible using a numpy `ndarray` (where every piece of data would have to be of the same type).\n",
    "\n",
    "We can get a quick glimpse of the data using the [`head`](https://pandas.pydata.org/pandas-docs/stable/reference/api/pandas.DataFrame.head.html) method, which returns the first five rows:"
   ]
  },
  {
   "cell_type": "code",
   "execution_count": 5,
   "metadata": {},
   "outputs": [
    {
     "data": {
      "text/html": [
       "<div>\n",
       "<style scoped>\n",
       "    .dataframe tbody tr th:only-of-type {\n",
       "        vertical-align: middle;\n",
       "    }\n",
       "\n",
       "    .dataframe tbody tr th {\n",
       "        vertical-align: top;\n",
       "    }\n",
       "\n",
       "    .dataframe thead th {\n",
       "        text-align: right;\n",
       "    }\n",
       "</style>\n",
       "<table border=\"1\" class=\"dataframe\">\n",
       "  <thead>\n",
       "    <tr style=\"text-align: right;\">\n",
       "      <th></th>\n",
       "      <th>name</th>\n",
       "      <th>type</th>\n",
       "      <th>mass</th>\n",
       "      <th>diameter</th>\n",
       "      <th>distance_from_sun</th>\n",
       "      <th>orbital_period</th>\n",
       "      <th>rings</th>\n",
       "    </tr>\n",
       "  </thead>\n",
       "  <tbody>\n",
       "    <tr>\n",
       "      <th>0</th>\n",
       "      <td>Mercury</td>\n",
       "      <td>Terrestrial</td>\n",
       "      <td>0.0553</td>\n",
       "      <td>0.383</td>\n",
       "      <td>0.387</td>\n",
       "      <td>0.241</td>\n",
       "      <td>False</td>\n",
       "    </tr>\n",
       "    <tr>\n",
       "      <th>1</th>\n",
       "      <td>Venus</td>\n",
       "      <td>Terrestrial</td>\n",
       "      <td>0.8150</td>\n",
       "      <td>0.949</td>\n",
       "      <td>0.723</td>\n",
       "      <td>0.615</td>\n",
       "      <td>False</td>\n",
       "    </tr>\n",
       "    <tr>\n",
       "      <th>2</th>\n",
       "      <td>Earth</td>\n",
       "      <td>Terrestrial</td>\n",
       "      <td>1.0000</td>\n",
       "      <td>1.000</td>\n",
       "      <td>1.000</td>\n",
       "      <td>1.000</td>\n",
       "      <td>False</td>\n",
       "    </tr>\n",
       "  </tbody>\n",
       "</table>\n",
       "</div>"
      ],
      "text/plain": [
       "      name         type    mass  diameter  distance_from_sun  orbital_period  \\\n",
       "0  Mercury  Terrestrial  0.0553     0.383              0.387           0.241   \n",
       "1    Venus  Terrestrial  0.8150     0.949              0.723           0.615   \n",
       "2    Earth  Terrestrial  1.0000     1.000              1.000           1.000   \n",
       "\n",
       "   rings  \n",
       "0  False  \n",
       "1  False  \n",
       "2  False  "
      ]
     },
     "execution_count": 5,
     "metadata": {},
     "output_type": "execute_result"
    }
   ],
   "source": [
    "planets.head(3)"
   ]
  },
  {
   "cell_type": "markdown",
   "metadata": {},
   "source": [
    "The attribute [`shape`](https://pandas.pydata.org/pandas-docs/stable/reference/api/pandas.DataFrame.shape.html) holds the dimensions of the DataFrame as (#rows, #columns) :"
   ]
  },
  {
   "cell_type": "code",
   "execution_count": 6,
   "metadata": {},
   "outputs": [
    {
     "data": {
      "text/plain": [
       "(8, 7)"
      ]
     },
     "execution_count": 6,
     "metadata": {},
     "output_type": "execute_result"
    }
   ],
   "source": [
    "planets.shape"
   ]
  },
  {
   "cell_type": "markdown",
   "metadata": {},
   "source": [
    "A pandas DataFrame has many other useful [methods](https://pandas.pydata.org/pandas-docs/stable/reference/frame.html#computations-descriptive-stats) and [attributes](https://pandas.pydata.org/pandas-docs/stable/reference/frame.html#attributes-and-underlying-data).\n",
    "\n",
    "### Exercise\n",
    "\n",
    "1. What do the following methods do?\n",
    "\n",
    "[`tail`](https://pandas.pydata.org/pandas-docs/stable/reference/api/pandas.DataFrame.tail.html),\n",
    "[`sample`](https://pandas.pydata.org/pandas-docs/stable/reference/api/pandas.DataFrame.sample.html),\n",
    "[`describe`](https://pandas.pydata.org/pandas-docs/stable/reference/api/pandas.DataFrame.describe.html),\n",
    "[`copy`](https://pandas.pydata.org/pandas-docs/stable/reference/api/pandas.DataFrame.copy.html)\n",
    "\n"
   ]
  },
  {
   "cell_type": "code",
   "execution_count": 7,
   "metadata": {},
   "outputs": [
    {
     "name": "stdout",
     "output_type": "stream",
     "text": [
      "         mass  diameter  distance_from_sun  orbital_period\n",
      "min    0.0553     0.383              0.387           0.241\n",
      "max  317.8000    11.210             30.050         163.700\n"
     ]
    },
    {
     "data": {
      "text/plain": [
       "True"
      ]
     },
     "execution_count": 7,
     "metadata": {},
     "output_type": "execute_result"
    }
   ],
   "source": [
    "# planets.tail(3)\n",
    "# planets.sample(3)\n",
    "print(planets.describe().loc[['min', 'max']])\n",
    "# a = planets.copy()\n",
    "('mass' in planets.columns)\n",
    "# for index, row in planets.iterrows():\n",
    "#    print(f\"Planet: {row['name']}, Type: {row['type']}\")\n"
   ]
  },
  {
   "cell_type": "markdown",
   "metadata": {},
   "source": [
    "2. To what do the following attributes refer?\n",
    "\n",
    "[`size`](https://pandas.pydata.org/pandas-docs/stable/reference/api/pandas.DataFrame.size.html),\n",
    "[`dtypes`](https://pandas.pydata.org/pandas-docs/stable/reference/api/pandas.DataFrame.dtypes.html),\n",
    "[`columns`](https://pandas.pydata.org/pandas-docs/stable/reference/api/pandas.DataFrame.columns.html),\n",
    "[`values`](https://pandas.pydata.org/pandas-docs/stable/reference/api/pandas.DataFrame.values.html)"
   ]
  },
  {
   "cell_type": "code",
   "execution_count": 8,
   "metadata": {},
   "outputs": [
    {
     "data": {
      "text/plain": [
       "array([['Mercury', 'Terrestrial', 0.0553, 0.383, 0.387, 0.241, False],\n",
       "       ['Venus', 'Terrestrial', 0.815, 0.949, 0.723, 0.615, False],\n",
       "       ['Earth', 'Terrestrial', 1.0, 1.0, 1.0, 1.0, False],\n",
       "       ['Mars', 'Terrestrial', 0.107, 0.532, 1.52, 1.88, False],\n",
       "       ['Jupiter', 'Gas giant', 317.8, 11.21, 5.2, 11.9, True],\n",
       "       ['Saturn', 'Gas giant', 95.2, 9.45, 9.58, 29.4, True],\n",
       "       ['Uranus', 'Ice giant', 14.5, 4.01, 19.2, 83.7, True],\n",
       "       ['Neptune', 'Ice giant', 17.1, 3.88, 30.05, 163.7, True]],\n",
       "      dtype=object)"
      ]
     },
     "execution_count": 8,
     "metadata": {},
     "output_type": "execute_result"
    }
   ],
   "source": [
    "planets.values\n"
   ]
  },
  {
   "cell_type": "code",
   "execution_count": null,
   "metadata": {},
   "outputs": [],
   "source": []
  },
  {
   "cell_type": "markdown",
   "metadata": {},
   "source": [
    "---\n",
    "## Accessing by position\n",
    "\n",
    "Pandas provides several different ways to get data out of the DataFrame.\n",
    "\n",
    "[`iloc[]`](https://pandas.pydata.org/pandas-docs/stable/reference/api/pandas.DataFrame.iloc.html) means \"**loc**ate data by **i**nteger position\". \n",
    "\n",
    "It is used to access subsets of rows and columns, using the same coordinate system as `iat[]`."
   ]
  },
  {
   "cell_type": "markdown",
   "metadata": {},
   "source": [
    "### Selecting rows\n",
    "\n",
    "We can use `iloc[]` with a slice to get a subset of rows:"
   ]
  },
  {
   "cell_type": "code",
   "execution_count": 9,
   "metadata": {},
   "outputs": [
    {
     "ename": "ValueError",
     "evalue": "setting an array element with a sequence. The requested array has an inhomogeneous shape after 1 dimensions. The detected shape was (3,) + inhomogeneous part.",
     "output_type": "error",
     "traceback": [
      "\u001b[0;31m---------------------------------------------------------------------------\u001b[0m",
      "\u001b[0;31mValueError\u001b[0m                                Traceback (most recent call last)",
      "Cell \u001b[0;32mIn[9], line 1\u001b[0m\n\u001b[0;32m----> 1\u001b[0m \u001b[43mplanets\u001b[49m\u001b[38;5;241;43m.\u001b[39;49m\u001b[43miloc\u001b[49m\u001b[43m[\u001b[49m\u001b[43m[\u001b[49m\u001b[38;5;28;43mrange\u001b[39;49m\u001b[43m(\u001b[49m\u001b[38;5;241;43m3\u001b[39;49m\u001b[43m)\u001b[49m\u001b[43m,\u001b[49m\u001b[43m \u001b[49m\u001b[38;5;241;43m5\u001b[39;49m\u001b[43m,\u001b[49m\u001b[43m \u001b[49m\u001b[38;5;241;43m6\u001b[39;49m\u001b[43m]\u001b[49m\u001b[43m]\u001b[49m\n",
      "File \u001b[0;32m~/.local/lib/python3.11/site-packages/pandas/core/indexing.py:1191\u001b[0m, in \u001b[0;36m_LocationIndexer.__getitem__\u001b[0;34m(self, key)\u001b[0m\n\u001b[1;32m   1189\u001b[0m maybe_callable \u001b[38;5;241m=\u001b[39m com\u001b[38;5;241m.\u001b[39mapply_if_callable(key, \u001b[38;5;28mself\u001b[39m\u001b[38;5;241m.\u001b[39mobj)\n\u001b[1;32m   1190\u001b[0m maybe_callable \u001b[38;5;241m=\u001b[39m \u001b[38;5;28mself\u001b[39m\u001b[38;5;241m.\u001b[39m_check_deprecated_callable_usage(key, maybe_callable)\n\u001b[0;32m-> 1191\u001b[0m \u001b[38;5;28;01mreturn\u001b[39;00m \u001b[38;5;28;43mself\u001b[39;49m\u001b[38;5;241;43m.\u001b[39;49m\u001b[43m_getitem_axis\u001b[49m\u001b[43m(\u001b[49m\u001b[43mmaybe_callable\u001b[49m\u001b[43m,\u001b[49m\u001b[43m \u001b[49m\u001b[43maxis\u001b[49m\u001b[38;5;241;43m=\u001b[39;49m\u001b[43maxis\u001b[49m\u001b[43m)\u001b[49m\n",
      "File \u001b[0;32m~/.local/lib/python3.11/site-packages/pandas/core/indexing.py:1735\u001b[0m, in \u001b[0;36m_iLocIndexer._getitem_axis\u001b[0;34m(self, key, axis)\u001b[0m\n\u001b[1;32m   1732\u001b[0m     key \u001b[38;5;241m=\u001b[39m \u001b[38;5;28mlist\u001b[39m(key)\n\u001b[1;32m   1734\u001b[0m \u001b[38;5;28;01mif\u001b[39;00m \u001b[38;5;28misinstance\u001b[39m(key, \u001b[38;5;28mlist\u001b[39m):\n\u001b[0;32m-> 1735\u001b[0m     key \u001b[38;5;241m=\u001b[39m np\u001b[38;5;241m.\u001b[39masarray(key)\n\u001b[1;32m   1737\u001b[0m \u001b[38;5;28;01mif\u001b[39;00m com\u001b[38;5;241m.\u001b[39mis_bool_indexer(key):\n\u001b[1;32m   1738\u001b[0m     \u001b[38;5;28mself\u001b[39m\u001b[38;5;241m.\u001b[39m_validate_key(key, axis)\n",
      "\u001b[0;31mValueError\u001b[0m: setting an array element with a sequence. The requested array has an inhomogeneous shape after 1 dimensions. The detected shape was (3,) + inhomogeneous part."
     ]
    }
   ],
   "source": [
    "planets.iloc[[range(3), 5, 6]]"
   ]
  },
  {
   "cell_type": "markdown",
   "metadata": {},
   "source": [
    "Because *slicing rows* is such a common operation, pandas also provides a shortcut:"
   ]
  },
  {
   "cell_type": "code",
   "execution_count": 48,
   "metadata": {},
   "outputs": [
    {
     "data": {
      "text/html": [
       "<div>\n",
       "<style scoped>\n",
       "    .dataframe tbody tr th:only-of-type {\n",
       "        vertical-align: middle;\n",
       "    }\n",
       "\n",
       "    .dataframe tbody tr th {\n",
       "        vertical-align: top;\n",
       "    }\n",
       "\n",
       "    .dataframe thead th {\n",
       "        text-align: right;\n",
       "    }\n",
       "</style>\n",
       "<table border=\"1\" class=\"dataframe\">\n",
       "  <thead>\n",
       "    <tr style=\"text-align: right;\">\n",
       "      <th></th>\n",
       "      <th>name</th>\n",
       "      <th>type</th>\n",
       "      <th>mass</th>\n",
       "      <th>diameter</th>\n",
       "      <th>distance_from_sun</th>\n",
       "      <th>orbital_period</th>\n",
       "      <th>rings</th>\n",
       "    </tr>\n",
       "  </thead>\n",
       "  <tbody>\n",
       "    <tr>\n",
       "      <th>2</th>\n",
       "      <td>Earth</td>\n",
       "      <td>Terrestrial</td>\n",
       "      <td>1.000</td>\n",
       "      <td>1.000</td>\n",
       "      <td>1.00</td>\n",
       "      <td>1.00</td>\n",
       "      <td>False</td>\n",
       "    </tr>\n",
       "    <tr>\n",
       "      <th>3</th>\n",
       "      <td>Mars</td>\n",
       "      <td>Terrestrial</td>\n",
       "      <td>0.107</td>\n",
       "      <td>0.532</td>\n",
       "      <td>1.52</td>\n",
       "      <td>1.88</td>\n",
       "      <td>False</td>\n",
       "    </tr>\n",
       "  </tbody>\n",
       "</table>\n",
       "</div>"
      ],
      "text/plain": [
       "    name         type   mass  diameter  distance_from_sun  orbital_period  \\\n",
       "2  Earth  Terrestrial  1.000     1.000               1.00            1.00   \n",
       "3   Mars  Terrestrial  0.107     0.532               1.52            1.88   \n",
       "\n",
       "   rings  \n",
       "2  False  \n",
       "3  False  "
      ]
     },
     "execution_count": 48,
     "metadata": {},
     "output_type": "execute_result"
    }
   ],
   "source": [
    "planets[2:4]"
   ]
  },
  {
   "cell_type": "markdown",
   "metadata": {},
   "source": [
    "Alternatively, we can provide `iloc[]` with a list of the indices to select:"
   ]
  },
  {
   "cell_type": "code",
   "execution_count": 51,
   "metadata": {},
   "outputs": [
    {
     "data": {
      "text/html": [
       "<div>\n",
       "<style scoped>\n",
       "    .dataframe tbody tr th:only-of-type {\n",
       "        vertical-align: middle;\n",
       "    }\n",
       "\n",
       "    .dataframe tbody tr th {\n",
       "        vertical-align: top;\n",
       "    }\n",
       "\n",
       "    .dataframe thead th {\n",
       "        text-align: right;\n",
       "    }\n",
       "</style>\n",
       "<table border=\"1\" class=\"dataframe\">\n",
       "  <thead>\n",
       "    <tr style=\"text-align: right;\">\n",
       "      <th></th>\n",
       "      <th>name</th>\n",
       "      <th>type</th>\n",
       "      <th>mass</th>\n",
       "      <th>diameter</th>\n",
       "      <th>distance_from_sun</th>\n",
       "      <th>orbital_period</th>\n",
       "      <th>rings</th>\n",
       "    </tr>\n",
       "  </thead>\n",
       "  <tbody>\n",
       "    <tr>\n",
       "      <th>1</th>\n",
       "      <td>Venus</td>\n",
       "      <td>Terrestrial</td>\n",
       "      <td>0.815</td>\n",
       "      <td>0.949</td>\n",
       "      <td>0.723</td>\n",
       "      <td>0.615</td>\n",
       "      <td>False</td>\n",
       "    </tr>\n",
       "    <tr>\n",
       "      <th>3</th>\n",
       "      <td>Mars</td>\n",
       "      <td>Terrestrial</td>\n",
       "      <td>0.107</td>\n",
       "      <td>0.532</td>\n",
       "      <td>1.520</td>\n",
       "      <td>1.880</td>\n",
       "      <td>False</td>\n",
       "    </tr>\n",
       "    <tr>\n",
       "      <th>5</th>\n",
       "      <td>Saturn</td>\n",
       "      <td>Gas giant</td>\n",
       "      <td>95.200</td>\n",
       "      <td>9.450</td>\n",
       "      <td>9.580</td>\n",
       "      <td>29.400</td>\n",
       "      <td>True</td>\n",
       "    </tr>\n",
       "  </tbody>\n",
       "</table>\n",
       "</div>"
      ],
      "text/plain": [
       "     name         type    mass  diameter  distance_from_sun  orbital_period  \\\n",
       "1   Venus  Terrestrial   0.815     0.949              0.723           0.615   \n",
       "3    Mars  Terrestrial   0.107     0.532              1.520           1.880   \n",
       "5  Saturn    Gas giant  95.200     9.450              9.580          29.400   \n",
       "\n",
       "   rings  \n",
       "1  False  \n",
       "3  False  \n",
       "5   True  "
      ]
     },
     "execution_count": 51,
     "metadata": {},
     "output_type": "execute_result"
    }
   ],
   "source": [
    "planets.iloc[[1,3,5]]"
   ]
  },
  {
   "cell_type": "markdown",
   "metadata": {},
   "source": [
    "#### Exercise\n",
    "\n",
    "1. Select the last three rows."
   ]
  },
  {
   "cell_type": "code",
   "execution_count": 62,
   "metadata": {},
   "outputs": [
    {
     "data": {
      "text/html": [
       "<div>\n",
       "<style scoped>\n",
       "    .dataframe tbody tr th:only-of-type {\n",
       "        vertical-align: middle;\n",
       "    }\n",
       "\n",
       "    .dataframe tbody tr th {\n",
       "        vertical-align: top;\n",
       "    }\n",
       "\n",
       "    .dataframe thead th {\n",
       "        text-align: right;\n",
       "    }\n",
       "</style>\n",
       "<table border=\"1\" class=\"dataframe\">\n",
       "  <thead>\n",
       "    <tr style=\"text-align: right;\">\n",
       "      <th></th>\n",
       "      <th>name</th>\n",
       "      <th>type</th>\n",
       "      <th>mass</th>\n",
       "      <th>diameter</th>\n",
       "      <th>distance_from_sun</th>\n",
       "      <th>orbital_period</th>\n",
       "      <th>rings</th>\n",
       "    </tr>\n",
       "  </thead>\n",
       "  <tbody>\n",
       "    <tr>\n",
       "      <th>5</th>\n",
       "      <td>Saturn</td>\n",
       "      <td>Gas giant</td>\n",
       "      <td>95.2</td>\n",
       "      <td>9.45</td>\n",
       "      <td>9.58</td>\n",
       "      <td>29.4</td>\n",
       "      <td>True</td>\n",
       "    </tr>\n",
       "    <tr>\n",
       "      <th>6</th>\n",
       "      <td>Uranus</td>\n",
       "      <td>Ice giant</td>\n",
       "      <td>14.5</td>\n",
       "      <td>4.01</td>\n",
       "      <td>19.20</td>\n",
       "      <td>83.7</td>\n",
       "      <td>True</td>\n",
       "    </tr>\n",
       "    <tr>\n",
       "      <th>7</th>\n",
       "      <td>Neptune</td>\n",
       "      <td>Ice giant</td>\n",
       "      <td>17.1</td>\n",
       "      <td>3.88</td>\n",
       "      <td>30.05</td>\n",
       "      <td>163.7</td>\n",
       "      <td>True</td>\n",
       "    </tr>\n",
       "  </tbody>\n",
       "</table>\n",
       "</div>"
      ],
      "text/plain": [
       "      name       type  mass  diameter  distance_from_sun  orbital_period  \\\n",
       "5   Saturn  Gas giant  95.2      9.45               9.58            29.4   \n",
       "6   Uranus  Ice giant  14.5      4.01              19.20            83.7   \n",
       "7  Neptune  Ice giant  17.1      3.88              30.05           163.7   \n",
       "\n",
       "   rings  \n",
       "5   True  \n",
       "6   True  \n",
       "7   True  "
      ]
     },
     "execution_count": 62,
     "metadata": {},
     "output_type": "execute_result"
    }
   ],
   "source": [
    "planets[-3:]"
   ]
  },
  {
   "cell_type": "markdown",
   "metadata": {},
   "source": [
    "2. Select three rows at random."
   ]
  },
  {
   "cell_type": "code",
   "execution_count": 59,
   "metadata": {},
   "outputs": [
    {
     "data": {
      "text/html": [
       "<div>\n",
       "<style scoped>\n",
       "    .dataframe tbody tr th:only-of-type {\n",
       "        vertical-align: middle;\n",
       "    }\n",
       "\n",
       "    .dataframe tbody tr th {\n",
       "        vertical-align: top;\n",
       "    }\n",
       "\n",
       "    .dataframe thead th {\n",
       "        text-align: right;\n",
       "    }\n",
       "</style>\n",
       "<table border=\"1\" class=\"dataframe\">\n",
       "  <thead>\n",
       "    <tr style=\"text-align: right;\">\n",
       "      <th></th>\n",
       "      <th>name</th>\n",
       "      <th>type</th>\n",
       "      <th>mass</th>\n",
       "      <th>diameter</th>\n",
       "      <th>distance_from_sun</th>\n",
       "      <th>orbital_period</th>\n",
       "      <th>rings</th>\n",
       "    </tr>\n",
       "  </thead>\n",
       "  <tbody>\n",
       "    <tr>\n",
       "      <th>6</th>\n",
       "      <td>Uranus</td>\n",
       "      <td>Ice giant</td>\n",
       "      <td>14.5000</td>\n",
       "      <td>4.010</td>\n",
       "      <td>19.200</td>\n",
       "      <td>83.700</td>\n",
       "      <td>True</td>\n",
       "    </tr>\n",
       "    <tr>\n",
       "      <th>0</th>\n",
       "      <td>Mercury</td>\n",
       "      <td>Terrestrial</td>\n",
       "      <td>0.0553</td>\n",
       "      <td>0.383</td>\n",
       "      <td>0.387</td>\n",
       "      <td>0.241</td>\n",
       "      <td>False</td>\n",
       "    </tr>\n",
       "    <tr>\n",
       "      <th>5</th>\n",
       "      <td>Saturn</td>\n",
       "      <td>Gas giant</td>\n",
       "      <td>95.2000</td>\n",
       "      <td>9.450</td>\n",
       "      <td>9.580</td>\n",
       "      <td>29.400</td>\n",
       "      <td>True</td>\n",
       "    </tr>\n",
       "  </tbody>\n",
       "</table>\n",
       "</div>"
      ],
      "text/plain": [
       "      name         type     mass  diameter  distance_from_sun  orbital_period  \\\n",
       "6   Uranus    Ice giant  14.5000     4.010             19.200          83.700   \n",
       "0  Mercury  Terrestrial   0.0553     0.383              0.387           0.241   \n",
       "5   Saturn    Gas giant  95.2000     9.450              9.580          29.400   \n",
       "\n",
       "   rings  \n",
       "6   True  \n",
       "0  False  \n",
       "5   True  "
      ]
     },
     "execution_count": 59,
     "metadata": {},
     "output_type": "execute_result"
    }
   ],
   "source": [
    "planets.sample(3)"
   ]
  },
  {
   "cell_type": "markdown",
   "metadata": {},
   "source": [
    "3. Make a DataFrame containing only the first row."
   ]
  },
  {
   "cell_type": "code",
   "execution_count": 75,
   "metadata": {},
   "outputs": [
    {
     "data": {
      "text/plain": [
       "name                     Mercury\n",
       "type                 Terrestrial\n",
       "mass                      0.0553\n",
       "diameter                   0.383\n",
       "distance_from_sun          0.387\n",
       "orbital_period             0.241\n",
       "rings                      False\n",
       "Name: 0, dtype: object"
      ]
     },
     "execution_count": 75,
     "metadata": {},
     "output_type": "execute_result"
    }
   ],
   "source": [
    "planets.iloc[0]\n",
    "# planets.iloc[:1]"
   ]
  },
  {
   "cell_type": "markdown",
   "metadata": {},
   "source": [
    "4. Make a DataFrame containing the first, second and last rows."
   ]
  },
  {
   "cell_type": "code",
   "execution_count": 87,
   "metadata": {},
   "outputs": [
    {
     "data": {
      "text/html": [
       "<div>\n",
       "<style scoped>\n",
       "    .dataframe tbody tr th:only-of-type {\n",
       "        vertical-align: middle;\n",
       "    }\n",
       "\n",
       "    .dataframe tbody tr th {\n",
       "        vertical-align: top;\n",
       "    }\n",
       "\n",
       "    .dataframe thead th {\n",
       "        text-align: right;\n",
       "    }\n",
       "</style>\n",
       "<table border=\"1\" class=\"dataframe\">\n",
       "  <thead>\n",
       "    <tr style=\"text-align: right;\">\n",
       "      <th></th>\n",
       "      <th>name</th>\n",
       "      <th>type</th>\n",
       "      <th>mass</th>\n",
       "      <th>diameter</th>\n",
       "      <th>distance_from_sun</th>\n",
       "      <th>orbital_period</th>\n",
       "      <th>rings</th>\n",
       "    </tr>\n",
       "  </thead>\n",
       "  <tbody>\n",
       "    <tr>\n",
       "      <th>0</th>\n",
       "      <td>Mercury</td>\n",
       "      <td>Terrestrial</td>\n",
       "      <td>0.0553</td>\n",
       "      <td>0.383</td>\n",
       "      <td>0.387</td>\n",
       "      <td>0.241</td>\n",
       "      <td>False</td>\n",
       "    </tr>\n",
       "    <tr>\n",
       "      <th>1</th>\n",
       "      <td>Venus</td>\n",
       "      <td>Terrestrial</td>\n",
       "      <td>0.8150</td>\n",
       "      <td>0.949</td>\n",
       "      <td>0.723</td>\n",
       "      <td>0.615</td>\n",
       "      <td>False</td>\n",
       "    </tr>\n",
       "    <tr>\n",
       "      <th>7</th>\n",
       "      <td>Neptune</td>\n",
       "      <td>Ice giant</td>\n",
       "      <td>17.1000</td>\n",
       "      <td>3.880</td>\n",
       "      <td>30.050</td>\n",
       "      <td>163.700</td>\n",
       "      <td>True</td>\n",
       "    </tr>\n",
       "  </tbody>\n",
       "</table>\n",
       "</div>"
      ],
      "text/plain": [
       "      name         type     mass  diameter  distance_from_sun  orbital_period  \\\n",
       "0  Mercury  Terrestrial   0.0553     0.383              0.387           0.241   \n",
       "1    Venus  Terrestrial   0.8150     0.949              0.723           0.615   \n",
       "7  Neptune    Ice giant  17.1000     3.880             30.050         163.700   \n",
       "\n",
       "   rings  \n",
       "0  False  \n",
       "1  False  \n",
       "7   True  "
      ]
     },
     "execution_count": 87,
     "metadata": {},
     "output_type": "execute_result"
    }
   ],
   "source": [
    "planets.iloc[[0, 1, -1]]"
   ]
  },
  {
   "cell_type": "markdown",
   "metadata": {},
   "source": [
    "### Selecting columns\n",
    "\n",
    "We can access columns by integer using the second axis of `iloc[]`:\n"
   ]
  },
  {
   "cell_type": "code",
   "execution_count": 79,
   "metadata": {},
   "outputs": [
    {
     "data": {
      "text/plain": [
       "0      0.0553\n",
       "1      0.8150\n",
       "2      1.0000\n",
       "3      0.1070\n",
       "4    317.8000\n",
       "5     95.2000\n",
       "6     14.5000\n",
       "7     17.1000\n",
       "Name: mass, dtype: float64"
      ]
     },
     "execution_count": 79,
     "metadata": {},
     "output_type": "execute_result"
    }
   ],
   "source": [
    "a = planets.iloc[:,2]\n",
    "a"
   ]
  },
  {
   "cell_type": "markdown",
   "metadata": {},
   "source": [
    "Using an integer index (e.g. `2` above), this returns the column values in the form of a pandas [Series](https://pandas.pydata.org/pandas-docs/stable/reference/series.html) object. \n",
    "\n",
    "Here's how to return the same column as a DataFrame:"
   ]
  },
  {
   "cell_type": "code",
   "execution_count": 80,
   "metadata": {},
   "outputs": [
    {
     "data": {
      "text/html": [
       "<div>\n",
       "<style scoped>\n",
       "    .dataframe tbody tr th:only-of-type {\n",
       "        vertical-align: middle;\n",
       "    }\n",
       "\n",
       "    .dataframe tbody tr th {\n",
       "        vertical-align: top;\n",
       "    }\n",
       "\n",
       "    .dataframe thead th {\n",
       "        text-align: right;\n",
       "    }\n",
       "</style>\n",
       "<table border=\"1\" class=\"dataframe\">\n",
       "  <thead>\n",
       "    <tr style=\"text-align: right;\">\n",
       "      <th></th>\n",
       "      <th>mass</th>\n",
       "      <th>diameter</th>\n",
       "    </tr>\n",
       "  </thead>\n",
       "  <tbody>\n",
       "    <tr>\n",
       "      <th>0</th>\n",
       "      <td>0.0553</td>\n",
       "      <td>0.383</td>\n",
       "    </tr>\n",
       "    <tr>\n",
       "      <th>1</th>\n",
       "      <td>0.8150</td>\n",
       "      <td>0.949</td>\n",
       "    </tr>\n",
       "    <tr>\n",
       "      <th>2</th>\n",
       "      <td>1.0000</td>\n",
       "      <td>1.000</td>\n",
       "    </tr>\n",
       "    <tr>\n",
       "      <th>3</th>\n",
       "      <td>0.1070</td>\n",
       "      <td>0.532</td>\n",
       "    </tr>\n",
       "    <tr>\n",
       "      <th>4</th>\n",
       "      <td>317.8000</td>\n",
       "      <td>11.210</td>\n",
       "    </tr>\n",
       "    <tr>\n",
       "      <th>5</th>\n",
       "      <td>95.2000</td>\n",
       "      <td>9.450</td>\n",
       "    </tr>\n",
       "    <tr>\n",
       "      <th>6</th>\n",
       "      <td>14.5000</td>\n",
       "      <td>4.010</td>\n",
       "    </tr>\n",
       "    <tr>\n",
       "      <th>7</th>\n",
       "      <td>17.1000</td>\n",
       "      <td>3.880</td>\n",
       "    </tr>\n",
       "  </tbody>\n",
       "</table>\n",
       "</div>"
      ],
      "text/plain": [
       "       mass  diameter\n",
       "0    0.0553     0.383\n",
       "1    0.8150     0.949\n",
       "2    1.0000     1.000\n",
       "3    0.1070     0.532\n",
       "4  317.8000    11.210\n",
       "5   95.2000     9.450\n",
       "6   14.5000     4.010\n",
       "7   17.1000     3.880"
      ]
     },
     "execution_count": 80,
     "metadata": {},
     "output_type": "execute_result"
    }
   ],
   "source": [
    "planets.iloc[:,[2,3]]"
   ]
  },
  {
   "cell_type": "markdown",
   "metadata": {},
   "source": [
    "Notice that we still need to provide a placeholder `:` before the comma, to indicate \"all of the rows\".\n",
    "\n",
    "Using a slice or list after the comma returns a subset of columns:"
   ]
  },
  {
   "cell_type": "code",
   "execution_count": 81,
   "metadata": {},
   "outputs": [
    {
     "data": {
      "text/html": [
       "<div>\n",
       "<style scoped>\n",
       "    .dataframe tbody tr th:only-of-type {\n",
       "        vertical-align: middle;\n",
       "    }\n",
       "\n",
       "    .dataframe tbody tr th {\n",
       "        vertical-align: top;\n",
       "    }\n",
       "\n",
       "    .dataframe thead th {\n",
       "        text-align: right;\n",
       "    }\n",
       "</style>\n",
       "<table border=\"1\" class=\"dataframe\">\n",
       "  <thead>\n",
       "    <tr style=\"text-align: right;\">\n",
       "      <th></th>\n",
       "      <th>mass</th>\n",
       "      <th>diameter</th>\n",
       "    </tr>\n",
       "  </thead>\n",
       "  <tbody>\n",
       "    <tr>\n",
       "      <th>0</th>\n",
       "      <td>0.0553</td>\n",
       "      <td>0.383</td>\n",
       "    </tr>\n",
       "    <tr>\n",
       "      <th>1</th>\n",
       "      <td>0.8150</td>\n",
       "      <td>0.949</td>\n",
       "    </tr>\n",
       "    <tr>\n",
       "      <th>2</th>\n",
       "      <td>1.0000</td>\n",
       "      <td>1.000</td>\n",
       "    </tr>\n",
       "    <tr>\n",
       "      <th>3</th>\n",
       "      <td>0.1070</td>\n",
       "      <td>0.532</td>\n",
       "    </tr>\n",
       "    <tr>\n",
       "      <th>4</th>\n",
       "      <td>317.8000</td>\n",
       "      <td>11.210</td>\n",
       "    </tr>\n",
       "    <tr>\n",
       "      <th>5</th>\n",
       "      <td>95.2000</td>\n",
       "      <td>9.450</td>\n",
       "    </tr>\n",
       "    <tr>\n",
       "      <th>6</th>\n",
       "      <td>14.5000</td>\n",
       "      <td>4.010</td>\n",
       "    </tr>\n",
       "    <tr>\n",
       "      <th>7</th>\n",
       "      <td>17.1000</td>\n",
       "      <td>3.880</td>\n",
       "    </tr>\n",
       "  </tbody>\n",
       "</table>\n",
       "</div>"
      ],
      "text/plain": [
       "       mass  diameter\n",
       "0    0.0553     0.383\n",
       "1    0.8150     0.949\n",
       "2    1.0000     1.000\n",
       "3    0.1070     0.532\n",
       "4  317.8000    11.210\n",
       "5   95.2000     9.450\n",
       "6   14.5000     4.010\n",
       "7   17.1000     3.880"
      ]
     },
     "execution_count": 81,
     "metadata": {},
     "output_type": "execute_result"
    }
   ],
   "source": [
    "planets.iloc[:,2:4]"
   ]
  },
  {
   "cell_type": "markdown",
   "metadata": {},
   "source": [
    "However, accessing columns by position is not usually very convenient. We need to be able to refer to the columns by their *labels*."
   ]
  },
  {
   "cell_type": "markdown",
   "metadata": {},
   "source": [
    "## Accessing by label\n",
    "[`loc[]`](https://pandas.pydata.org/pandas-docs/stable/reference/api/pandas.DataFrame.loc.html) means \"locate by label\". Our columns are labelled with strings.\n"
   ]
  },
  {
   "cell_type": "code",
   "execution_count": 82,
   "metadata": {},
   "outputs": [
    {
     "data": {
      "text/plain": [
       "0    Mercury\n",
       "1      Venus\n",
       "2      Earth\n",
       "3       Mars\n",
       "4    Jupiter\n",
       "5     Saturn\n",
       "6     Uranus\n",
       "7    Neptune\n",
       "Name: name, dtype: object"
      ]
     },
     "execution_count": 82,
     "metadata": {},
     "output_type": "execute_result"
    }
   ],
   "source": [
    "planets.loc[:,'name']"
   ]
  },
  {
   "cell_type": "markdown",
   "metadata": {},
   "source": [
    "This returns a Series object, which represents the data from a single column. The numbers shown next to the values are the *row labels*."
   ]
  },
  {
   "cell_type": "markdown",
   "metadata": {},
   "source": [
    "As a shortcut, we can also use `[]` with the *column labels* to select specified columns:"
   ]
  },
  {
   "cell_type": "code",
   "execution_count": 83,
   "metadata": {},
   "outputs": [
    {
     "data": {
      "text/plain": [
       "0    Mercury\n",
       "1      Venus\n",
       "2      Earth\n",
       "3       Mars\n",
       "4    Jupiter\n",
       "5     Saturn\n",
       "6     Uranus\n",
       "7    Neptune\n",
       "Name: name, dtype: object"
      ]
     },
     "execution_count": 83,
     "metadata": {},
     "output_type": "execute_result"
    }
   ],
   "source": [
    "planets['name']"
   ]
  },
  {
   "cell_type": "markdown",
   "metadata": {},
   "source": [
    "As an even shorter shortcut, column names are often actually usable as attributes:"
   ]
  },
  {
   "cell_type": "code",
   "execution_count": 91,
   "metadata": {},
   "outputs": [
    {
     "data": {
      "text/html": [
       "<div>\n",
       "<style scoped>\n",
       "    .dataframe tbody tr th:only-of-type {\n",
       "        vertical-align: middle;\n",
       "    }\n",
       "\n",
       "    .dataframe tbody tr th {\n",
       "        vertical-align: top;\n",
       "    }\n",
       "\n",
       "    .dataframe thead th {\n",
       "        text-align: right;\n",
       "    }\n",
       "</style>\n",
       "<table border=\"1\" class=\"dataframe\">\n",
       "  <thead>\n",
       "    <tr style=\"text-align: right;\">\n",
       "      <th></th>\n",
       "      <th>name</th>\n",
       "    </tr>\n",
       "  </thead>\n",
       "  <tbody>\n",
       "    <tr>\n",
       "      <th>0</th>\n",
       "      <td>Mercury</td>\n",
       "    </tr>\n",
       "    <tr>\n",
       "      <th>1</th>\n",
       "      <td>Venus</td>\n",
       "    </tr>\n",
       "    <tr>\n",
       "      <th>2</th>\n",
       "      <td>Earth</td>\n",
       "    </tr>\n",
       "    <tr>\n",
       "      <th>3</th>\n",
       "      <td>Mars</td>\n",
       "    </tr>\n",
       "    <tr>\n",
       "      <th>4</th>\n",
       "      <td>Jupiter</td>\n",
       "    </tr>\n",
       "    <tr>\n",
       "      <th>5</th>\n",
       "      <td>Saturn</td>\n",
       "    </tr>\n",
       "    <tr>\n",
       "      <th>6</th>\n",
       "      <td>Uranus</td>\n",
       "    </tr>\n",
       "    <tr>\n",
       "      <th>7</th>\n",
       "      <td>Neptune</td>\n",
       "    </tr>\n",
       "  </tbody>\n",
       "</table>\n",
       "</div>"
      ],
      "text/plain": [
       "      name\n",
       "0  Mercury\n",
       "1    Venus\n",
       "2    Earth\n",
       "3     Mars\n",
       "4  Jupiter\n",
       "5   Saturn\n",
       "6   Uranus\n",
       "7  Neptune"
      ]
     },
     "execution_count": 91,
     "metadata": {},
     "output_type": "execute_result"
    }
   ],
   "source": [
    "# planets.name\n",
    "planets[['name']]"
   ]
  },
  {
   "cell_type": "markdown",
   "metadata": {},
   "source": [
    "(there are some issues with doing this though, so in general the square brackets are preferable.)"
   ]
  },
  {
   "cell_type": "markdown",
   "metadata": {},
   "source": [
    "A list can be used to select multiple columns."
   ]
  },
  {
   "cell_type": "code",
   "execution_count": 88,
   "metadata": {},
   "outputs": [
    {
     "data": {
      "text/html": [
       "<div>\n",
       "<style scoped>\n",
       "    .dataframe tbody tr th:only-of-type {\n",
       "        vertical-align: middle;\n",
       "    }\n",
       "\n",
       "    .dataframe tbody tr th {\n",
       "        vertical-align: top;\n",
       "    }\n",
       "\n",
       "    .dataframe thead th {\n",
       "        text-align: right;\n",
       "    }\n",
       "</style>\n",
       "<table border=\"1\" class=\"dataframe\">\n",
       "  <thead>\n",
       "    <tr style=\"text-align: right;\">\n",
       "      <th></th>\n",
       "      <th>name</th>\n",
       "      <th>mass</th>\n",
       "    </tr>\n",
       "  </thead>\n",
       "  <tbody>\n",
       "    <tr>\n",
       "      <th>0</th>\n",
       "      <td>Mercury</td>\n",
       "      <td>0.0553</td>\n",
       "    </tr>\n",
       "    <tr>\n",
       "      <th>1</th>\n",
       "      <td>Venus</td>\n",
       "      <td>0.8150</td>\n",
       "    </tr>\n",
       "    <tr>\n",
       "      <th>2</th>\n",
       "      <td>Earth</td>\n",
       "      <td>1.0000</td>\n",
       "    </tr>\n",
       "    <tr>\n",
       "      <th>3</th>\n",
       "      <td>Mars</td>\n",
       "      <td>0.1070</td>\n",
       "    </tr>\n",
       "    <tr>\n",
       "      <th>4</th>\n",
       "      <td>Jupiter</td>\n",
       "      <td>317.8000</td>\n",
       "    </tr>\n",
       "    <tr>\n",
       "      <th>5</th>\n",
       "      <td>Saturn</td>\n",
       "      <td>95.2000</td>\n",
       "    </tr>\n",
       "    <tr>\n",
       "      <th>6</th>\n",
       "      <td>Uranus</td>\n",
       "      <td>14.5000</td>\n",
       "    </tr>\n",
       "    <tr>\n",
       "      <th>7</th>\n",
       "      <td>Neptune</td>\n",
       "      <td>17.1000</td>\n",
       "    </tr>\n",
       "  </tbody>\n",
       "</table>\n",
       "</div>"
      ],
      "text/plain": [
       "      name      mass\n",
       "0  Mercury    0.0553\n",
       "1    Venus    0.8150\n",
       "2    Earth    1.0000\n",
       "3     Mars    0.1070\n",
       "4  Jupiter  317.8000\n",
       "5   Saturn   95.2000\n",
       "6   Uranus   14.5000\n",
       "7  Neptune   17.1000"
      ]
     },
     "execution_count": 88,
     "metadata": {},
     "output_type": "execute_result"
    }
   ],
   "source": [
    "planets[['name','mass']]"
   ]
  },
  {
   "cell_type": "markdown",
   "metadata": {},
   "source": [
    "### Exercise\n",
    "\n",
    "1. Select the first three rows, but only the **name** and **diameter** columns."
   ]
  },
  {
   "cell_type": "code",
   "execution_count": 105,
   "metadata": {},
   "outputs": [
    {
     "data": {
      "text/html": [
       "<div>\n",
       "<style scoped>\n",
       "    .dataframe tbody tr th:only-of-type {\n",
       "        vertical-align: middle;\n",
       "    }\n",
       "\n",
       "    .dataframe tbody tr th {\n",
       "        vertical-align: top;\n",
       "    }\n",
       "\n",
       "    .dataframe thead th {\n",
       "        text-align: right;\n",
       "    }\n",
       "</style>\n",
       "<table border=\"1\" class=\"dataframe\">\n",
       "  <thead>\n",
       "    <tr style=\"text-align: right;\">\n",
       "      <th></th>\n",
       "      <th>name</th>\n",
       "      <th>diameter</th>\n",
       "    </tr>\n",
       "  </thead>\n",
       "  <tbody>\n",
       "    <tr>\n",
       "      <th>0</th>\n",
       "      <td>Mercury</td>\n",
       "      <td>0.383</td>\n",
       "    </tr>\n",
       "    <tr>\n",
       "      <th>1</th>\n",
       "      <td>Venus</td>\n",
       "      <td>0.949</td>\n",
       "    </tr>\n",
       "    <tr>\n",
       "      <th>2</th>\n",
       "      <td>Earth</td>\n",
       "      <td>1.000</td>\n",
       "    </tr>\n",
       "  </tbody>\n",
       "</table>\n",
       "</div>"
      ],
      "text/plain": [
       "      name  diameter\n",
       "0  Mercury     0.383\n",
       "1    Venus     0.949\n",
       "2    Earth     1.000"
      ]
     },
     "execution_count": 105,
     "metadata": {},
     "output_type": "execute_result"
    }
   ],
   "source": [
    "planets[['name', 'diameter']].head(3)"
   ]
  },
  {
   "cell_type": "markdown",
   "metadata": {},
   "source": [
    "2. Select the first two columns for rows 4 and 6."
   ]
  },
  {
   "cell_type": "code",
   "execution_count": 107,
   "metadata": {},
   "outputs": [
    {
     "data": {
      "text/html": [
       "<div>\n",
       "<style scoped>\n",
       "    .dataframe tbody tr th:only-of-type {\n",
       "        vertical-align: middle;\n",
       "    }\n",
       "\n",
       "    .dataframe tbody tr th {\n",
       "        vertical-align: top;\n",
       "    }\n",
       "\n",
       "    .dataframe thead th {\n",
       "        text-align: right;\n",
       "    }\n",
       "</style>\n",
       "<table border=\"1\" class=\"dataframe\">\n",
       "  <thead>\n",
       "    <tr style=\"text-align: right;\">\n",
       "      <th></th>\n",
       "      <th>name</th>\n",
       "      <th>type</th>\n",
       "    </tr>\n",
       "  </thead>\n",
       "  <tbody>\n",
       "    <tr>\n",
       "      <th>3</th>\n",
       "      <td>Mars</td>\n",
       "      <td>Terrestrial</td>\n",
       "    </tr>\n",
       "    <tr>\n",
       "      <th>5</th>\n",
       "      <td>Saturn</td>\n",
       "      <td>Gas giant</td>\n",
       "    </tr>\n",
       "  </tbody>\n",
       "</table>\n",
       "</div>"
      ],
      "text/plain": [
       "     name         type\n",
       "3    Mars  Terrestrial\n",
       "5  Saturn    Gas giant"
      ]
     },
     "execution_count": 107,
     "metadata": {},
     "output_type": "execute_result"
    }
   ],
   "source": [
    "planets.iloc[[3,5],:2]"
   ]
  },
  {
   "cell_type": "code",
   "execution_count": 25,
   "metadata": {},
   "outputs": [
    {
     "data": {
      "text/plain": [
       "name        Earth\n",
       "mass          1.0\n",
       "diameter      1.0\n",
       "Name: 2, dtype: object"
      ]
     },
     "execution_count": 25,
     "metadata": {},
     "output_type": "execute_result"
    }
   ],
   "source": [
    "planets.loc[2,['name','mass','diameter']]"
   ]
  },
  {
   "cell_type": "markdown",
   "metadata": {},
   "source": [
    "3. Make a plot of `distance_from_sun` vs `orbital period`."
   ]
  },
  {
   "cell_type": "code",
   "execution_count": 18,
   "metadata": {},
   "outputs": [
    {
     "data": {
      "image/png": "[encoded data removed]",
      "text/plain": [
       "<Figure size 640x480 with 1 Axes>"
      ]
     },
     "metadata": {},
     "output_type": "display_data"
    }
   ],
   "source": [
    "\n",
    "import matplotlib.pyplot as plt\n",
    "distance = planets['distance_from_sun']\n",
    "orbital_period = planets['orbital_period']\n",
    "\n",
    "plt.xlabel('Distance from Sun')\n",
    "plt.ylabel('Orbital Period')\n",
    "plt.title('Orbital Period vs Distance from Sun')\n",
    "plt.yscale('log')\n",
    "plt.xscale('log')\n",
    "plt.plot(distance, orbital_period, marker='o')\n",
    "\n",
    "plt.show()"
   ]
  },
  {
   "cell_type": "markdown",
   "metadata": {},
   "source": [
    "***\n",
    "\n",
    "## Querying and sorting data\n",
    "\n",
    "Of course, we are not just limited to accessing data by position and label.\n",
    "\n",
    "Here are a couple of useful DataFrame methods for basic data manipulation:"
   ]
  },
  {
   "cell_type": "markdown",
   "metadata": {},
   "source": [
    "### [`query`](https://pandas.pydata.org/pandas-docs/stable/reference/api/pandas.DataFrame.query.html)\n",
    "selects rows according to whatever conditions we specify, e.g.:"
   ]
  },
  {
   "cell_type": "code",
   "execution_count": 44,
   "metadata": {},
   "outputs": [
    {
     "ename": "SyntaxError",
     "evalue": "invalid syntax (<unknown>, line 1)",
     "output_type": "error",
     "traceback": [
      "Traceback \u001b[0;36m(most recent call last)\u001b[0m:\n",
      "\u001b[0m  File \u001b[1;32m~/.local/lib/python3.11/site-packages/IPython/core/interactiveshell.py:3577\u001b[0m in \u001b[1;35mrun_code\u001b[0m\n    exec(code_obj, self.user_global_ns, self.user_ns)\u001b[0m\n",
      "\u001b[0m  Cell \u001b[1;32mIn[51], line 1\u001b[0m\n    planets.query('\"len(\"name\")\" >= 4')\u001b[0m\n",
      "\u001b[0m  File \u001b[1;32m~/.local/lib/python3.11/site-packages/pandas/core/frame.py:4823\u001b[0m in \u001b[1;35mquery\u001b[0m\n    res = self.eval(expr, **kwargs)\u001b[0m\n",
      "\u001b[0m  File \u001b[1;32m~/.local/lib/python3.11/site-packages/pandas/core/frame.py:4949\u001b[0m in \u001b[1;35meval\u001b[0m\n    return _eval(expr, inplace=inplace, **kwargs)\u001b[0m\n",
      "\u001b[0m  File \u001b[1;32m~/.local/lib/python3.11/site-packages/pandas/core/computation/eval.py:336\u001b[0m in \u001b[1;35meval\u001b[0m\n    parsed_expr = Expr(expr, engine=engine, parser=parser, env=env)\u001b[0m\n",
      "\u001b[0m  File \u001b[1;32m~/.local/lib/python3.11/site-packages/pandas/core/computation/expr.py:805\u001b[0m in \u001b[1;35m__init__\u001b[0m\n    self.terms = self.parse()\u001b[0m\n",
      "\u001b[0m  File \u001b[1;32m~/.local/lib/python3.11/site-packages/pandas/core/computation/expr.py:824\u001b[0m in \u001b[1;35mparse\u001b[0m\n    return self._visitor.visit(self.expr)\u001b[0m\n",
      "\u001b[0m  File \u001b[1;32m~/.local/lib/python3.11/site-packages/pandas/core/computation/expr.py:407\u001b[0m in \u001b[1;35mvisit\u001b[0m\n    raise e\u001b[0m\n",
      "\u001b[0m  File \u001b[1;32m~/.local/lib/python3.11/site-packages/pandas/core/computation/expr.py:403\u001b[0m in \u001b[1;35mvisit\u001b[0m\n    node = ast.fix_missing_locations(ast.parse(clean))\u001b[0m\n",
      "\u001b[0;36m  File \u001b[0;32m/usr/local/lib/python3.11/ast.py:50\u001b[0;36m in \u001b[0;35mparse\u001b[0;36m\n\u001b[0;31m    return compile(source, filename, mode, flags,\u001b[0;36m\n",
      "\u001b[0;36m  File \u001b[0;32m<unknown>:1\u001b[0;36m\u001b[0m\n\u001b[0;31m    \"len(\"name \")\">=4\u001b[0m\n\u001b[0m          ^\u001b[0m\n\u001b[0;31mSyntaxError\u001b[0m\u001b[0;31m:\u001b[0m invalid syntax\n"
     ]
    }
   ],
   "source": [
    "planets.query('\"len(\"name\")\" >= 4')"
   ]
  },
  {
   "cell_type": "code",
   "execution_count": 16,
   "metadata": {},
   "outputs": [
    {
     "data": {
      "text/html": [
       "<div>\n",
       "<style scoped>\n",
       "    .dataframe tbody tr th:only-of-type {\n",
       "        vertical-align: middle;\n",
       "    }\n",
       "\n",
       "    .dataframe tbody tr th {\n",
       "        vertical-align: top;\n",
       "    }\n",
       "\n",
       "    .dataframe thead th {\n",
       "        text-align: right;\n",
       "    }\n",
       "</style>\n",
       "<table border=\"1\" class=\"dataframe\">\n",
       "  <thead>\n",
       "    <tr style=\"text-align: right;\">\n",
       "      <th></th>\n",
       "      <th>name</th>\n",
       "      <th>type</th>\n",
       "      <th>mass</th>\n",
       "      <th>diameter</th>\n",
       "      <th>distance_from_sun</th>\n",
       "      <th>orbital_period</th>\n",
       "      <th>rings</th>\n",
       "    </tr>\n",
       "  </thead>\n",
       "  <tbody>\n",
       "    <tr>\n",
       "      <th>2</th>\n",
       "      <td>Earth</td>\n",
       "      <td>Terrestrial</td>\n",
       "      <td>1.0</td>\n",
       "      <td>1.00</td>\n",
       "      <td>1.00</td>\n",
       "      <td>1.0</td>\n",
       "      <td>False</td>\n",
       "    </tr>\n",
       "    <tr>\n",
       "      <th>4</th>\n",
       "      <td>Jupiter</td>\n",
       "      <td>Gas giant</td>\n",
       "      <td>317.8</td>\n",
       "      <td>11.21</td>\n",
       "      <td>5.20</td>\n",
       "      <td>11.9</td>\n",
       "      <td>True</td>\n",
       "    </tr>\n",
       "    <tr>\n",
       "      <th>5</th>\n",
       "      <td>Saturn</td>\n",
       "      <td>Gas giant</td>\n",
       "      <td>95.2</td>\n",
       "      <td>9.45</td>\n",
       "      <td>9.58</td>\n",
       "      <td>29.4</td>\n",
       "      <td>True</td>\n",
       "    </tr>\n",
       "    <tr>\n",
       "      <th>6</th>\n",
       "      <td>Uranus</td>\n",
       "      <td>Ice giant</td>\n",
       "      <td>14.5</td>\n",
       "      <td>4.01</td>\n",
       "      <td>19.20</td>\n",
       "      <td>83.7</td>\n",
       "      <td>True</td>\n",
       "    </tr>\n",
       "    <tr>\n",
       "      <th>7</th>\n",
       "      <td>Neptune</td>\n",
       "      <td>Ice giant</td>\n",
       "      <td>17.1</td>\n",
       "      <td>3.88</td>\n",
       "      <td>30.05</td>\n",
       "      <td>163.7</td>\n",
       "      <td>True</td>\n",
       "    </tr>\n",
       "  </tbody>\n",
       "</table>\n",
       "</div>"
      ],
      "text/plain": [
       "      name         type   mass  diameter  distance_from_sun  orbital_period  \\\n",
       "2    Earth  Terrestrial    1.0      1.00               1.00             1.0   \n",
       "4  Jupiter    Gas giant  317.8     11.21               5.20            11.9   \n",
       "5   Saturn    Gas giant   95.2      9.45               9.58            29.4   \n",
       "6   Uranus    Ice giant   14.5      4.01              19.20            83.7   \n",
       "7  Neptune    Ice giant   17.1      3.88              30.05           163.7   \n",
       "\n",
       "   rings  \n",
       "2  False  \n",
       "4   True  \n",
       "5   True  \n",
       "6   True  \n",
       "7   True  "
      ]
     },
     "execution_count": 16,
     "metadata": {},
     "output_type": "execute_result"
    }
   ],
   "source": [
    "planets.query('diameter >= 1')"
   ]
  },
  {
   "cell_type": "markdown",
   "metadata": {},
   "source": [
    "Note that the query is a Boolean expression, provided as a string `''`. \n",
    "\n",
    "Inside the query, column names are unquoted and string values are quoted using `\"\"`.\n",
    "\n",
    "We can refer to columns containing spaces by enclosing them in backticks ` `` `.\n",
    "\n",
    "We can also refer to variables in the environment using the `@` prefix."
   ]
  },
  {
   "cell_type": "code",
   "execution_count": 26,
   "metadata": {},
   "outputs": [
    {
     "data": {
      "text/html": [
       "<div>\n",
       "<style scoped>\n",
       "    .dataframe tbody tr th:only-of-type {\n",
       "        vertical-align: middle;\n",
       "    }\n",
       "\n",
       "    .dataframe tbody tr th {\n",
       "        vertical-align: top;\n",
       "    }\n",
       "\n",
       "    .dataframe thead th {\n",
       "        text-align: right;\n",
       "    }\n",
       "</style>\n",
       "<table border=\"1\" class=\"dataframe\">\n",
       "  <thead>\n",
       "    <tr style=\"text-align: right;\">\n",
       "      <th></th>\n",
       "      <th>name</th>\n",
       "      <th>type</th>\n",
       "      <th>mass</th>\n",
       "      <th>diameter</th>\n",
       "      <th>distance_from_sun</th>\n",
       "      <th>orbital_period</th>\n",
       "      <th>rings</th>\n",
       "    </tr>\n",
       "  </thead>\n",
       "  <tbody>\n",
       "    <tr>\n",
       "      <th>4</th>\n",
       "      <td>Jupiter</td>\n",
       "      <td>Gas giant</td>\n",
       "      <td>317.8</td>\n",
       "      <td>11.21</td>\n",
       "      <td>5.20</td>\n",
       "      <td>11.9</td>\n",
       "      <td>True</td>\n",
       "    </tr>\n",
       "    <tr>\n",
       "      <th>5</th>\n",
       "      <td>Saturn</td>\n",
       "      <td>Gas giant</td>\n",
       "      <td>95.2</td>\n",
       "      <td>9.45</td>\n",
       "      <td>9.58</td>\n",
       "      <td>29.4</td>\n",
       "      <td>True</td>\n",
       "    </tr>\n",
       "  </tbody>\n",
       "</table>\n",
       "</div>"
      ],
      "text/plain": [
       "      name       type   mass  diameter  distance_from_sun  orbital_period  \\\n",
       "4  Jupiter  Gas giant  317.8     11.21               5.20            11.9   \n",
       "5   Saturn  Gas giant   95.2      9.45               9.58            29.4   \n",
       "\n",
       "   rings  \n",
       "4   True  \n",
       "5   True  "
      ]
     },
     "execution_count": 26,
     "metadata": {},
     "output_type": "execute_result"
    }
   ],
   "source": [
    "max_period = 30\n",
    "planets.query('rings and orbital_period < @max_period')"
   ]
  },
  {
   "cell_type": "markdown",
   "metadata": {},
   "source": [
    "### [`sort_values`](https://pandas.pydata.org/pandas-docs/stable/reference/api/pandas.DataFrame.sort_values.html)\n",
    "\n",
    "returns a copy of the DataFrame, sorted by ascending column value:"
   ]
  },
  {
   "cell_type": "code",
   "execution_count": 27,
   "metadata": {},
   "outputs": [
    {
     "data": {
      "text/html": [
       "<div>\n",
       "<style scoped>\n",
       "    .dataframe tbody tr th:only-of-type {\n",
       "        vertical-align: middle;\n",
       "    }\n",
       "\n",
       "    .dataframe tbody tr th {\n",
       "        vertical-align: top;\n",
       "    }\n",
       "\n",
       "    .dataframe thead th {\n",
       "        text-align: right;\n",
       "    }\n",
       "</style>\n",
       "<table border=\"1\" class=\"dataframe\">\n",
       "  <thead>\n",
       "    <tr style=\"text-align: right;\">\n",
       "      <th></th>\n",
       "      <th>name</th>\n",
       "      <th>type</th>\n",
       "      <th>mass</th>\n",
       "      <th>diameter</th>\n",
       "      <th>distance_from_sun</th>\n",
       "      <th>orbital_period</th>\n",
       "      <th>rings</th>\n",
       "    </tr>\n",
       "  </thead>\n",
       "  <tbody>\n",
       "    <tr>\n",
       "      <th>0</th>\n",
       "      <td>Mercury</td>\n",
       "      <td>Terrestrial</td>\n",
       "      <td>0.0553</td>\n",
       "      <td>0.383</td>\n",
       "      <td>0.387</td>\n",
       "      <td>0.241</td>\n",
       "      <td>False</td>\n",
       "    </tr>\n",
       "    <tr>\n",
       "      <th>3</th>\n",
       "      <td>Mars</td>\n",
       "      <td>Terrestrial</td>\n",
       "      <td>0.1070</td>\n",
       "      <td>0.532</td>\n",
       "      <td>1.520</td>\n",
       "      <td>1.880</td>\n",
       "      <td>False</td>\n",
       "    </tr>\n",
       "    <tr>\n",
       "      <th>1</th>\n",
       "      <td>Venus</td>\n",
       "      <td>Terrestrial</td>\n",
       "      <td>0.8150</td>\n",
       "      <td>0.949</td>\n",
       "      <td>0.723</td>\n",
       "      <td>0.615</td>\n",
       "      <td>False</td>\n",
       "    </tr>\n",
       "    <tr>\n",
       "      <th>2</th>\n",
       "      <td>Earth</td>\n",
       "      <td>Terrestrial</td>\n",
       "      <td>1.0000</td>\n",
       "      <td>1.000</td>\n",
       "      <td>1.000</td>\n",
       "      <td>1.000</td>\n",
       "      <td>False</td>\n",
       "    </tr>\n",
       "    <tr>\n",
       "      <th>7</th>\n",
       "      <td>Neptune</td>\n",
       "      <td>Ice giant</td>\n",
       "      <td>17.1000</td>\n",
       "      <td>3.880</td>\n",
       "      <td>30.050</td>\n",
       "      <td>163.700</td>\n",
       "      <td>True</td>\n",
       "    </tr>\n",
       "    <tr>\n",
       "      <th>6</th>\n",
       "      <td>Uranus</td>\n",
       "      <td>Ice giant</td>\n",
       "      <td>14.5000</td>\n",
       "      <td>4.010</td>\n",
       "      <td>19.200</td>\n",
       "      <td>83.700</td>\n",
       "      <td>True</td>\n",
       "    </tr>\n",
       "    <tr>\n",
       "      <th>5</th>\n",
       "      <td>Saturn</td>\n",
       "      <td>Gas giant</td>\n",
       "      <td>95.2000</td>\n",
       "      <td>9.450</td>\n",
       "      <td>9.580</td>\n",
       "      <td>29.400</td>\n",
       "      <td>True</td>\n",
       "    </tr>\n",
       "    <tr>\n",
       "      <th>4</th>\n",
       "      <td>Jupiter</td>\n",
       "      <td>Gas giant</td>\n",
       "      <td>317.8000</td>\n",
       "      <td>11.210</td>\n",
       "      <td>5.200</td>\n",
       "      <td>11.900</td>\n",
       "      <td>True</td>\n",
       "    </tr>\n",
       "  </tbody>\n",
       "</table>\n",
       "</div>"
      ],
      "text/plain": [
       "      name         type      mass  diameter  distance_from_sun  \\\n",
       "0  Mercury  Terrestrial    0.0553     0.383              0.387   \n",
       "3     Mars  Terrestrial    0.1070     0.532              1.520   \n",
       "1    Venus  Terrestrial    0.8150     0.949              0.723   \n",
       "2    Earth  Terrestrial    1.0000     1.000              1.000   \n",
       "7  Neptune    Ice giant   17.1000     3.880             30.050   \n",
       "6   Uranus    Ice giant   14.5000     4.010             19.200   \n",
       "5   Saturn    Gas giant   95.2000     9.450              9.580   \n",
       "4  Jupiter    Gas giant  317.8000    11.210              5.200   \n",
       "\n",
       "   orbital_period  rings  \n",
       "0           0.241  False  \n",
       "3           1.880  False  \n",
       "1           0.615  False  \n",
       "2           1.000  False  \n",
       "7         163.700   True  \n",
       "6          83.700   True  \n",
       "5          29.400   True  \n",
       "4          11.900   True  "
      ]
     },
     "execution_count": 27,
     "metadata": {},
     "output_type": "execute_result"
    }
   ],
   "source": [
    "planets.sort_values('diameter')"
   ]
  },
  {
   "cell_type": "markdown",
   "metadata": {},
   "source": [
    "...or by descending value using `ascending=False`:"
   ]
  },
  {
   "cell_type": "code",
   "execution_count": 28,
   "metadata": {},
   "outputs": [
    {
     "data": {
      "text/html": [
       "<div>\n",
       "<style scoped>\n",
       "    .dataframe tbody tr th:only-of-type {\n",
       "        vertical-align: middle;\n",
       "    }\n",
       "\n",
       "    .dataframe tbody tr th {\n",
       "        vertical-align: top;\n",
       "    }\n",
       "\n",
       "    .dataframe thead th {\n",
       "        text-align: right;\n",
       "    }\n",
       "</style>\n",
       "<table border=\"1\" class=\"dataframe\">\n",
       "  <thead>\n",
       "    <tr style=\"text-align: right;\">\n",
       "      <th></th>\n",
       "      <th>name</th>\n",
       "      <th>type</th>\n",
       "      <th>mass</th>\n",
       "      <th>diameter</th>\n",
       "      <th>distance_from_sun</th>\n",
       "      <th>orbital_period</th>\n",
       "      <th>rings</th>\n",
       "    </tr>\n",
       "  </thead>\n",
       "  <tbody>\n",
       "    <tr>\n",
       "      <th>4</th>\n",
       "      <td>Jupiter</td>\n",
       "      <td>Gas giant</td>\n",
       "      <td>317.8000</td>\n",
       "      <td>11.210</td>\n",
       "      <td>5.200</td>\n",
       "      <td>11.900</td>\n",
       "      <td>True</td>\n",
       "    </tr>\n",
       "    <tr>\n",
       "      <th>5</th>\n",
       "      <td>Saturn</td>\n",
       "      <td>Gas giant</td>\n",
       "      <td>95.2000</td>\n",
       "      <td>9.450</td>\n",
       "      <td>9.580</td>\n",
       "      <td>29.400</td>\n",
       "      <td>True</td>\n",
       "    </tr>\n",
       "    <tr>\n",
       "      <th>6</th>\n",
       "      <td>Uranus</td>\n",
       "      <td>Ice giant</td>\n",
       "      <td>14.5000</td>\n",
       "      <td>4.010</td>\n",
       "      <td>19.200</td>\n",
       "      <td>83.700</td>\n",
       "      <td>True</td>\n",
       "    </tr>\n",
       "    <tr>\n",
       "      <th>7</th>\n",
       "      <td>Neptune</td>\n",
       "      <td>Ice giant</td>\n",
       "      <td>17.1000</td>\n",
       "      <td>3.880</td>\n",
       "      <td>30.050</td>\n",
       "      <td>163.700</td>\n",
       "      <td>True</td>\n",
       "    </tr>\n",
       "    <tr>\n",
       "      <th>2</th>\n",
       "      <td>Earth</td>\n",
       "      <td>Terrestrial</td>\n",
       "      <td>1.0000</td>\n",
       "      <td>1.000</td>\n",
       "      <td>1.000</td>\n",
       "      <td>1.000</td>\n",
       "      <td>False</td>\n",
       "    </tr>\n",
       "    <tr>\n",
       "      <th>1</th>\n",
       "      <td>Venus</td>\n",
       "      <td>Terrestrial</td>\n",
       "      <td>0.8150</td>\n",
       "      <td>0.949</td>\n",
       "      <td>0.723</td>\n",
       "      <td>0.615</td>\n",
       "      <td>False</td>\n",
       "    </tr>\n",
       "    <tr>\n",
       "      <th>3</th>\n",
       "      <td>Mars</td>\n",
       "      <td>Terrestrial</td>\n",
       "      <td>0.1070</td>\n",
       "      <td>0.532</td>\n",
       "      <td>1.520</td>\n",
       "      <td>1.880</td>\n",
       "      <td>False</td>\n",
       "    </tr>\n",
       "    <tr>\n",
       "      <th>0</th>\n",
       "      <td>Mercury</td>\n",
       "      <td>Terrestrial</td>\n",
       "      <td>0.0553</td>\n",
       "      <td>0.383</td>\n",
       "      <td>0.387</td>\n",
       "      <td>0.241</td>\n",
       "      <td>False</td>\n",
       "    </tr>\n",
       "  </tbody>\n",
       "</table>\n",
       "</div>"
      ],
      "text/plain": [
       "      name         type      mass  diameter  distance_from_sun  \\\n",
       "4  Jupiter    Gas giant  317.8000    11.210              5.200   \n",
       "5   Saturn    Gas giant   95.2000     9.450              9.580   \n",
       "6   Uranus    Ice giant   14.5000     4.010             19.200   \n",
       "7  Neptune    Ice giant   17.1000     3.880             30.050   \n",
       "2    Earth  Terrestrial    1.0000     1.000              1.000   \n",
       "1    Venus  Terrestrial    0.8150     0.949              0.723   \n",
       "3     Mars  Terrestrial    0.1070     0.532              1.520   \n",
       "0  Mercury  Terrestrial    0.0553     0.383              0.387   \n",
       "\n",
       "   orbital_period  rings  \n",
       "4          11.900   True  \n",
       "5          29.400   True  \n",
       "6          83.700   True  \n",
       "7         163.700   True  \n",
       "2           1.000  False  \n",
       "1           0.615  False  \n",
       "3           1.880  False  \n",
       "0           0.241  False  "
      ]
     },
     "execution_count": 28,
     "metadata": {},
     "output_type": "execute_result"
    }
   ],
   "source": [
    "planets.sort_values('diameter', ascending=False)"
   ]
  },
  {
   "cell_type": "markdown",
   "metadata": {},
   "source": [
    "The original DataFrame is unchanged:"
   ]
  },
  {
   "cell_type": "code",
   "execution_count": 29,
   "metadata": {},
   "outputs": [
    {
     "data": {
      "text/html": [
       "<div>\n",
       "<style scoped>\n",
       "    .dataframe tbody tr th:only-of-type {\n",
       "        vertical-align: middle;\n",
       "    }\n",
       "\n",
       "    .dataframe tbody tr th {\n",
       "        vertical-align: top;\n",
       "    }\n",
       "\n",
       "    .dataframe thead th {\n",
       "        text-align: right;\n",
       "    }\n",
       "</style>\n",
       "<table border=\"1\" class=\"dataframe\">\n",
       "  <thead>\n",
       "    <tr style=\"text-align: right;\">\n",
       "      <th></th>\n",
       "      <th>name</th>\n",
       "      <th>type</th>\n",
       "      <th>mass</th>\n",
       "      <th>diameter</th>\n",
       "      <th>distance_from_sun</th>\n",
       "      <th>orbital_period</th>\n",
       "      <th>rings</th>\n",
       "    </tr>\n",
       "  </thead>\n",
       "  <tbody>\n",
       "    <tr>\n",
       "      <th>0</th>\n",
       "      <td>Mercury</td>\n",
       "      <td>Terrestrial</td>\n",
       "      <td>0.0553</td>\n",
       "      <td>0.383</td>\n",
       "      <td>0.387</td>\n",
       "      <td>0.241</td>\n",
       "      <td>False</td>\n",
       "    </tr>\n",
       "    <tr>\n",
       "      <th>1</th>\n",
       "      <td>Venus</td>\n",
       "      <td>Terrestrial</td>\n",
       "      <td>0.8150</td>\n",
       "      <td>0.949</td>\n",
       "      <td>0.723</td>\n",
       "      <td>0.615</td>\n",
       "      <td>False</td>\n",
       "    </tr>\n",
       "    <tr>\n",
       "      <th>2</th>\n",
       "      <td>Earth</td>\n",
       "      <td>Terrestrial</td>\n",
       "      <td>1.0000</td>\n",
       "      <td>1.000</td>\n",
       "      <td>1.000</td>\n",
       "      <td>1.000</td>\n",
       "      <td>False</td>\n",
       "    </tr>\n",
       "    <tr>\n",
       "      <th>3</th>\n",
       "      <td>Mars</td>\n",
       "      <td>Terrestrial</td>\n",
       "      <td>0.1070</td>\n",
       "      <td>0.532</td>\n",
       "      <td>1.520</td>\n",
       "      <td>1.880</td>\n",
       "      <td>False</td>\n",
       "    </tr>\n",
       "    <tr>\n",
       "      <th>4</th>\n",
       "      <td>Jupiter</td>\n",
       "      <td>Gas giant</td>\n",
       "      <td>317.8000</td>\n",
       "      <td>11.210</td>\n",
       "      <td>5.200</td>\n",
       "      <td>11.900</td>\n",
       "      <td>True</td>\n",
       "    </tr>\n",
       "    <tr>\n",
       "      <th>5</th>\n",
       "      <td>Saturn</td>\n",
       "      <td>Gas giant</td>\n",
       "      <td>95.2000</td>\n",
       "      <td>9.450</td>\n",
       "      <td>9.580</td>\n",
       "      <td>29.400</td>\n",
       "      <td>True</td>\n",
       "    </tr>\n",
       "    <tr>\n",
       "      <th>6</th>\n",
       "      <td>Uranus</td>\n",
       "      <td>Ice giant</td>\n",
       "      <td>14.5000</td>\n",
       "      <td>4.010</td>\n",
       "      <td>19.200</td>\n",
       "      <td>83.700</td>\n",
       "      <td>True</td>\n",
       "    </tr>\n",
       "    <tr>\n",
       "      <th>7</th>\n",
       "      <td>Neptune</td>\n",
       "      <td>Ice giant</td>\n",
       "      <td>17.1000</td>\n",
       "      <td>3.880</td>\n",
       "      <td>30.050</td>\n",
       "      <td>163.700</td>\n",
       "      <td>True</td>\n",
       "    </tr>\n",
       "  </tbody>\n",
       "</table>\n",
       "</div>"
      ],
      "text/plain": [
       "      name         type      mass  diameter  distance_from_sun  \\\n",
       "0  Mercury  Terrestrial    0.0553     0.383              0.387   \n",
       "1    Venus  Terrestrial    0.8150     0.949              0.723   \n",
       "2    Earth  Terrestrial    1.0000     1.000              1.000   \n",
       "3     Mars  Terrestrial    0.1070     0.532              1.520   \n",
       "4  Jupiter    Gas giant  317.8000    11.210              5.200   \n",
       "5   Saturn    Gas giant   95.2000     9.450              9.580   \n",
       "6   Uranus    Ice giant   14.5000     4.010             19.200   \n",
       "7  Neptune    Ice giant   17.1000     3.880             30.050   \n",
       "\n",
       "   orbital_period  rings  \n",
       "0           0.241  False  \n",
       "1           0.615  False  \n",
       "2           1.000  False  \n",
       "3           1.880  False  \n",
       "4          11.900   True  \n",
       "5          29.400   True  \n",
       "6          83.700   True  \n",
       "7         163.700   True  "
      ]
     },
     "execution_count": 29,
     "metadata": {},
     "output_type": "execute_result"
    }
   ],
   "source": [
    "planets"
   ]
  },
  {
   "cell_type": "markdown",
   "metadata": {},
   "source": [
    "### Exercise\n",
    "\n",
    "Use manipulations of `planets` to make DataFrames containing the following:"
   ]
  },
  {
   "cell_type": "markdown",
   "metadata": {},
   "source": [
    "1. the terrestrial planets, ordered by increasing orbital period."
   ]
  },
  {
   "cell_type": "code",
   "execution_count": 42,
   "metadata": {},
   "outputs": [
    {
     "data": {
      "text/html": [
       "<div>\n",
       "<style scoped>\n",
       "    .dataframe tbody tr th:only-of-type {\n",
       "        vertical-align: middle;\n",
       "    }\n",
       "\n",
       "    .dataframe tbody tr th {\n",
       "        vertical-align: top;\n",
       "    }\n",
       "\n",
       "    .dataframe thead th {\n",
       "        text-align: right;\n",
       "    }\n",
       "</style>\n",
       "<table border=\"1\" class=\"dataframe\">\n",
       "  <thead>\n",
       "    <tr style=\"text-align: right;\">\n",
       "      <th></th>\n",
       "      <th>name</th>\n",
       "      <th>type</th>\n",
       "      <th>mass</th>\n",
       "      <th>diameter</th>\n",
       "      <th>distance_from_sun</th>\n",
       "      <th>orbital_period</th>\n",
       "      <th>rings</th>\n",
       "    </tr>\n",
       "  </thead>\n",
       "  <tbody>\n",
       "    <tr>\n",
       "      <th>0</th>\n",
       "      <td>Mercury</td>\n",
       "      <td>Terrestrial</td>\n",
       "      <td>0.0553</td>\n",
       "      <td>0.383</td>\n",
       "      <td>0.387</td>\n",
       "      <td>0.241</td>\n",
       "      <td>False</td>\n",
       "    </tr>\n",
       "    <tr>\n",
       "      <th>1</th>\n",
       "      <td>Venus</td>\n",
       "      <td>Terrestrial</td>\n",
       "      <td>0.8150</td>\n",
       "      <td>0.949</td>\n",
       "      <td>0.723</td>\n",
       "      <td>0.615</td>\n",
       "      <td>False</td>\n",
       "    </tr>\n",
       "    <tr>\n",
       "      <th>2</th>\n",
       "      <td>Earth</td>\n",
       "      <td>Terrestrial</td>\n",
       "      <td>1.0000</td>\n",
       "      <td>1.000</td>\n",
       "      <td>1.000</td>\n",
       "      <td>1.000</td>\n",
       "      <td>False</td>\n",
       "    </tr>\n",
       "    <tr>\n",
       "      <th>3</th>\n",
       "      <td>Mars</td>\n",
       "      <td>Terrestrial</td>\n",
       "      <td>0.1070</td>\n",
       "      <td>0.532</td>\n",
       "      <td>1.520</td>\n",
       "      <td>1.880</td>\n",
       "      <td>False</td>\n",
       "    </tr>\n",
       "  </tbody>\n",
       "</table>\n",
       "</div>"
      ],
      "text/plain": [
       "      name         type    mass  diameter  distance_from_sun  orbital_period  \\\n",
       "0  Mercury  Terrestrial  0.0553     0.383              0.387           0.241   \n",
       "1    Venus  Terrestrial  0.8150     0.949              0.723           0.615   \n",
       "2    Earth  Terrestrial  1.0000     1.000              1.000           1.000   \n",
       "3     Mars  Terrestrial  0.1070     0.532              1.520           1.880   \n",
       "\n",
       "   rings  \n",
       "0  False  \n",
       "1  False  \n",
       "2  False  \n",
       "3  False  "
      ]
     },
     "execution_count": 42,
     "metadata": {},
     "output_type": "execute_result"
    }
   ],
   "source": [
    "planets.query('type==\"Terrestrial\"').sort_values(['orbital_period'])"
   ]
  },
  {
   "cell_type": "markdown",
   "metadata": {},
   "source": [
    "2. the giant planets, ordered from largest to smallest."
   ]
  },
  {
   "cell_type": "code",
   "execution_count": 43,
   "metadata": {},
   "outputs": [
    {
     "data": {
      "text/html": [
       "<div>\n",
       "<style scoped>\n",
       "    .dataframe tbody tr th:only-of-type {\n",
       "        vertical-align: middle;\n",
       "    }\n",
       "\n",
       "    .dataframe tbody tr th {\n",
       "        vertical-align: top;\n",
       "    }\n",
       "\n",
       "    .dataframe thead th {\n",
       "        text-align: right;\n",
       "    }\n",
       "</style>\n",
       "<table border=\"1\" class=\"dataframe\">\n",
       "  <thead>\n",
       "    <tr style=\"text-align: right;\">\n",
       "      <th></th>\n",
       "      <th>name</th>\n",
       "      <th>type</th>\n",
       "      <th>mass</th>\n",
       "      <th>diameter</th>\n",
       "      <th>distance_from_sun</th>\n",
       "      <th>orbital_period</th>\n",
       "      <th>rings</th>\n",
       "    </tr>\n",
       "  </thead>\n",
       "  <tbody>\n",
       "    <tr>\n",
       "      <th>4</th>\n",
       "      <td>Jupiter</td>\n",
       "      <td>Gas giant</td>\n",
       "      <td>317.8</td>\n",
       "      <td>11.21</td>\n",
       "      <td>5.20</td>\n",
       "      <td>11.9</td>\n",
       "      <td>True</td>\n",
       "    </tr>\n",
       "    <tr>\n",
       "      <th>5</th>\n",
       "      <td>Saturn</td>\n",
       "      <td>Gas giant</td>\n",
       "      <td>95.2</td>\n",
       "      <td>9.45</td>\n",
       "      <td>9.58</td>\n",
       "      <td>29.4</td>\n",
       "      <td>True</td>\n",
       "    </tr>\n",
       "    <tr>\n",
       "      <th>7</th>\n",
       "      <td>Neptune</td>\n",
       "      <td>Ice giant</td>\n",
       "      <td>17.1</td>\n",
       "      <td>3.88</td>\n",
       "      <td>30.05</td>\n",
       "      <td>163.7</td>\n",
       "      <td>True</td>\n",
       "    </tr>\n",
       "    <tr>\n",
       "      <th>6</th>\n",
       "      <td>Uranus</td>\n",
       "      <td>Ice giant</td>\n",
       "      <td>14.5</td>\n",
       "      <td>4.01</td>\n",
       "      <td>19.20</td>\n",
       "      <td>83.7</td>\n",
       "      <td>True</td>\n",
       "    </tr>\n",
       "  </tbody>\n",
       "</table>\n",
       "</div>"
      ],
      "text/plain": [
       "      name       type   mass  diameter  distance_from_sun  orbital_period  \\\n",
       "4  Jupiter  Gas giant  317.8     11.21               5.20            11.9   \n",
       "5   Saturn  Gas giant   95.2      9.45               9.58            29.4   \n",
       "7  Neptune  Ice giant   17.1      3.88              30.05           163.7   \n",
       "6   Uranus  Ice giant   14.5      4.01              19.20            83.7   \n",
       "\n",
       "   rings  \n",
       "4   True  \n",
       "5   True  \n",
       "7   True  \n",
       "6   True  "
      ]
     },
     "execution_count": 43,
     "metadata": {},
     "output_type": "execute_result"
    }
   ],
   "source": [
    "planets.query('type == \"Gas giant\" or type == \"Ice giant\"').sort_values('mass', ascending=False)"
   ]
  },
  {
   "cell_type": "markdown",
   "metadata": {},
   "source": [
    "3. the planets that are more massive than Neptune."
   ]
  },
  {
   "cell_type": "code",
   "execution_count": 40,
   "metadata": {},
   "outputs": [
    {
     "name": "stdout",
     "output_type": "stream",
     "text": [
      "Neptune mass: 17.1\n"
     ]
    },
    {
     "data": {
      "text/html": [
       "<div>\n",
       "<style scoped>\n",
       "    .dataframe tbody tr th:only-of-type {\n",
       "        vertical-align: middle;\n",
       "    }\n",
       "\n",
       "    .dataframe tbody tr th {\n",
       "        vertical-align: top;\n",
       "    }\n",
       "\n",
       "    .dataframe thead th {\n",
       "        text-align: right;\n",
       "    }\n",
       "</style>\n",
       "<table border=\"1\" class=\"dataframe\">\n",
       "  <thead>\n",
       "    <tr style=\"text-align: right;\">\n",
       "      <th></th>\n",
       "      <th>name</th>\n",
       "      <th>type</th>\n",
       "      <th>mass</th>\n",
       "      <th>diameter</th>\n",
       "      <th>distance_from_sun</th>\n",
       "      <th>orbital_period</th>\n",
       "      <th>rings</th>\n",
       "    </tr>\n",
       "  </thead>\n",
       "  <tbody>\n",
       "    <tr>\n",
       "      <th>4</th>\n",
       "      <td>Jupiter</td>\n",
       "      <td>Gas giant</td>\n",
       "      <td>317.8</td>\n",
       "      <td>11.21</td>\n",
       "      <td>5.20</td>\n",
       "      <td>11.9</td>\n",
       "      <td>True</td>\n",
       "    </tr>\n",
       "    <tr>\n",
       "      <th>5</th>\n",
       "      <td>Saturn</td>\n",
       "      <td>Gas giant</td>\n",
       "      <td>95.2</td>\n",
       "      <td>9.45</td>\n",
       "      <td>9.58</td>\n",
       "      <td>29.4</td>\n",
       "      <td>True</td>\n",
       "    </tr>\n",
       "  </tbody>\n",
       "</table>\n",
       "</div>"
      ],
      "text/plain": [
       "      name       type   mass  diameter  distance_from_sun  orbital_period  \\\n",
       "4  Jupiter  Gas giant  317.8     11.21               5.20            11.9   \n",
       "5   Saturn  Gas giant   95.2      9.45               9.58            29.4   \n",
       "\n",
       "   rings  \n",
       "4   True  \n",
       "5   True  "
      ]
     },
     "execution_count": 40,
     "metadata": {},
     "output_type": "execute_result"
    }
   ],
   "source": [
    "neptune_mass = planets.query('name == \"Neptune\"')['mass'].values[0]\n",
    "print(f\"Neptune mass: {neptune_mass}\")\n",
    "planets.query('mass > @neptune_mass')   "
   ]
  },
  {
   "cell_type": "code",
   "execution_count": 72,
   "metadata": {},
   "outputs": [
    {
     "data": {
      "text/html": [
       "<div>\n",
       "<style scoped>\n",
       "    .dataframe tbody tr th:only-of-type {\n",
       "        vertical-align: middle;\n",
       "    }\n",
       "\n",
       "    .dataframe tbody tr th {\n",
       "        vertical-align: top;\n",
       "    }\n",
       "\n",
       "    .dataframe thead th {\n",
       "        text-align: right;\n",
       "    }\n",
       "</style>\n",
       "<table border=\"1\" class=\"dataframe\">\n",
       "  <thead>\n",
       "    <tr style=\"text-align: right;\">\n",
       "      <th></th>\n",
       "      <th>name</th>\n",
       "      <th>type</th>\n",
       "      <th>mass</th>\n",
       "      <th>diameter</th>\n",
       "      <th>distance_from_sun</th>\n",
       "      <th>orbital_period</th>\n",
       "      <th>rings</th>\n",
       "    </tr>\n",
       "  </thead>\n",
       "  <tbody>\n",
       "    <tr>\n",
       "      <th>0</th>\n",
       "      <td>Mercury</td>\n",
       "      <td>Terrestrial</td>\n",
       "      <td>0.0553</td>\n",
       "      <td>0.383</td>\n",
       "      <td>0.387</td>\n",
       "      <td>0.241</td>\n",
       "      <td>False</td>\n",
       "    </tr>\n",
       "    <tr>\n",
       "      <th>4</th>\n",
       "      <td>Jupiter</td>\n",
       "      <td>Gas giant</td>\n",
       "      <td>317.8000</td>\n",
       "      <td>11.210</td>\n",
       "      <td>5.200</td>\n",
       "      <td>11.900</td>\n",
       "      <td>True</td>\n",
       "    </tr>\n",
       "    <tr>\n",
       "      <th>5</th>\n",
       "      <td>Saturn</td>\n",
       "      <td>Gas giant</td>\n",
       "      <td>95.2000</td>\n",
       "      <td>9.450</td>\n",
       "      <td>9.580</td>\n",
       "      <td>29.400</td>\n",
       "      <td>True</td>\n",
       "    </tr>\n",
       "    <tr>\n",
       "      <th>6</th>\n",
       "      <td>Uranus</td>\n",
       "      <td>Ice giant</td>\n",
       "      <td>14.5000</td>\n",
       "      <td>4.010</td>\n",
       "      <td>19.200</td>\n",
       "      <td>83.700</td>\n",
       "      <td>True</td>\n",
       "    </tr>\n",
       "    <tr>\n",
       "      <th>7</th>\n",
       "      <td>Neptune</td>\n",
       "      <td>Ice giant</td>\n",
       "      <td>17.1000</td>\n",
       "      <td>3.880</td>\n",
       "      <td>30.050</td>\n",
       "      <td>163.700</td>\n",
       "      <td>True</td>\n",
       "    </tr>\n",
       "  </tbody>\n",
       "</table>\n",
       "</div>"
      ],
      "text/plain": [
       "      name         type      mass  diameter  distance_from_sun  \\\n",
       "0  Mercury  Terrestrial    0.0553     0.383              0.387   \n",
       "4  Jupiter    Gas giant  317.8000    11.210              5.200   \n",
       "5   Saturn    Gas giant   95.2000     9.450              9.580   \n",
       "6   Uranus    Ice giant   14.5000     4.010             19.200   \n",
       "7  Neptune    Ice giant   17.1000     3.880             30.050   \n",
       "\n",
       "   orbital_period  rings  \n",
       "0           0.241  False  \n",
       "4          11.900   True  \n",
       "5          29.400   True  \n",
       "6          83.700   True  \n",
       "7         163.700   True  "
      ]
     },
     "execution_count": 72,
     "metadata": {},
     "output_type": "execute_result"
    }
   ],
   "source": [
    "planets[planets['name'].str.len() > 5]"
   ]
  },
  {
   "cell_type": "code",
   "execution_count": 58,
   "metadata": {},
   "outputs": [
    {
     "name": "stdout",
     "output_type": "stream",
     "text": [
      "      name       type  mass  diameter  distance_from_sun  orbital_period  \\\n",
      "7  Neptune  Ice giant  17.1      3.88              30.05           163.7   \n",
      "\n",
      "   rings  \n",
      "7   True  \n"
     ]
    }
   ],
   "source": [
    "neptune_mass = planets[planets['name'] == \"Neptune\"]\n",
    "print(neptune_mass)  "
   ]
  },
  {
   "cell_type": "markdown",
   "metadata": {},
   "source": [
    "***\n",
    "\n",
    "## Making new columns from existing ones\n",
    "\n",
    "It's easy to add a new column to a DataFrame. We just use `[]=` to assign a Series to a new column label:"
   ]
  },
  {
   "cell_type": "code",
   "execution_count": 45,
   "metadata": {},
   "outputs": [
    {
     "data": {
      "text/html": [
       "<div>\n",
       "<style scoped>\n",
       "    .dataframe tbody tr th:only-of-type {\n",
       "        vertical-align: middle;\n",
       "    }\n",
       "\n",
       "    .dataframe tbody tr th {\n",
       "        vertical-align: top;\n",
       "    }\n",
       "\n",
       "    .dataframe thead th {\n",
       "        text-align: right;\n",
       "    }\n",
       "</style>\n",
       "<table border=\"1\" class=\"dataframe\">\n",
       "  <thead>\n",
       "    <tr style=\"text-align: right;\">\n",
       "      <th></th>\n",
       "      <th>name</th>\n",
       "      <th>type</th>\n",
       "      <th>mass</th>\n",
       "      <th>diameter</th>\n",
       "      <th>distance_from_sun</th>\n",
       "      <th>orbital_period</th>\n",
       "      <th>rings</th>\n",
       "      <th>radius</th>\n",
       "    </tr>\n",
       "  </thead>\n",
       "  <tbody>\n",
       "    <tr>\n",
       "      <th>0</th>\n",
       "      <td>Mercury</td>\n",
       "      <td>Terrestrial</td>\n",
       "      <td>0.0553</td>\n",
       "      <td>0.383</td>\n",
       "      <td>0.387</td>\n",
       "      <td>0.241</td>\n",
       "      <td>False</td>\n",
       "      <td>0.1915</td>\n",
       "    </tr>\n",
       "    <tr>\n",
       "      <th>1</th>\n",
       "      <td>Venus</td>\n",
       "      <td>Terrestrial</td>\n",
       "      <td>0.8150</td>\n",
       "      <td>0.949</td>\n",
       "      <td>0.723</td>\n",
       "      <td>0.615</td>\n",
       "      <td>False</td>\n",
       "      <td>0.4745</td>\n",
       "    </tr>\n",
       "    <tr>\n",
       "      <th>2</th>\n",
       "      <td>Earth</td>\n",
       "      <td>Terrestrial</td>\n",
       "      <td>1.0000</td>\n",
       "      <td>1.000</td>\n",
       "      <td>1.000</td>\n",
       "      <td>1.000</td>\n",
       "      <td>False</td>\n",
       "      <td>0.5000</td>\n",
       "    </tr>\n",
       "    <tr>\n",
       "      <th>3</th>\n",
       "      <td>Mars</td>\n",
       "      <td>Terrestrial</td>\n",
       "      <td>0.1070</td>\n",
       "      <td>0.532</td>\n",
       "      <td>1.520</td>\n",
       "      <td>1.880</td>\n",
       "      <td>False</td>\n",
       "      <td>0.2660</td>\n",
       "    </tr>\n",
       "    <tr>\n",
       "      <th>4</th>\n",
       "      <td>Jupiter</td>\n",
       "      <td>Gas giant</td>\n",
       "      <td>317.8000</td>\n",
       "      <td>11.210</td>\n",
       "      <td>5.200</td>\n",
       "      <td>11.900</td>\n",
       "      <td>True</td>\n",
       "      <td>5.6050</td>\n",
       "    </tr>\n",
       "    <tr>\n",
       "      <th>5</th>\n",
       "      <td>Saturn</td>\n",
       "      <td>Gas giant</td>\n",
       "      <td>95.2000</td>\n",
       "      <td>9.450</td>\n",
       "      <td>9.580</td>\n",
       "      <td>29.400</td>\n",
       "      <td>True</td>\n",
       "      <td>4.7250</td>\n",
       "    </tr>\n",
       "    <tr>\n",
       "      <th>6</th>\n",
       "      <td>Uranus</td>\n",
       "      <td>Ice giant</td>\n",
       "      <td>14.5000</td>\n",
       "      <td>4.010</td>\n",
       "      <td>19.200</td>\n",
       "      <td>83.700</td>\n",
       "      <td>True</td>\n",
       "      <td>2.0050</td>\n",
       "    </tr>\n",
       "    <tr>\n",
       "      <th>7</th>\n",
       "      <td>Neptune</td>\n",
       "      <td>Ice giant</td>\n",
       "      <td>17.1000</td>\n",
       "      <td>3.880</td>\n",
       "      <td>30.050</td>\n",
       "      <td>163.700</td>\n",
       "      <td>True</td>\n",
       "      <td>1.9400</td>\n",
       "    </tr>\n",
       "  </tbody>\n",
       "</table>\n",
       "</div>"
      ],
      "text/plain": [
       "      name         type      mass  diameter  distance_from_sun  \\\n",
       "0  Mercury  Terrestrial    0.0553     0.383              0.387   \n",
       "1    Venus  Terrestrial    0.8150     0.949              0.723   \n",
       "2    Earth  Terrestrial    1.0000     1.000              1.000   \n",
       "3     Mars  Terrestrial    0.1070     0.532              1.520   \n",
       "4  Jupiter    Gas giant  317.8000    11.210              5.200   \n",
       "5   Saturn    Gas giant   95.2000     9.450              9.580   \n",
       "6   Uranus    Ice giant   14.5000     4.010             19.200   \n",
       "7  Neptune    Ice giant   17.1000     3.880             30.050   \n",
       "\n",
       "   orbital_period  rings  radius  \n",
       "0           0.241  False  0.1915  \n",
       "1           0.615  False  0.4745  \n",
       "2           1.000  False  0.5000  \n",
       "3           1.880  False  0.2660  \n",
       "4          11.900   True  5.6050  \n",
       "5          29.400   True  4.7250  \n",
       "6          83.700   True  2.0050  \n",
       "7         163.700   True  1.9400  "
      ]
     },
     "execution_count": 45,
     "metadata": {},
     "output_type": "execute_result"
    }
   ],
   "source": [
    "df = planets.copy()\n",
    "df['radius'] = df['diameter'] / 2\n",
    "df"
   ]
  },
  {
   "cell_type": "markdown",
   "metadata": {},
   "source": [
    "Note that Series objects combine in a row-wise manner, similar to numpy arrays, e.g.:"
   ]
  },
  {
   "cell_type": "code",
   "execution_count": 46,
   "metadata": {},
   "outputs": [
    {
     "data": {
      "text/plain": [
       "0    Mercury -- Terrestrial\n",
       "1      Venus -- Terrestrial\n",
       "2      Earth -- Terrestrial\n",
       "3       Mars -- Terrestrial\n",
       "4      Jupiter -- Gas giant\n",
       "5       Saturn -- Gas giant\n",
       "6       Uranus -- Ice giant\n",
       "7      Neptune -- Ice giant\n",
       "dtype: object"
      ]
     },
     "execution_count": 46,
     "metadata": {},
     "output_type": "execute_result"
    }
   ],
   "source": [
    "planets['name'] + \" -- \" + planets['type']"
   ]
  },
  {
   "cell_type": "markdown",
   "metadata": {},
   "source": [
    "### Exercise\n",
    "\n",
    "Add a new column to `planets` to show the density of each planet relative to Earth.\n"
   ]
  },
  {
   "cell_type": "code",
   "execution_count": 50,
   "metadata": {},
   "outputs": [
    {
     "data": {
      "text/html": [
       "<div>\n",
       "<style scoped>\n",
       "    .dataframe tbody tr th:only-of-type {\n",
       "        vertical-align: middle;\n",
       "    }\n",
       "\n",
       "    .dataframe tbody tr th {\n",
       "        vertical-align: top;\n",
       "    }\n",
       "\n",
       "    .dataframe thead th {\n",
       "        text-align: right;\n",
       "    }\n",
       "</style>\n",
       "<table border=\"1\" class=\"dataframe\">\n",
       "  <thead>\n",
       "    <tr style=\"text-align: right;\">\n",
       "      <th></th>\n",
       "      <th>name</th>\n",
       "      <th>type</th>\n",
       "      <th>mass</th>\n",
       "      <th>diameter</th>\n",
       "      <th>distance_from_sun</th>\n",
       "      <th>orbital_period</th>\n",
       "      <th>rings</th>\n",
       "      <th>density</th>\n",
       "    </tr>\n",
       "  </thead>\n",
       "  <tbody>\n",
       "    <tr>\n",
       "      <th>0</th>\n",
       "      <td>Mercury</td>\n",
       "      <td>Terrestrial</td>\n",
       "      <td>0.0553</td>\n",
       "      <td>0.383</td>\n",
       "      <td>0.387</td>\n",
       "      <td>0.241</td>\n",
       "      <td>False</td>\n",
       "      <td>0.984303</td>\n",
       "    </tr>\n",
       "    <tr>\n",
       "      <th>1</th>\n",
       "      <td>Venus</td>\n",
       "      <td>Terrestrial</td>\n",
       "      <td>0.8150</td>\n",
       "      <td>0.949</td>\n",
       "      <td>0.723</td>\n",
       "      <td>0.615</td>\n",
       "      <td>False</td>\n",
       "      <td>0.953584</td>\n",
       "    </tr>\n",
       "    <tr>\n",
       "      <th>2</th>\n",
       "      <td>Earth</td>\n",
       "      <td>Terrestrial</td>\n",
       "      <td>1.0000</td>\n",
       "      <td>1.000</td>\n",
       "      <td>1.000</td>\n",
       "      <td>1.000</td>\n",
       "      <td>False</td>\n",
       "      <td>1.000000</td>\n",
       "    </tr>\n",
       "    <tr>\n",
       "      <th>3</th>\n",
       "      <td>Mars</td>\n",
       "      <td>Terrestrial</td>\n",
       "      <td>0.1070</td>\n",
       "      <td>0.532</td>\n",
       "      <td>1.520</td>\n",
       "      <td>1.880</td>\n",
       "      <td>False</td>\n",
       "      <td>0.710639</td>\n",
       "    </tr>\n",
       "    <tr>\n",
       "      <th>4</th>\n",
       "      <td>Jupiter</td>\n",
       "      <td>Gas giant</td>\n",
       "      <td>317.8000</td>\n",
       "      <td>11.210</td>\n",
       "      <td>5.200</td>\n",
       "      <td>11.900</td>\n",
       "      <td>True</td>\n",
       "      <td>0.225599</td>\n",
       "    </tr>\n",
       "    <tr>\n",
       "      <th>5</th>\n",
       "      <td>Saturn</td>\n",
       "      <td>Gas giant</td>\n",
       "      <td>95.2000</td>\n",
       "      <td>9.450</td>\n",
       "      <td>9.580</td>\n",
       "      <td>29.400</td>\n",
       "      <td>True</td>\n",
       "      <td>0.112808</td>\n",
       "    </tr>\n",
       "    <tr>\n",
       "      <th>6</th>\n",
       "      <td>Uranus</td>\n",
       "      <td>Ice giant</td>\n",
       "      <td>14.5000</td>\n",
       "      <td>4.010</td>\n",
       "      <td>19.200</td>\n",
       "      <td>83.700</td>\n",
       "      <td>True</td>\n",
       "      <td>0.224872</td>\n",
       "    </tr>\n",
       "    <tr>\n",
       "      <th>7</th>\n",
       "      <td>Neptune</td>\n",
       "      <td>Ice giant</td>\n",
       "      <td>17.1000</td>\n",
       "      <td>3.880</td>\n",
       "      <td>30.050</td>\n",
       "      <td>163.700</td>\n",
       "      <td>True</td>\n",
       "      <td>0.292753</td>\n",
       "    </tr>\n",
       "  </tbody>\n",
       "</table>\n",
       "</div>"
      ],
      "text/plain": [
       "      name         type      mass  diameter  distance_from_sun  \\\n",
       "0  Mercury  Terrestrial    0.0553     0.383              0.387   \n",
       "1    Venus  Terrestrial    0.8150     0.949              0.723   \n",
       "2    Earth  Terrestrial    1.0000     1.000              1.000   \n",
       "3     Mars  Terrestrial    0.1070     0.532              1.520   \n",
       "4  Jupiter    Gas giant  317.8000    11.210              5.200   \n",
       "5   Saturn    Gas giant   95.2000     9.450              9.580   \n",
       "6   Uranus    Ice giant   14.5000     4.010             19.200   \n",
       "7  Neptune    Ice giant   17.1000     3.880             30.050   \n",
       "\n",
       "   orbital_period  rings   density  \n",
       "0           0.241  False  0.984303  \n",
       "1           0.615  False  0.953584  \n",
       "2           1.000  False  1.000000  \n",
       "3           1.880  False  0.710639  \n",
       "4          11.900   True  0.225599  \n",
       "5          29.400   True  0.112808  \n",
       "6          83.700   True  0.224872  \n",
       "7         163.700   True  0.292753  "
      ]
     },
     "execution_count": 50,
     "metadata": {},
     "output_type": "execute_result"
    }
   ],
   "source": [
    "import numpy as np\n",
    "df = planets.copy()\n",
    "df['density'] = planets['mass'] / ((4/3) * np.pi * (planets['diameter']/2)**3)\n",
    "dE=df.query('name == \"Earth\"')['density'].values[0]\n",
    "df.density = df.density / dE\n",
    "df"
   ]
  },
  {
   "cell_type": "markdown",
   "metadata": {},
   "source": [
    "## Working with Excel files\n",
    "\n",
    "Take a look at the Excel workbook `data_geographies_v1.xlsx`.\n",
    "\n",
    "We can use the `read_excel` function to load data from the relevant sheet in the Excel workbook. This can read both xls and xlsx files and detects the format from the extension.\n",
    "\n",
    "We only want to import a single sheet (named `list-of-countries-etc`) from this workbook."
   ]
  },
  {
   "cell_type": "code",
   "execution_count": 10,
   "metadata": {},
   "outputs": [],
   "source": [
    "countries = pd.read_excel(\"data_geographies_v1.xlsx\", sheet_name = \"list-of-countries-etc\")"
   ]
  },
  {
   "cell_type": "markdown",
   "metadata": {},
   "source": [
    "The variable `countries` now points to a `DataFrame` object containing our data."
   ]
  },
  {
   "cell_type": "code",
   "execution_count": 11,
   "metadata": {},
   "outputs": [
    {
     "data": {
      "text/html": [
       "<div>\n",
       "<style scoped>\n",
       "    .dataframe tbody tr th:only-of-type {\n",
       "        vertical-align: middle;\n",
       "    }\n",
       "\n",
       "    .dataframe tbody tr th {\n",
       "        vertical-align: top;\n",
       "    }\n",
       "\n",
       "    .dataframe thead th {\n",
       "        text-align: right;\n",
       "    }\n",
       "</style>\n",
       "<table border=\"1\" class=\"dataframe\">\n",
       "  <thead>\n",
       "    <tr style=\"text-align: right;\">\n",
       "      <th></th>\n",
       "      <th>geo</th>\n",
       "      <th>name</th>\n",
       "      <th>four_regions</th>\n",
       "      <th>eight_regions</th>\n",
       "      <th>six_regions</th>\n",
       "      <th>members_oecd_g77</th>\n",
       "      <th>Latitude</th>\n",
       "      <th>Longitude</th>\n",
       "      <th>UN member since</th>\n",
       "      <th>World bank region</th>\n",
       "      <th>World bank, 4 income groups 2017</th>\n",
       "    </tr>\n",
       "  </thead>\n",
       "  <tbody>\n",
       "    <tr>\n",
       "      <th>0</th>\n",
       "      <td>afg</td>\n",
       "      <td>Afghanistan</td>\n",
       "      <td>asia</td>\n",
       "      <td>asia_west</td>\n",
       "      <td>south_asia</td>\n",
       "      <td>g77</td>\n",
       "      <td>33.00000</td>\n",
       "      <td>66.00000</td>\n",
       "      <td>1946-11-19</td>\n",
       "      <td>South Asia</td>\n",
       "      <td>Low income</td>\n",
       "    </tr>\n",
       "    <tr>\n",
       "      <th>1</th>\n",
       "      <td>alb</td>\n",
       "      <td>Albania</td>\n",
       "      <td>europe</td>\n",
       "      <td>europe_east</td>\n",
       "      <td>europe_central_asia</td>\n",
       "      <td>others</td>\n",
       "      <td>41.00000</td>\n",
       "      <td>20.00000</td>\n",
       "      <td>1955-12-14</td>\n",
       "      <td>Europe &amp; Central Asia</td>\n",
       "      <td>Upper middle income</td>\n",
       "    </tr>\n",
       "    <tr>\n",
       "      <th>2</th>\n",
       "      <td>dza</td>\n",
       "      <td>Algeria</td>\n",
       "      <td>africa</td>\n",
       "      <td>africa_north</td>\n",
       "      <td>middle_east_north_africa</td>\n",
       "      <td>g77</td>\n",
       "      <td>28.00000</td>\n",
       "      <td>3.00000</td>\n",
       "      <td>1962-10-08</td>\n",
       "      <td>Middle East &amp; North Africa</td>\n",
       "      <td>Upper middle income</td>\n",
       "    </tr>\n",
       "    <tr>\n",
       "      <th>3</th>\n",
       "      <td>and</td>\n",
       "      <td>Andorra</td>\n",
       "      <td>europe</td>\n",
       "      <td>europe_west</td>\n",
       "      <td>europe_central_asia</td>\n",
       "      <td>others</td>\n",
       "      <td>42.50779</td>\n",
       "      <td>1.52109</td>\n",
       "      <td>1993-07-28</td>\n",
       "      <td>Europe &amp; Central Asia</td>\n",
       "      <td>High income</td>\n",
       "    </tr>\n",
       "    <tr>\n",
       "      <th>4</th>\n",
       "      <td>ago</td>\n",
       "      <td>Angola</td>\n",
       "      <td>africa</td>\n",
       "      <td>africa_sub_saharan</td>\n",
       "      <td>sub_saharan_africa</td>\n",
       "      <td>g77</td>\n",
       "      <td>-12.50000</td>\n",
       "      <td>18.50000</td>\n",
       "      <td>1976-12-01</td>\n",
       "      <td>Sub-Saharan Africa</td>\n",
       "      <td>Lower middle income</td>\n",
       "    </tr>\n",
       "  </tbody>\n",
       "</table>\n",
       "</div>"
      ],
      "text/plain": [
       "   geo         name four_regions       eight_regions  \\\n",
       "0  afg  Afghanistan         asia           asia_west   \n",
       "1  alb      Albania       europe         europe_east   \n",
       "2  dza      Algeria       africa        africa_north   \n",
       "3  and      Andorra       europe         europe_west   \n",
       "4  ago       Angola       africa  africa_sub_saharan   \n",
       "\n",
       "                six_regions members_oecd_g77  Latitude  Longitude  \\\n",
       "0                south_asia              g77  33.00000   66.00000   \n",
       "1       europe_central_asia           others  41.00000   20.00000   \n",
       "2  middle_east_north_africa              g77  28.00000    3.00000   \n",
       "3       europe_central_asia           others  42.50779    1.52109   \n",
       "4        sub_saharan_africa              g77 -12.50000   18.50000   \n",
       "\n",
       "  UN member since           World bank region World bank, 4 income groups 2017  \n",
       "0      1946-11-19                  South Asia                       Low income  \n",
       "1      1955-12-14       Europe & Central Asia              Upper middle income  \n",
       "2      1962-10-08  Middle East & North Africa              Upper middle income  \n",
       "3      1993-07-28       Europe & Central Asia                      High income  \n",
       "4      1976-12-01          Sub-Saharan Africa              Lower middle income  "
      ]
     },
     "execution_count": 11,
     "metadata": {},
     "output_type": "execute_result"
    }
   ],
   "source": [
    "countries.head()"
   ]
  },
  {
   "cell_type": "markdown",
   "metadata": {},
   "source": [
    "### Exercise"
   ]
  },
  {
   "cell_type": "markdown",
   "metadata": {},
   "source": [
    "\n",
    "\n",
    "Use manipulations of `countries` to complete the following tasks:\n",
    "\n",
    "\n",
    "1. Find all the countries that are south of the equator."
   ]
  },
  {
   "cell_type": "code",
   "execution_count": null,
   "metadata": {},
   "outputs": [],
   "source": []
  },
  {
   "cell_type": "markdown",
   "metadata": {},
   "source": [
    "2. Find the first eight African countries to join the UN."
   ]
  },
  {
   "cell_type": "code",
   "execution_count": null,
   "metadata": {},
   "outputs": [],
   "source": []
  },
  {
   "cell_type": "markdown",
   "metadata": {},
   "source": [
    "3. Make an array of OECD country names, sorted from East to West."
   ]
  },
  {
   "cell_type": "code",
   "execution_count": null,
   "metadata": {},
   "outputs": [],
   "source": []
  },
  {
   "cell_type": "markdown",
   "metadata": {},
   "source": [
    "---"
   ]
  }
 ],
 "metadata": {
  "kernelspec": {
   "display_name": "Python 3",
   "language": "python",
   "name": "python3"
  },
  "language_info": {
   "codemirror_mode": {
    "name": "ipython",
    "version": 3
   },
   "file_extension": ".py",
   "mimetype": "text/x-python",
   "name": "python",
   "nbconvert_exporter": "python",
   "pygments_lexer": "ipython3",
   "version": "3.11.10"
  }
 },
 "nbformat": 4,
 "nbformat_minor": 4
}
