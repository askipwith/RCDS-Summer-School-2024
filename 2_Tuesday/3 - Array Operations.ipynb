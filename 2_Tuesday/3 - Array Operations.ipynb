{
 "cells": [
  {
   "cell_type": "markdown",
   "metadata": {
    "id": "euQr57ooLW_e"
   },
   "source": [
    "# Array Operations\n",
    "\n",
    "NumPy is not just good at storing large amounts of data, it's also very efficient at performing calculations and makes carrying out these calculations very convenient. This notebook discusses some of these calculations and the syntax used to invoke them."
   ]
  },
  {
   "cell_type": "markdown",
   "metadata": {
    "id": "u5i0HFbT8wPP"
   },
   "source": [
    "## Arithmetic and Comparison Operations\n",
    "\n",
    "Simple arithmetic and comparison operators can be performed using NumPy arrays. When such an operation is placed between two NumPy arrays, the operation is performed \"element-wise\". This means that the operation is performed on each element of the arrays to create the corresponding element of the new array. For instance:"
   ]
  },
  {
   "cell_type": "code",
   "execution_count": 2,
   "metadata": {
    "id": "JCRxTeXwLS4k"
   },
   "outputs": [
    {
     "name": "stdout",
     "output_type": "stream",
     "text": [
      "Addition:  [ 3  8 13]\n",
      "Subtraction:  [ 1  0 -1]\n",
      "Multiplication:  [ 2 16 42]\n",
      "Division:  [2.         1.         0.85714286]\n",
      "Exponentiation:  [     2    256 279936]\n",
      "Integer Division:  [2 1 0]\n",
      "Modulo:  [0 0 6]\n",
      "Negative:  [-2 -4 -6]\n",
      "Greater Than:  [ True False False]\n",
      "Less Than:  [False False  True]\n",
      "Greater Than or Equal:  [ True  True False]\n",
      "Less Than or Equal:  [False  True  True]\n",
      "Equal:  [False  True False]\n",
      "Not Equal:  [ True False  True]\n",
      "XOR:  [3 0 1]\n"
     ]
    }
   ],
   "source": [
    "import numpy as np\n",
    "\n",
    "a = np.array([2,4,6])\n",
    "b = np.array([1,4,7])\n",
    "\n",
    "print(\"Addition: \", a + b)\n",
    "print(\"Subtraction: \", a - b)\n",
    "print(\"Multiplication: \", a * b)\n",
    "print(\"Division: \", a / b)\n",
    "print(\"Exponentiation: \", a ** b)\n",
    "print(\"Integer Division: \", a // b)\n",
    "print(\"Modulo: \", a % b)\n",
    "print(\"Negative: \", -a)\n",
    "\n",
    "# This is also works with comparison operators\n",
    "print(\"Greater Than: \", a > b)\n",
    "print(\"Less Than: \", a < b)\n",
    "print(\"Greater Than or Equal: \", a >= b)\n",
    "print(\"Less Than or Equal: \", a <= b)\n",
    "print(\"Equal: \", a == b)\n",
    "print(\"Not Equal: \", a != b)\n",
    "print(\"XOR: \", a ^ b)"
   ]
  },
  {
   "cell_type": "markdown",
   "metadata": {
    "id": "nHMa3tm6DK-K"
   },
   "source": [
    "## Applying the Same Operation to Every Element\n",
    "\n",
    "It's possible to apply the same operation to every element of an array using an operator and a scalar value. The array and the integer may be in either order."
   ]
  },
  {
   "cell_type": "code",
   "execution_count": 3,
   "metadata": {
    "id": "88r4jziiC78q"
   },
   "outputs": [
    {
     "name": "stdout",
     "output_type": "stream",
     "text": [
      "a:  [1 2 3]\n",
      "Addition:  [3 4 5]\n",
      "Left Subtraction:  [ 1  0 -1]\n",
      "Right Subtraction:  [-1  0  1]\n",
      "Multiplication:  [2 4 6]\n",
      "Left Division:  [0.5 1.  1.5]\n",
      "Right Division:  [2.         1.         0.66666667]\n",
      "Left Exponentiation:  [2 4 8]\n",
      "Right Exponentiation:  [1 4 9]\n",
      "Left Integer Division:  [2 1 0]\n",
      "Right Integer Division:  [0 1 1]\n",
      "Left Modulo:  [0 0 2]\n",
      "Right Modulo:  [1 0 1]\n"
     ]
    }
   ],
   "source": [
    "import numpy as np\n",
    "\n",
    "a = np.arange(1, 4)\n",
    "print(\"a: \", a)\n",
    "print(\"Addition: \", 2 + a)\n",
    "print(\"Left Subtraction: \", 2 - a)\n",
    "print(\"Right Subtraction: \", a - 2)\n",
    "print(\"Multiplication: \", a * 2)\n",
    "print(\"Left Division: \", a / 2)\n",
    "print(\"Right Division: \", 2 / a)\n",
    "print(\"Left Exponentiation: \", 2 ** a)\n",
    "print(\"Right Exponentiation: \", a ** 2)\n",
    "print(\"Left Integer Division: \", 2 // a)\n",
    "print(\"Right Integer Division: \", a // 2)\n",
    "print(\"Left Modulo: \", 2 % a)\n",
    "print(\"Right Modulo: \", a % 2)"
   ]
  },
  {
   "cell_type": "markdown",
   "metadata": {
    "id": "TdepIcpKuhlC"
   },
   "source": [
    "## Exercise\n",
    "\n",
    "Look at the code in the cell below, but don't run it yet. Instead, write down what you think will be printed in each case. Then, run the code and check you get the results you expect."
   ]
  },
  {
   "cell_type": "code",
   "execution_count": 5,
   "metadata": {
    "id": "cPW87SEVu2xR"
   },
   "outputs": [
    {
     "name": "stdout",
     "output_type": "stream",
     "text": [
      "Case 1:  [4 6]\n",
      "Case 2:  [0.5 1. ]\n",
      "Case 3:  [ 1 16]\n",
      "Case 4:  [1 0]\n",
      "Case 5:  [-5 -6]\n"
     ]
    }
   ],
   "source": [
    "import numpy as np\n",
    "\n",
    "a = np.array([1, 2])\n",
    "b = np.array([3, 4])\n",
    "\n",
    "print(\"Case 1: \", a + b) # [4 6]\n",
    "print(\"Case 2: \", a / 2) # [0.5 1.]\n",
    "print(\"Case 3: \", a ** b) # [1 16]\n",
    "print(\"Case 4: \", 2 - a) # [1 0]\n",
    "print(\"Case 5: \", a - b * 2) # [-5 -6] # Remember the order of operations"
   ]
  },
  {
   "cell_type": "markdown",
   "metadata": {},
   "source": [
    "## Statistics of Arrays\n",
    "\n",
    "NumPy has a number of built-in functions for performing statistical calculations on arrays. These include:"
   ]
  },
  {
   "cell_type": "code",
   "execution_count": 7,
   "metadata": {},
   "outputs": [
    {
     "name": "stdout",
     "output_type": "stream",
     "text": [
      "a:  [1 4 3 5 2]\n",
      "Sum:  15\n",
      "Minimum:  1\n",
      "Maximum:  5\n",
      "Mean:  3.0\n",
      "Median:  3.0\n",
      "Standard Deviation:  1.4142135623730951\n",
      "Variance:  2.0\n",
      "Range: 4\n"
     ]
    },
    {
     "ename": "AttributeError",
     "evalue": "`ptp` was removed from the ndarray class in NumPy 2.0. Use np.ptp(arr, ...) instead.",
     "output_type": "error",
     "traceback": [
      "\u001b[0;31m---------------------------------------------------------------------------\u001b[0m",
      "\u001b[0;31mAttributeError\u001b[0m                            Traceback (most recent call last)",
      "Cell \u001b[0;32mIn[7], line 12\u001b[0m\n\u001b[1;32m     10\u001b[0m \u001b[38;5;28mprint\u001b[39m(\u001b[38;5;124m\"\u001b[39m\u001b[38;5;124mVariance: \u001b[39m\u001b[38;5;124m\"\u001b[39m, a\u001b[38;5;241m.\u001b[39mvar())\n\u001b[1;32m     11\u001b[0m \u001b[38;5;28mprint\u001b[39m(\u001b[38;5;124m\"\u001b[39m\u001b[38;5;124mRange:\u001b[39m\u001b[38;5;124m\"\u001b[39m, np\u001b[38;5;241m.\u001b[39mptp(a))\n\u001b[0;32m---> 12\u001b[0m \u001b[38;5;28mprint\u001b[39m(\u001b[38;5;124m\"\u001b[39m\u001b[38;5;124mRange:\u001b[39m\u001b[38;5;124m\"\u001b[39m, \u001b[43ma\u001b[49m\u001b[38;5;241;43m.\u001b[39;49m\u001b[43mptp\u001b[49m())\n",
      "\u001b[0;31mAttributeError\u001b[0m: `ptp` was removed from the ndarray class in NumPy 2.0. Use np.ptp(arr, ...) instead."
     ]
    }
   ],
   "source": [
    "a = np.array([1, 4, 3, 5, 2])\n",
    "\n",
    "print(\"a: \", a)\n",
    "print(\"Sum: \", a.sum())\n",
    "print(\"Minimum: \", a.min())\n",
    "print(\"Maximum: \", a.max())\n",
    "print(\"Mean: \", a.mean())\n",
    "print(\"Median: \", np.median(a))\n",
    "print(\"Standard Deviation: \", a.std())\n",
    "print(\"Variance: \", a.var())\n",
    "print(\"Range:\", np.ptp(a))\n",
    "# print(\"Range:\", a.ptp())    RETIRED"
   ]
  },
  {
   "cell_type": "markdown",
   "metadata": {},
   "source": [
    "We can also perform useful operations on an array of bools (such as those generated by a comparison operator):"
   ]
  },
  {
   "cell_type": "code",
   "execution_count": 9,
   "metadata": {},
   "outputs": [
    {
     "name": "stdout",
     "output_type": "stream",
     "text": [
      "a:  [ True  True False  True]\n",
      "All:  False\n",
      "Any:  True\n",
      "Number of Trues:  3\n",
      "50\n",
      "All less than 10:  True\n"
     ]
    }
   ],
   "source": [
    "a = np.array([True, True, False, True])\n",
    "\n",
    "print(\"a: \", a)\n",
    "print(\"All: \", a.all()) # Will be True if all elements are True\n",
    "print(\"Any: \", a.any()) # Will be True if any elements are True\n",
    "print(\"Number of Trues: \", a.sum()) # For the purposes of a sum, True is 1 and False is 0\n",
    "print(a[0]*50)\n",
    "\n",
    "# We can combine these functions with operators\n",
    "# For example, to check if all elements are less than 10:\n",
    "b = np.array(np.array([1, 2, 3, 4]))\n",
    "print(\"All less than 10: \", (b < 10).all())\n"
   ]
  },
  {
   "cell_type": "markdown",
   "metadata": {
    "id": "dI0EufaRG5vq"
   },
   "source": [
    "## More Complex Functions\n",
    "\n",
    "Many complex mathematical functions which operate on scalars in Python are available from the ```math``` module, such as the ```sin``` function. These functions will work on NumPy arrays with a size of 1 (and return a scalar), but will not work on larger arrays:"
   ]
  },
  {
   "cell_type": "code",
   "execution_count": 10,
   "metadata": {
    "id": "ujJ6d7hnI2Hb"
   },
   "outputs": [
    {
     "name": "stdout",
     "output_type": "stream",
     "text": [
      "0.9092974268256817\n",
      "0.8414709848078965\n"
     ]
    },
    {
     "name": "stderr",
     "output_type": "stream",
     "text": [
      "/tmp/ipykernel_41434/280747599.py:5: DeprecationWarning: Conversion of an array with ndim > 0 to a scalar is deprecated, and will error in future. Ensure you extract a single element from your array before performing this operation. (Deprecated NumPy 1.25.)\n",
      "  print(math.sin(np.array([1])))\n"
     ]
    },
    {
     "ename": "TypeError",
     "evalue": "only length-1 arrays can be converted to Python scalars",
     "output_type": "error",
     "traceback": [
      "\u001b[0;31m---------------------------------------------------------------------------\u001b[0m",
      "\u001b[0;31mTypeError\u001b[0m                                 Traceback (most recent call last)",
      "Cell \u001b[0;32mIn[10], line 6\u001b[0m\n\u001b[1;32m      4\u001b[0m \u001b[38;5;28mprint\u001b[39m(math\u001b[38;5;241m.\u001b[39msin(\u001b[38;5;241m2\u001b[39m))\n\u001b[1;32m      5\u001b[0m \u001b[38;5;28mprint\u001b[39m(math\u001b[38;5;241m.\u001b[39msin(np\u001b[38;5;241m.\u001b[39marray([\u001b[38;5;241m1\u001b[39m])))\n\u001b[0;32m----> 6\u001b[0m \u001b[38;5;28mprint\u001b[39m(\u001b[43mmath\u001b[49m\u001b[38;5;241;43m.\u001b[39;49m\u001b[43msin\u001b[49m\u001b[43m(\u001b[49m\u001b[43mnp\u001b[49m\u001b[38;5;241;43m.\u001b[39;49m\u001b[43marange\u001b[49m\u001b[43m(\u001b[49m\u001b[38;5;241;43m3\u001b[39;49m\u001b[43m)\u001b[49m\u001b[43m)\u001b[49m)\n",
      "\u001b[0;31mTypeError\u001b[0m: only length-1 arrays can be converted to Python scalars"
     ]
    }
   ],
   "source": [
    "import numpy as np\n",
    "import math\n",
    "\n",
    "print(math.sin(2))\n",
    "print(math.sin(np.array([1])))\n",
    "print(math.sin(np.arange(3)))"
   ]
  },
  {
   "cell_type": "markdown",
   "metadata": {
    "id": "a9i2LXv0JW-i"
   },
   "source": [
    "Fortunately, many of these functions are replicated within the NumPy array and will operate element-wise on an array passed to it:"
   ]
  },
  {
   "cell_type": "code",
   "execution_count": 11,
   "metadata": {
    "id": "UwkG-8HLDcAK"
   },
   "outputs": [
    {
     "name": "stdout",
     "output_type": "stream",
     "text": [
      "a:  [0.25 0.5  0.75]\n",
      "sin:  [0.24740396 0.47942554 0.68163876]\n",
      "arccos:  [1.31811607 1.04719755 0.72273425]\n",
      "log:  [-1.38629436 -0.69314718 -0.28768207]\n",
      "log2:  [-2.        -1.        -0.4150375]\n",
      "log10:  [-0.60205999 -0.30103    -0.12493874]\n",
      "sqrt:  [0.5        0.70710678 0.8660254 ]\n",
      "sum:  1.5\n"
     ]
    }
   ],
   "source": [
    "import numpy as np\n",
    "\n",
    "# Here we multiply the array [1 2 3] by a quarter\n",
    "a = np.arange(1,4) * 0.25\n",
    "print(\"a: \", a)\n",
    "print(\"sin: \", np.sin(a))\n",
    "print(\"arccos: \", np.arccos(a)) # Note that names are not always the same as in the math module\n",
    "print(\"log: \", np.log(a))\n",
    "print(\"log2: \", np.log2(a))\n",
    "print(\"log10: \", np.log10(a))\n",
    "print(\"sqrt: \", np.sqrt(a))\n",
    "print(\"sum: \", np.sum(a))"
   ]
  },
  {
   "cell_type": "markdown",
   "metadata": {
    "id": "Oy9u2_oqeaxo"
   },
   "source": [
    "## Vector and Matrix Operations\n",
    "\n",
    "NumPy is designed to hold vectors, matrices, tensors and so on. It also contains functions to perform common operations relevant to these data types. For instance:"
   ]
  },
  {
   "cell_type": "code",
   "execution_count": 12,
   "metadata": {
    "id": "8_l_TivNHFk3"
   },
   "outputs": [
    {
     "name": "stdout",
     "output_type": "stream",
     "text": [
      "Matrix:  [[0 1]\n",
      " [2 3]]\n",
      "Vector1:  [1 2]\n",
      "Vector2:  [3 4]\n",
      "Dot product 11\n",
      "Matrix-vector multiplication:  [2 8]\n",
      "Matrix-matrix multiplication:  [[ 2  3]\n",
      " [ 6 11]]\n",
      "Matrix power:  [[ 6 11]\n",
      " [22 39]]\n",
      "Determinant:  -2.0\n",
      "Transpose:  [[0 2]\n",
      " [1 3]]\n",
      "Inverse:  [[-1.5  0.5]\n",
      " [ 1.   0. ]]\n",
      "Eigenvectors and eigenvalues:  EigResult(eigenvalues=array([-0.56155281,  3.56155281]), eigenvectors=array([[-0.87192821, -0.27032301],\n",
      "       [ 0.48963374, -0.96276969]]))\n"
     ]
    }
   ],
   "source": [
    "import numpy as np\n",
    "\n",
    "matrix = np.arange(4).reshape([2,2])\n",
    "vector1 = np.array([1,2])\n",
    "vector2 = np.array([3,4])\n",
    "\n",
    "print(\"Matrix: \", matrix)\n",
    "print(\"Vector1: \", vector1)\n",
    "print(\"Vector2: \", vector2)\n",
    "\n",
    "print(\"Dot product\", np.dot(vector1, vector2))\n",
    "print(\"Matrix-vector multiplication: \", np.matmul(matrix, vector1))\n",
    "print(\"Matrix-matrix multiplication: \", np.matmul(matrix, matrix))\n",
    "print(\"Matrix power: \", np.linalg.matrix_power(matrix, 3))\n",
    "print(\"Determinant: \", np.linalg.det(matrix))\n",
    "print(\"Transpose: \", np.transpose(matrix))\n",
    "print(\"Inverse: \", np.linalg.inv(matrix))\n",
    "print(\"Eigenvectors and eigenvalues: \", np.linalg.eig(matrix))"
   ]
  },
  {
   "cell_type": "markdown",
   "metadata": {
    "id": "prYsG9Ssnx5N"
   },
   "source": [
    "## Exercise: Cartesian Coordinates\n",
    "\n",
    "A location in 3d Cartesian space may be represented by (x,y,z) coordinates. This may be represented by a\n",
    "dimension 1 array with size 3.\n",
    "\n",
    "In the cell below:\n",
    "* Create a 1d array with three elements to represent Position A, which is at (1,2,1)\n",
    "* Calculate the location of Position B, which has a displacement of (3,-4,1) from Position A\n",
    "* Calculate the location of Position C, which is twice as far from the origin as Position B\n",
    "* Calculate the location of position D, which is found by rotating position C 45 $^{o}$ around the z axis (clockwise\n",
    "when viewed from above). To rotate a location around the z axis in this manner by an angle $\\theta$ , it may be\n",
    "multiplied by the matrix:\n",
    "$\n",
    "\\begin{pmatrix}\n",
    "\\cos(\\theta) & -\\sin(\\theta) & 0 \\\\ \n",
    "\\sin(\\theta) & \\cos(\\theta) & 0 \\\\ \n",
    "0 & 0 & 1\n",
    "\\end{pmatrix}\n",
    "$\n",
    "* Calculate the straight line distance between Position D and the origin"
   ]
  },
  {
   "cell_type": "code",
   "execution_count": 29,
   "metadata": {
    "id": "lykqChQktPed"
   },
   "outputs": [
    {
     "name": "stdout",
     "output_type": "stream",
     "text": [
      "[1 2 1]\n",
      "2.449489742783178\n",
      "----\n",
      "[ 4 -2  2]\n",
      "4.898979485566356\n",
      "----\n",
      "[ 8 -4  4]\n",
      "9.797958971132712\n",
      "----\n",
      "[[ 0.63808548 -0.76996553  0.        ]\n",
      " [ 0.76996553  0.63808548  0.        ]\n",
      " [ 0.          0.          1.        ]]\n",
      "[8.18454597 3.60738234 4.        ]\n",
      "9.797958971132713\n",
      "----\n"
     ]
    }
   ],
   "source": [
    "import math\n",
    "import numpy as np\n",
    "\n",
    "A=np.array([1,2,1])\n",
    "print(A)\n",
    "print(np.linalg.norm(A))\n",
    "print(\"----\")\n",
    "\n",
    "B=A+np.array([3,-4,1])\n",
    "print(B)\n",
    "print(np.linalg.norm(B))\n",
    "print(\"----\")\n",
    "\n",
    "C=B*2\n",
    "print(C)\n",
    "print(np.linalg.norm(C))\n",
    "print(\"----\")\n",
    "\n",
    "r_deg=45\n",
    "r_rad=r_deg/(2*math.pi)\n",
    "r_sin=math.sin(r_rad)\n",
    "r_cos=math.cos(r_rad)\n",
    "r_matrix=np.zeros([3,3])\n",
    "r_matrix[2,2]=1\n",
    "r_matrix[:2,:2]=np.array([r_cos,-r_sin,r_sin,r_cos]).reshape(2,2)\n",
    "print(r_matrix)\n",
    "D=np.matmul(r_matrix,C)\n",
    "print(D)\n",
    "print(np.linalg.norm(D))\n",
    "print(\"----\")\n"
   ]
  },
  {
   "cell_type": "markdown",
   "metadata": {},
   "source": [
    "A sample solution can be found in [```Sample Solutions/Sample Solutions 3 - Array Operations.ipynb```](Sample%20Solutions/Sample%20Solutions%203%20-%20Array%20Operations.ipynb)."
   ]
  }
 ],
 "metadata": {
  "colab": {
   "authorship_tag": "ABX9TyOSGsmoKYdTnuz0ywrUaRmc",
   "collapsed_sections": [],
   "name": "Array Operations.ipynb",
   "provenance": []
  },
  "kernelspec": {
   "display_name": "Python 3",
   "language": "python",
   "name": "python3"
  },
  "language_info": {
   "codemirror_mode": {
    "name": "ipython",
    "version": 3
   },
   "file_extension": ".py",
   "mimetype": "text/x-python",
   "name": "python",
   "nbconvert_exporter": "python",
   "pygments_lexer": "ipython3",
   "version": "3.11.10"
  }
 },
 "nbformat": 4,
 "nbformat_minor": 1
}
