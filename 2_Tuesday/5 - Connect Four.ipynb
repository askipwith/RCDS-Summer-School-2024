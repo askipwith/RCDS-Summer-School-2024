{
 "cells": [
  {
   "cell_type": "markdown",
   "metadata": {},
   "source": [
    "# Connect Four Exercise\n",
    "\n",
    "Here's an open-ended exercise using 2D numpy arrays. The idea is to get a bit more practice with writing functions and loops, and thinking about array indexing. \n",
    "\n",
    "Nothing will be marked, it's just for fun. \n",
    "Work alone or in small groups.\n",
    "Do as much as you like.\n"
   ]
  },
  {
   "cell_type": "markdown",
   "metadata": {},
   "source": [
    "For each of the exercises in this notebook, sample solutions can be found in [```Sample Solutions/Sample Solutions 8 - Connect Four.ipynb```](Sample%20Solutions/Sample%20Solutions%208%20-%20Connect%20Four.ipynb)."
   ]
  },
  {
   "cell_type": "markdown",
   "metadata": {},
   "source": [
    "### The scenario\n",
    "\n",
    "<center><img src=\"../Resources/Connect4.jpg\" style=\"height:300px\" /></center>\n",
    "\n",
    "The game [Connect Four](https://en.wikipedia.org/wiki/Connect_Four) is played on a vertical grid with 7 columns and 6 rows.\n",
    "\n",
    "We can represent the state of the game using an integer matrix, where 1 is a red counter, 2 is a yellow counter and 0 is an empty cell.\n",
    "\n",
    "The most natural coordinate system for the game is **(column,row)**, counting columns from left to right and rows from bottom to top. (We'll assume that both players are sitting on the same side of the board.)\n",
    "\n",
    "At the start of the game, the board looks like this:\n"
   ]
  },
  {
   "cell_type": "code",
   "execution_count": 3,
   "metadata": {},
   "outputs": [
    {
     "name": "stdout",
     "output_type": "stream",
     "text": [
      "[[0 0 0 0 0 0]\n",
      " [0 0 0 0 0 0]\n",
      " [0 0 0 0 0 0]\n",
      " [0 0 0 0 0 0]\n",
      " [0 0 0 0 0 0]\n",
      " [0 0 0 0 0 0]\n",
      " [0 0 0 0 0 0]]\n"
     ]
    }
   ],
   "source": [
    "import numpy as np\n",
    "\n",
    "board_0 = np.zeros((7,6),int)  # specifies int data type\n",
    "print(board_0)"
   ]
  },
  {
   "cell_type": "markdown",
   "metadata": {},
   "source": [
    "(Notice that when the array is printed like this, the board is shown rotated by 90 degrees clockwise).\n",
    "\n",
    "Red goes first, placing a counter in the fifth column:"
   ]
  },
  {
   "cell_type": "code",
   "execution_count": 4,
   "metadata": {},
   "outputs": [
    {
     "name": "stdout",
     "output_type": "stream",
     "text": [
      "[[0 0 0 0 0 0]\n",
      " [0 0 0 0 0 0]\n",
      " [0 0 0 0 0 0]\n",
      " [0 0 0 0 0 0]\n",
      " [1 0 0 0 0 0]\n",
      " [0 0 0 0 0 0]\n",
      " [0 0 0 0 0 0]]\n"
     ]
    }
   ],
   "source": [
    "board_1 = board_0.copy()\n",
    "board_1[4,0] = 1\n",
    "print(board_1)"
   ]
  },
  {
   "cell_type": "markdown",
   "metadata": {},
   "source": [
    "After seven moves, the board looks like this:"
   ]
  },
  {
   "cell_type": "code",
   "execution_count": 5,
   "metadata": {},
   "outputs": [
    {
     "name": "stdout",
     "output_type": "stream",
     "text": [
      "[[0 0 0 0 0 0]\n",
      " [1 0 0 0 0 0]\n",
      " [2 1 1 0 0 0]\n",
      " [1 2 0 0 0 0]\n",
      " [2 0 0 0 0 0]\n",
      " [0 0 0 0 0 0]\n",
      " [0 0 0 0 0 0]]\n"
     ]
    }
   ],
   "source": [
    "board_7 = np.array([[0, 0, 0, 0, 0, 0],\n",
    "                    [1, 0, 0, 0, 0, 0],\n",
    "                    [2, 1, 1, 0, 0, 0],\n",
    "                    [1, 2, 0, 0, 0, 0],\n",
    "                    [2, 0, 0, 0, 0, 0],\n",
    "                    [0, 0, 0, 0, 0, 0],\n",
    "                    [0, 0, 0, 0, 0, 0]])\n",
    "print(board_7)"
   ]
  },
  {
   "cell_type": "markdown",
   "metadata": {},
   "source": [
    "### Task 1\n",
    "\n",
    "It's already annoying having to strain my neck to look at these boards. I'm trying to write a function that prints a representation of the board in the correct orientation.\n",
    "\n",
    "I managed to print it without all of those square brackets, but the orientation is still wrong. Please can you fix it for me?\n"
   ]
  },
  {
   "cell_type": "code",
   "execution_count": 6,
   "metadata": {},
   "outputs": [
    {
     "name": "stdout",
     "output_type": "stream",
     "text": [
      "•  •  •  •  •  •  •  \n",
      "•  •  •  •  •  •  •  \n",
      "•  •  •  •  •  •  •  \n",
      "•  •  🔴 •  •  •  •  \n",
      "•  •  🔴 🟡 •  •  •  \n",
      "•  🔴 🟡 🔴 🟡 •  •  \n",
      "\n"
     ]
    }
   ],
   "source": [
    "def display(board):\n",
    "    yellow=\"\\U0001F7E1\"\n",
    "    red=\"\\U0001F534\"\n",
    "    blank = \"\\u2022\\u2009\"\n",
    "    # blank = \"\\u25A3\"\n",
    "    print_chr=[blank, red, yellow]\n",
    "    for i in range(6):\n",
    "        for j in range(7):\n",
    "            print(print_chr[board[j,5-i]], end=\" \")\n",
    "        print()     \n",
    "    print()\n",
    "display(board_7)\n",
    "            "
   ]
  },
  {
   "cell_type": "markdown",
   "metadata": {},
   "source": [
    "### Task 2\n",
    "\n",
    "We could make it easier for a player to make a move.\n",
    "\n",
    "Complete the function `do_move(board, player, column)`, which returns the new state of the board after a move is made in the column specified:"
   ]
  },
  {
   "cell_type": "code",
   "execution_count": 7,
   "metadata": {},
   "outputs": [
    {
     "name": "stdout",
     "output_type": "stream",
     "text": [
      "•  •  •  •  •  •  •  \n",
      "•  •  •  •  •  •  •  \n",
      "•  •  🔴 •  •  •  •  \n",
      "•  •  🔴 •  •  •  •  \n",
      "•  •  🔴 🟡 •  •  •  \n",
      "•  🔴 🟡 🔴 🟡 •  •  \n",
      "\n"
     ]
    }
   ],
   "source": [
    "def do_move(board, player, column):\n",
    "    \"\"\"Returns the new board configuration after the specified move.\n",
    "\n",
    "    Parameters:\n",
    "        board (numpy.ndarray): The current board configuration.\n",
    "        player (int): The player who is moving (1 or 2).\n",
    "        column (int): The column in which they play (0-6).\n",
    "\n",
    "    Returns:\n",
    "        numpy.ndarray: The board configuration after the move. \"\"\"\n",
    "    \n",
    "    new_board = board.copy()\n",
    "    \n",
    "    # do some things here...\n",
    "\n",
    "    for i in range(7): # deliberately 1 more than allowed to throw an error if column is full\n",
    "        try:\n",
    "            if new_board[column,i]==0:\n",
    "                new_board[column,i]=player\n",
    "                break\n",
    "        except:\n",
    "            print(\"Illegal move!\")\n",
    "\n",
    "    return new_board\n",
    "    \n",
    "board_8 = do_move(board_7, 1, 2)\n",
    "display(board_8)"
   ]
  },
  {
   "cell_type": "markdown",
   "metadata": {},
   "source": [
    "### Task 3\n",
    "\n",
    "Write a function `get_move(board, player)` that returns a legal move (column index) for the given player."
   ]
  },
  {
   "cell_type": "code",
   "execution_count": 10,
   "metadata": {},
   "outputs": [
    {
     "name": "stdout",
     "output_type": "stream",
     "text": [
      "column: 0\n",
      "score: 3.0\n",
      "found better\n",
      "column: 1\n",
      "score: 7.0\n",
      "found better\n",
      "column: 2\n",
      "score: 8.0\n",
      "found better\n",
      "column: 3\n",
      "score: 7.0\n",
      "column: 4\n",
      "score: 10.0\n",
      "found better\n",
      "column: 5\n",
      "score: 7.0\n",
      "column: 6\n",
      "score: 4.0\n",
      "•  •  •  •  •  •  •  \n",
      "•  •  •  •  •  •  •  \n",
      "•  •  🔴 •  •  •  •  \n",
      "•  •  🔴 •  •  •  •  \n",
      "•  •  🔴 🟡 🟡 •  •  \n",
      "•  🔴 🟡 🔴 🟡 •  •  \n",
      "\n"
     ]
    }
   ],
   "source": [
    "def in_range(x, max):\n",
    "    return x >= 0 and x < max\n",
    "\n",
    "def eval_line(board, player, column, row, column_dir, row_dir):\n",
    "    \n",
    "    eval_score = 0\n",
    "    check_column = column + column_dir\n",
    "    check_row = row + row_dir\n",
    "    match_score = 2\n",
    "    while in_range(check_column,7) and in_range(check_row,6) and (board[check_column,check_row]==player or board[check_column,check_row]==0):\n",
    "        if board[check_column,check_row]==0:\n",
    "            eval_score += match_score / 2\n",
    "            break\n",
    "        else:\n",
    "            eval_score += match_score\n",
    "            match_score += 1\n",
    "            check_column += column_dir\n",
    "            check_row += row_dir\n",
    "    return eval_score\n",
    "\n",
    "def eval_board(board, player, column, row):\n",
    "    eval_score = 1\n",
    "    for i in range(-1,2):\n",
    "        for j in range(-1,2):\n",
    "            if i==0 and j==0:\n",
    "                continue\n",
    "            eval_score += eval_line(board, player, column, row, i, j)\n",
    "    print(f\"score: {eval_score}\")\n",
    "    return eval_score\n",
    "\n",
    "def get_move(board, player):\n",
    "    best_col = -1\n",
    "    best_eval = -1\n",
    "    for column in range(7):\n",
    "        temp_board=board.copy()\n",
    "        for row in range(6):\n",
    "                if board[column, row] == 0:\n",
    "                    print(f\"column: {column}\")\n",
    "                    temp_board[column,row] = player\n",
    "                    temp_eval = eval_board(temp_board, player, column, row)\n",
    "                    if temp_eval > best_eval:\n",
    "                        print(\"found better\")\n",
    "                        best_eval = temp_eval\n",
    "                        best_col = column\n",
    "                    break\n",
    "    if best_col == -1:\n",
    "        print(\"Board is full!\")\n",
    "        return None\n",
    "    \n",
    "    return best_col\n",
    "            \n",
    "column = get_move(board_8, 1)\n",
    "board_9 = do_move(board_8, 1, column)\n",
    "display(board_9)"
   ]
  },
  {
   "cell_type": "markdown",
   "metadata": {},
   "source": [
    "### Task 4 (harder)\n",
    "\n",
    "Write a function `winner(board)` that returns an integer:\n",
    "\n",
    "* -1 if the game is not yet over.\n",
    "* 0 if the game is a draw.\n",
    "* 1 if red has won.\n",
    "* 2 if yellow has won.\n",
    "\n"
   ]
  },
  {
   "cell_type": "code",
   "execution_count": null,
   "metadata": {},
   "outputs": [],
   "source": []
  },
  {
   "cell_type": "markdown",
   "metadata": {},
   "source": [
    "### Task 5\n",
    "\n",
    "You have *almost* made a Connect Four simulation. \n",
    "Can you finish it so that I can play against the computer? \n"
   ]
  },
  {
   "cell_type": "code",
   "execution_count": 9,
   "metadata": {},
   "outputs": [
    {
     "ename": "ValueError",
     "evalue": "invalid literal for int() with base 10: ''",
     "output_type": "error",
     "traceback": [
      "\u001b[0;31m---------------------------------------------------------------------------\u001b[0m",
      "\u001b[0;31mValueError\u001b[0m                                Traceback (most recent call last)",
      "Cell \u001b[0;32mIn[9], line 3\u001b[0m\n\u001b[1;32m      1\u001b[0m \u001b[38;5;66;03m# Might be useful...\u001b[39;00m\n\u001b[1;32m      2\u001b[0m response \u001b[38;5;241m=\u001b[39m \u001b[38;5;28minput\u001b[39m(\u001b[38;5;124m\"\u001b[39m\u001b[38;5;124mPlease enter a column number:\u001b[39m\u001b[38;5;124m\"\u001b[39m)\n\u001b[0;32m----> 3\u001b[0m col \u001b[38;5;241m=\u001b[39m \u001b[38;5;28;43mint\u001b[39;49m\u001b[43m(\u001b[49m\u001b[43mresponse\u001b[49m\u001b[43m)\u001b[49m\n\u001b[1;32m      4\u001b[0m \u001b[38;5;28mprint\u001b[39m(col)\n",
      "\u001b[0;31mValueError\u001b[0m: invalid literal for int() with base 10: ''"
     ]
    }
   ],
   "source": [
    "# Might be useful...\n",
    "response = input(\"Please enter a column number:\")\n",
    "col = int(response)\n",
    "print(col)"
   ]
  },
  {
   "cell_type": "markdown",
   "metadata": {},
   "source": [
    "### Task 6\n",
    "\n",
    "Can you improve your `get_move` function to make a more strategic move?"
   ]
  },
  {
   "cell_type": "code",
   "execution_count": null,
   "metadata": {},
   "outputs": [],
   "source": []
  }
 ],
 "metadata": {
  "kernelspec": {
   "display_name": "Python 3",
   "language": "python",
   "name": "python3"
  },
  "language_info": {
   "codemirror_mode": {
    "name": "ipython",
    "version": 3
   },
   "file_extension": ".py",
   "mimetype": "text/x-python",
   "name": "python",
   "nbconvert_exporter": "python",
   "pygments_lexer": "ipython3",
   "version": "3.11.10"
  }
 },
 "nbformat": 4,
 "nbformat_minor": 4
}
