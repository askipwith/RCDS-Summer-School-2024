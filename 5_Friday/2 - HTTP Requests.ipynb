{
 "cells": [
  {
   "cell_type": "markdown",
   "metadata": {},
   "source": [
    "# HTTP Requests\n",
    "---\n",
    "This notebook introduces the `requests` library, which we can use to retrieve data from the web."
   ]
  },
  {
   "cell_type": "markdown",
   "metadata": {},
   "source": [
    "Some data resources are provided online as **APIs** (Application Programming Interfaces), which can be accessed using a protocol called HTTP (HyperText Transfer Protocol). These interfaces may allow us to retrieve information in various ways, for example by asking for a particular record or making a search.\n",
    "\n",
    "In this notebook we will look at an API provided by the [US Geological Survey](https://www.usgs.gov/programs/earthquake-hazards) providing continually-updated information about earthquakes around the world.\n",
    "\n",
    "Firstly, take a look at the web form for searching manually. Go to https://earthquake.usgs.gov/earthquakes/search/\n",
    "\n",
    "Notice all of the different search options and try some searches out.\n",
    "\n",
    "The results are presented as a list and an interactive map.\n",
    "\n",
    "<img src='../resources/earthquakes.png'>"
   ]
  },
  {
   "cell_type": "markdown",
   "metadata": {},
   "source": [
    "---\n",
    "## Making a request\n",
    "But what if we want to retrieve the data themselves? Here is an example using `requests`:"
   ]
  },
  {
   "cell_type": "code",
   "execution_count": 1,
   "metadata": {},
   "outputs": [
    {
     "name": "stdout",
     "output_type": "stream",
     "text": [
      "time,latitude,longitude,depth,mag,magType,nst,gap,dmin,rms,net,id,updated,place,type,horizontalError,depthError,magError,magNst,status,locationSource,magSource\n",
      "2023-09-27T23:59:04.387Z,4.9975,-82.7707,10,4.5,mb,22,170,3.435,0.92,us,us6000lb8x,2023-12-09T22:00:40.040Z,\"south of Panama\",earthquake,8.23,1.936,0.204,7,reviewed,us,us\n",
      "2023-09-27T22:32:59.631Z,-2.7226,128.7449,23.65,4.7,mb,61,51,2.13,0.62,us,us6000lb8b,2023-12-09T22:00:40.040Z,\"68 km NNW of Masohi, Indonesia\",earthquake,5.93,4.696,0.078,49,reviewed,us,us\n",
      "2023-09-27T21:27:14.946Z,-61.3586,154.8163,10,4.5,mb,15,139,17.011,0.82,us,us6000lcg7,2023-12-09T22:00:42.040Z,\"Balleny Islands region\",earthquake,7.45,1.969,0.15,13,reviewed,us,us\n",
      "2023-09-27T18:00:40.270Z,-18.8999,-178.0139,613.904,4.8,mb,104,44,3.475,0.81,us,us6000lb63,2023-12-09T22:00:40.040Z,\"296 km ESE of Levuka, Fiji\",earthquake,10.69,5.921,0.046,147,reviewed,us,us\n",
      "2023-09-27T17:47:21.596Z,0.8622,93.1129,10,5.5,mww,101,25,4.483,0.68,us,us6000lb60,2023-12-09T22:00:40.040Z,\"off the west coast of northern Sumatra\",earthquake,8.95,1.804,0.061,26,reviewed,us,us\n",
      "2023-09-27T17:37:35.528Z,-53.5274,-134.774,10,5.6,mww,27,120,31.771,0.89,us,us6000lb6a,2023-12-09T22:00:40.040Z,\"Pacific-Antarctic Ridge\",earthquake,10.9,1.693,0.086,13,reviewed,us,us\n",
      "2023-09-27T16:15:20.238Z,-3.3385,128.858,17.573,5,mb,114,44,1.573,0.63,us,us6000lb4e,2023-12-09T22:00:40.040Z,\"6 km W of Amahai, Indonesia\",earthquake,6.24,4.056,0.06,89,reviewed,us,us\n",
      "2023-09-27T16:04:04.167Z,14.9835,-94.0217,44.712,4.6,mb,135,187,1.795,0.85,us,us6000lb4c,2023-12-09T22:00:40.040Z,\"102 km SSW of Manuel Ávila Camacho (Ponte Duro), Mexico\",earthquake,8.06,10.628,0.05,121,reviewed,us,us\n",
      "2023-09-27T15:34:31.459Z,30.7648,141.9059,10,4.5,mb,55,144,2.942,0.67,us,us6000lb46,2023-12-09T22:00:40.040Z,\"Izu Islands, Japan region\",earthquake,7.21,1.889,0.094,33,reviewed,us,us\n",
      "2023-09-27T09:51:05.341Z,56.4507,-168.2598,8.79,4.6,mww,199,45,0.73,0.53,us,us6000lb2a,2023-12-09T22:00:40.040Z,\"80 km ESE of Saint George, Alaska\",earthquake,4.77,4.188,0.071,19,reviewed,us,us\n",
      "2023-09-27T08:38:46.376Z,-19.0013,169.0513,126.681,4.5,mb,34,113,3.894,0.63,us,us6000lb27,2023-12-09T22:00:40.040Z,\"64 km NNW of Isangel, Vanuatu\",earthquake,11.66,6.658,0.116,22,reviewed,us,us\n",
      "2023-09-27T05:40:03.000Z,-4.3201,153.1166,10,4.5,mb,54,90,0.959,1.12,us,us6000lb1j,2023-12-09T22:00:40.040Z,\"94 km E of Kokopo, Papua New Guinea\",earthquake,5.21,1.734,0.089,38,reviewed,us,us\n",
      "2023-09-27T05:32:35.251Z,-27.2504,-177.5016,10.372,4.7,mb,28,76,2.023,0.83,us,us6000lcfp,2023-12-09T22:00:42.040Z,\"Kermadec Islands region\",earthquake,8.88,3.67,0.138,16,reviewed,us,us\n",
      "2023-09-27T05:25:25.162Z,-27.1803,-177.4561,10,4.5,mb,17,135,2.099,0.85,us,us6000lcfq,2023-12-09T22:00:42.040Z,\"Kermadec Islands region\",earthquake,6.79,1.882,0.222,7,reviewed,us,us\n",
      "2023-09-27T02:54:44.172Z,31.4154,141.7419,11.753,5,mb,76,119,2.354,0.55,us,us6000lb14,2023-12-09T22:00:40.040Z,\"Izu Islands, Japan region\",earthquake,8.07,4.062,0.037,234,reviewed,us,us\n",
      "2023-09-27T02:14:27.898Z,54.9808,-160.3805,53.325,4.7,mww,164,56,0.373,0.73,us,us6000lb0w,2023-12-09T22:00:40.040Z,\"40 km S of Sand Point, Alaska\",earthquake,5.05,1.792,0.083,14,reviewed,us,us\n",
      "2023-09-27T00:33:24.900Z,23.2631,142.3826,125.781,4.5,mb,30,108,3.82,0.84,us,us6000lb0j,2023-12-09T22:00:40.040Z,\"Volcano Islands, Japan region\",earthquake,13.62,6.929,0.136,16,reviewed,us,us\n",
      "\n"
     ]
    }
   ],
   "source": [
    "import requests\n",
    "\n",
    "# An endpoint is a URL that accepts requests\n",
    "endpoint = \"https://earthquake.usgs.gov/fdsnws/event/1/query?\"\n",
    "\n",
    "# The parameters for our search, in the form of a python dictionary\n",
    "ps = { \"format\": \"csv\", \n",
    "       \"starttime\": \"2023-09-27\", \n",
    "       \"endtime\": \"2023-09-28\",\n",
    "       \"minmagnitude\": 4.5  \n",
    "     }\n",
    "\n",
    "response = requests.get(endpoint, params=ps)\n",
    "\n",
    "print(response.text)\n"
   ]
  },
  {
   "cell_type": "markdown",
   "metadata": {},
   "source": [
    "An *endpoint* is a particular URL (web address) that will accept a request in a particular format and return a *response*. \n",
    "\n",
    "The USGS endpoint is able to return data in CSV format, which we can access using the `.text` attribute.\n",
    "\n",
    "The parameter options for this endpoint are explained \n",
    "[here](https://earthquake.usgs.gov/fdsnws/event/1/?ref=springboard)."
   ]
  },
  {
   "cell_type": "markdown",
   "metadata": {},
   "source": [
    "---\n",
    "## Converting to a DataFrame\n",
    "If we want to create a DataFrame from this CSV text, we can do the following:"
   ]
  },
  {
   "cell_type": "code",
   "execution_count": null,
   "metadata": {},
   "outputs": [],
   "source": [
    "import pandas as pd\n",
    "import io\n",
    "\n",
    "# make a string buffer from the CSV text\n",
    "buf = io.StringIO(response.text) \n",
    "\n",
    "# pandas can now read the data from the buffer\n",
    "data = pd.read_csv(buf)          \n",
    "\n",
    "data"
   ]
  },
  {
   "cell_type": "markdown",
   "metadata": {},
   "source": [
    "---\n",
    "### JSON\n",
    "\n",
    "We are getting comfortable with CSV format, but there are many other data formats that are in common use.\n",
    "\n",
    "When working with APIs, we often encounter the **JSON** (JavaScript Object Notation) format. \n",
    "\n",
    "The USGS endpoint can return responses in [GeoJSON](https://en.wikipedia.org/wiki/GeoJSON), a particular flavour of JSON which is used to describe geolocated objects."
   ]
  },
  {
   "cell_type": "code",
   "execution_count": null,
   "metadata": {},
   "outputs": [],
   "source": [
    "endpoint = \"https://earthquake.usgs.gov/fdsnws/event/1/query?\"\n",
    "\n",
    "ps = { \"format\": \"geojson\", \n",
    "       \"starttime\": \"2023-09-27\", \n",
    "       \"endtime\": \"2023-09-28\",\n",
    "       \"minmagnitude\": 4.8  \n",
    "     }\n",
    "\n",
    "response = requests.get(endpoint, params=ps)\n",
    "\n",
    "print(response.text)\n"
   ]
  },
  {
   "cell_type": "markdown",
   "metadata": {
    "jupyter": {
     "outputs_hidden": true
    }
   },
   "source": [
    "Notice that JSON data consists of nested dictionaries (marked by **{ }**) and lists (marked by **\\[ ]**).\n",
    "It is a very flexible format, and can be used to describe data structures that are more complex than just tables.\n"
   ]
  },
  {
   "cell_type": "markdown",
   "metadata": {},
   "source": [
    "If you need to work with JSON data, the built-in `json` module is very handy."
   ]
  },
  {
   "cell_type": "code",
   "execution_count": null,
   "metadata": {},
   "outputs": [],
   "source": [
    "import json\n",
    "data_dict = json.loads(response.text)\n",
    "data_dict"
   ]
  },
  {
   "cell_type": "markdown",
   "metadata": {},
   "source": [
    "*data_dict* is now just a python dictionary, which we can manipulate as we like.\n",
    "For example, to print the magnitude of all earthquakes in the response:"
   ]
  },
  {
   "cell_type": "code",
   "execution_count": null,
   "metadata": {},
   "outputs": [],
   "source": [
    "for eq in data_dict['features']:\n",
    "    print(eq['properties']['mag'])"
   ]
  },
  {
   "cell_type": "markdown",
   "metadata": {},
   "source": [
    "If needed, we can also convert a JSON dictionary to a pandas DataFrame using [`json_normalize`](https://pandas.pydata.org/docs/reference/api/pandas.json_normalize.html#pandas.json_normalize):"
   ]
  },
  {
   "cell_type": "code",
   "execution_count": null,
   "metadata": {},
   "outputs": [],
   "source": [
    "# the 'record_path' argument shows how to locate the table rows within the dict\n",
    "pd.json_normalize(data_dict, record_path=['features'])"
   ]
  },
  {
   "cell_type": "code",
   "execution_count": null,
   "metadata": {},
   "outputs": [],
   "source": []
  }
 ],
 "metadata": {
  "kernelspec": {
   "display_name": "Python 3",
   "language": "python",
   "name": "python3"
  },
  "language_info": {
   "codemirror_mode": {
    "name": "ipython",
    "version": 3
   },
   "file_extension": ".py",
   "mimetype": "text/x-python",
   "name": "python",
   "nbconvert_exporter": "python",
   "pygments_lexer": "ipython3",
   "version": "3.11.10"
  }
 },
 "nbformat": 4,
 "nbformat_minor": 4
}
